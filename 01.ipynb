{
  "nbformat": 4,
  "nbformat_minor": 0,
  "metadata": {
    "colab": {
      "provenance": [],
      "authorship_tag": "ABX9TyN16e313BQ+Wo2IKSXAnmik",
      "include_colab_link": true
    },
    "kernelspec": {
      "name": "python3",
      "display_name": "Python 3"
    },
    "language_info": {
      "name": "python"
    }
  },
  "cells": [
    {
      "cell_type": "markdown",
      "metadata": {
        "id": "view-in-github",
        "colab_type": "text"
      },
      "source": [
        "<a href=\"https://colab.research.google.com/github/mirpouya/TensorFlow-Tutorial/blob/main/01.ipynb\" target=\"_parent\"><img src=\"https://colab.research.google.com/assets/colab-badge.svg\" alt=\"Open In Colab\"/></a>"
      ]
    },
    {
      "cell_type": "code",
      "execution_count": null,
      "metadata": {
        "id": "qElfIHftjflk"
      },
      "outputs": [],
      "source": [
        "import tensorflow as tf"
      ]
    },
    {
      "cell_type": "code",
      "source": [
        "tensor_zero_d = tf.constant(5)\n",
        "tensor_zero_d"
      ],
      "metadata": {
        "colab": {
          "base_uri": "https://localhost:8080/"
        },
        "id": "QFknrrugl5iK",
        "outputId": "f54ee53d-e420-4eaf-caf9-40c5fc731fdf"
      },
      "execution_count": null,
      "outputs": [
        {
          "output_type": "execute_result",
          "data": {
            "text/plain": [
              "<tf.Tensor: shape=(), dtype=int32, numpy=5>"
            ]
          },
          "metadata": {},
          "execution_count": 2
        }
      ]
    },
    {
      "cell_type": "markdown",
      "source": [
        "as you can see it has no shape"
      ],
      "metadata": {
        "id": "o9SbvvkkmKsj"
      }
    },
    {
      "cell_type": "code",
      "source": [
        "tensor_one_d = tf.constant([1, 2, 3])\n",
        "tensor_one_d"
      ],
      "metadata": {
        "colab": {
          "base_uri": "https://localhost:8080/"
        },
        "id": "nt-I49uwmC6K",
        "outputId": "81d97156-35ee-4cb4-cbae-9858a349950e"
      },
      "execution_count": null,
      "outputs": [
        {
          "output_type": "execute_result",
          "data": {
            "text/plain": [
              "<tf.Tensor: shape=(3,), dtype=int32, numpy=array([1, 2, 3], dtype=int32)>"
            ]
          },
          "metadata": {},
          "execution_count": 3
        }
      ]
    },
    {
      "cell_type": "code",
      "source": [
        "tensor_two_d = tf.constant([\n",
        "    [1, 2, 3, 4],\n",
        "    [-1, -2, -3, -4],\n",
        "    [11, 22, 33, 44]\n",
        "])\n",
        "\n",
        "tensor_two_d"
      ],
      "metadata": {
        "colab": {
          "base_uri": "https://localhost:8080/"
        },
        "id": "-6YKPrW4mTOi",
        "outputId": "85c8c6bf-b3ab-4103-c98c-c93a95087d4f"
      },
      "execution_count": null,
      "outputs": [
        {
          "output_type": "execute_result",
          "data": {
            "text/plain": [
              "<tf.Tensor: shape=(3, 4), dtype=int32, numpy=\n",
              "array([[ 1,  2,  3,  4],\n",
              "       [-1, -2, -3, -4],\n",
              "       [11, 22, 33, 44]], dtype=int32)>"
            ]
          },
          "metadata": {},
          "execution_count": 4
        }
      ]
    },
    {
      "cell_type": "code",
      "source": [
        "tensor_three_d = tf.constant([\n",
        "    [\n",
        "        [1, 2, 3, 4],\n",
        "        [11, 22, 33, 44],\n",
        "        [111, 222, 333, 444]\n",
        "    ],\n",
        "\n",
        "    [\n",
        "        [-1, -2, -3, -4],\n",
        "        [-11, -22, -33, -44],\n",
        "        [-111, -222, -333, -444]\n",
        "    ]\n",
        "])\n",
        "\n",
        "tensor_three_d"
      ],
      "metadata": {
        "colab": {
          "base_uri": "https://localhost:8080/"
        },
        "id": "8b-Vozwom8Dr",
        "outputId": "0b2fedf3-5737-483e-ebbd-f814fb6f2a53"
      },
      "execution_count": null,
      "outputs": [
        {
          "output_type": "execute_result",
          "data": {
            "text/plain": [
              "<tf.Tensor: shape=(2, 3, 4), dtype=int32, numpy=\n",
              "array([[[   1,    2,    3,    4],\n",
              "        [  11,   22,   33,   44],\n",
              "        [ 111,  222,  333,  444]],\n",
              "\n",
              "       [[  -1,   -2,   -3,   -4],\n",
              "        [ -11,  -22,  -33,  -44],\n",
              "        [-111, -222, -333, -444]]], dtype=int32)>"
            ]
          },
          "metadata": {},
          "execution_count": 5
        }
      ]
    },
    {
      "cell_type": "code",
      "source": [
        "tensor_zero_d.ndim, tensor_one_d.ndim, tensor_two_d.ndim, tensor_three_d.ndim"
      ],
      "metadata": {
        "colab": {
          "base_uri": "https://localhost:8080/"
        },
        "id": "CwSjaVGJnj_a",
        "outputId": "1d8491ca-5dd0-4758-8ba9-a24ebfd0eddb"
      },
      "execution_count": null,
      "outputs": [
        {
          "output_type": "execute_result",
          "data": {
            "text/plain": [
              "(0, 1, 2, 3)"
            ]
          },
          "metadata": {},
          "execution_count": 6
        }
      ]
    },
    {
      "cell_type": "code",
      "source": [
        "import numpy as np"
      ],
      "metadata": {
        "id": "DPsbAhWOoKLg"
      },
      "execution_count": null,
      "outputs": []
    },
    {
      "cell_type": "code",
      "source": [
        "np_array = np.array([1, 2, 3, 4])\n",
        "np_array"
      ],
      "metadata": {
        "colab": {
          "base_uri": "https://localhost:8080/"
        },
        "id": "JdQ5WOsHrgzF",
        "outputId": "bb5da542-bd64-4f4b-9d75-3ec3cb2d8b91"
      },
      "execution_count": null,
      "outputs": [
        {
          "output_type": "execute_result",
          "data": {
            "text/plain": [
              "array([1, 2, 3, 4])"
            ]
          },
          "metadata": {},
          "execution_count": 8
        }
      ]
    },
    {
      "cell_type": "code",
      "source": [
        "np_array.shape"
      ],
      "metadata": {
        "colab": {
          "base_uri": "https://localhost:8080/"
        },
        "id": "_-ht9OK5rkx8",
        "outputId": "ad448d12-a831-440d-b005-ba90c41c9e16"
      },
      "execution_count": null,
      "outputs": [
        {
          "output_type": "execute_result",
          "data": {
            "text/plain": [
              "(4,)"
            ]
          },
          "metadata": {},
          "execution_count": 9
        }
      ]
    },
    {
      "cell_type": "code",
      "source": [
        "# convert to tensor\n",
        "tf_array = tf.convert_to_tensor(np_array)\n",
        "tf_array"
      ],
      "metadata": {
        "colab": {
          "base_uri": "https://localhost:8080/"
        },
        "id": "3DOtwBRcrsuK",
        "outputId": "f5816bd0-f30d-4766-f3ce-ca84ab260fb2"
      },
      "execution_count": null,
      "outputs": [
        {
          "output_type": "execute_result",
          "data": {
            "text/plain": [
              "<tf.Tensor: shape=(4,), dtype=int64, numpy=array([1, 2, 3, 4])>"
            ]
          },
          "metadata": {},
          "execution_count": 10
        }
      ]
    },
    {
      "cell_type": "code",
      "source": [
        "eye_tensor = tf.eye(\n",
        "    num_rows = 3,\n",
        "    num_columns= 4,\n",
        "    dtype = tf.float32,\n",
        "    name = \"bababa\"\n",
        ")\n",
        "\n",
        "eye_tensor"
      ],
      "metadata": {
        "colab": {
          "base_uri": "https://localhost:8080/"
        },
        "id": "-tC4U8VurzYq",
        "outputId": "5aa89262-5eee-417a-c30c-68b37a67d548"
      },
      "execution_count": null,
      "outputs": [
        {
          "output_type": "execute_result",
          "data": {
            "text/plain": [
              "<tf.Tensor: shape=(3, 4), dtype=float32, numpy=\n",
              "array([[1., 0., 0., 0.],\n",
              "       [0., 1., 0., 0.],\n",
              "       [0., 0., 1., 0.]], dtype=float32)>"
            ]
          },
          "metadata": {},
          "execution_count": 11
        }
      ]
    },
    {
      "cell_type": "code",
      "source": [
        "# fill method\n",
        "\n",
        "fill_tensor = tf.fill(\n",
        "    [2, 3, 4], 3\n",
        ")\n",
        "\n",
        "fill_tensor"
      ],
      "metadata": {
        "colab": {
          "base_uri": "https://localhost:8080/"
        },
        "id": "jIveqpMvsMwb",
        "outputId": "88d0daef-4f69-44b5-cb61-4bf965a9b431"
      },
      "execution_count": null,
      "outputs": [
        {
          "output_type": "execute_result",
          "data": {
            "text/plain": [
              "<tf.Tensor: shape=(2, 3, 4), dtype=int32, numpy=\n",
              "array([[[3, 3, 3, 3],\n",
              "        [3, 3, 3, 3],\n",
              "        [3, 3, 3, 3]],\n",
              "\n",
              "       [[3, 3, 3, 3],\n",
              "        [3, 3, 3, 3],\n",
              "        [3, 3, 3, 3]]], dtype=int32)>"
            ]
          },
          "metadata": {},
          "execution_count": 12
        }
      ]
    },
    {
      "cell_type": "code",
      "source": [
        "# ones_like method\n",
        "\n",
        "ones_like_tensor = tf.ones_like(\n",
        "    fill_tensor\n",
        ")\n",
        "\n",
        "ones_like_tensor"
      ],
      "metadata": {
        "colab": {
          "base_uri": "https://localhost:8080/"
        },
        "id": "prgw6oVctRhK",
        "outputId": "2a8e3cbb-d608-4cd7-8d2f-b691d2daee98"
      },
      "execution_count": null,
      "outputs": [
        {
          "output_type": "execute_result",
          "data": {
            "text/plain": [
              "<tf.Tensor: shape=(2, 3, 4), dtype=int32, numpy=\n",
              "array([[[1, 1, 1, 1],\n",
              "        [1, 1, 1, 1],\n",
              "        [1, 1, 1, 1]],\n",
              "\n",
              "       [[1, 1, 1, 1],\n",
              "        [1, 1, 1, 1],\n",
              "        [1, 1, 1, 1]]], dtype=int32)>"
            ]
          },
          "metadata": {},
          "execution_count": 13
        }
      ]
    },
    {
      "cell_type": "code",
      "source": [
        "ones_like_tensor.shape, tf.size(ones_like_tensor)"
      ],
      "metadata": {
        "colab": {
          "base_uri": "https://localhost:8080/"
        },
        "id": "lBgOtB1Lv5qD",
        "outputId": "de4163f4-6cf5-4025-c9f2-93e997239220"
      },
      "execution_count": null,
      "outputs": [
        {
          "output_type": "execute_result",
          "data": {
            "text/plain": [
              "(TensorShape([2, 3, 4]), <tf.Tensor: shape=(), dtype=int32, numpy=24>)"
            ]
          },
          "metadata": {},
          "execution_count": 14
        }
      ]
    },
    {
      "cell_type": "code",
      "source": [
        "# normal random tensor\n",
        "\n",
        "normal_random_tensor = tf.random.normal(\n",
        "    [2, 3],\n",
        "    mean = 0.0,\n",
        "    stddev = 1.0,\n",
        "    seed = None,\n",
        "    name = None\n",
        ")\n",
        "\n",
        "normal_random_tensor"
      ],
      "metadata": {
        "colab": {
          "base_uri": "https://localhost:8080/"
        },
        "id": "bIONC2yhygF7",
        "outputId": "2833c032-0cda-4251-98d7-b1b8215ba4d5"
      },
      "execution_count": null,
      "outputs": [
        {
          "output_type": "execute_result",
          "data": {
            "text/plain": [
              "<tf.Tensor: shape=(2, 3), dtype=float32, numpy=\n",
              "array([[ 0.98761696, -0.9384622 , -1.2105776 ],\n",
              "       [ 1.1914092 , -1.5789397 , -0.4133352 ]], dtype=float32)>"
            ]
          },
          "metadata": {},
          "execution_count": 15
        }
      ]
    },
    {
      "cell_type": "markdown",
      "source": [
        "<h2> Tensor Indexing </b>"
      ],
      "metadata": {
        "id": "9LiZosxBy6RQ"
      }
    },
    {
      "cell_type": "code",
      "source": [
        "tf_tensor = tf.constant([2, 20, 200, 2000, 20000])\n",
        "tf_tensor[0: 4]"
      ],
      "metadata": {
        "colab": {
          "base_uri": "https://localhost:8080/"
        },
        "id": "D25BqxJ4y6EA",
        "outputId": "dadda46e-44d0-4743-ac2e-f0759025fff5"
      },
      "execution_count": null,
      "outputs": [
        {
          "output_type": "execute_result",
          "data": {
            "text/plain": [
              "<tf.Tensor: shape=(4,), dtype=int32, numpy=array([   2,   20,  200, 2000], dtype=int32)>"
            ]
          },
          "metadata": {},
          "execution_count": 16
        }
      ]
    },
    {
      "cell_type": "code",
      "source": [
        "tf_tensor[0: 4: 2]"
      ],
      "metadata": {
        "colab": {
          "base_uri": "https://localhost:8080/"
        },
        "id": "HRLY9RBW0Kvn",
        "outputId": "0a6c685f-8a0f-4679-bb8e-307101d42c13"
      },
      "execution_count": null,
      "outputs": [
        {
          "output_type": "execute_result",
          "data": {
            "text/plain": [
              "<tf.Tensor: shape=(2,), dtype=int32, numpy=array([  2, 200], dtype=int32)>"
            ]
          },
          "metadata": {},
          "execution_count": 17
        }
      ]
    },
    {
      "cell_type": "code",
      "source": [
        "tf_2d_tensor = tf.reshape(tf.range(1, 24+1), [4, 6])\n",
        "tf_2d_tensor"
      ],
      "metadata": {
        "colab": {
          "base_uri": "https://localhost:8080/"
        },
        "id": "F1EyVpIFz-XT",
        "outputId": "269005e2-964b-4af7-cc5a-2a133eb82212"
      },
      "execution_count": null,
      "outputs": [
        {
          "output_type": "execute_result",
          "data": {
            "text/plain": [
              "<tf.Tensor: shape=(4, 6), dtype=int32, numpy=\n",
              "array([[ 1,  2,  3,  4,  5,  6],\n",
              "       [ 7,  8,  9, 10, 11, 12],\n",
              "       [13, 14, 15, 16, 17, 18],\n",
              "       [19, 20, 21, 22, 23, 24]], dtype=int32)>"
            ]
          },
          "metadata": {},
          "execution_count": 18
        }
      ]
    },
    {
      "cell_type": "code",
      "source": [
        "# indexing\n",
        "tf_2d_tensor[1:3, 2: 5]"
      ],
      "metadata": {
        "colab": {
          "base_uri": "https://localhost:8080/"
        },
        "id": "OGQlLPX_1EIq",
        "outputId": "a3648c80-78ff-4f47-96ae-3dc2a0f5e415"
      },
      "execution_count": null,
      "outputs": [
        {
          "output_type": "execute_result",
          "data": {
            "text/plain": [
              "<tf.Tensor: shape=(2, 3), dtype=int32, numpy=\n",
              "array([[ 9, 10, 11],\n",
              "       [15, 16, 17]], dtype=int32)>"
            ]
          },
          "metadata": {},
          "execution_count": 19
        }
      ]
    },
    {
      "cell_type": "code",
      "source": [
        "# getting 23 in the 4th row and 5th column\n",
        "tf_2d_tensor[3, 4]"
      ],
      "metadata": {
        "colab": {
          "base_uri": "https://localhost:8080/"
        },
        "id": "KShvnu6u17lk",
        "outputId": "fca82b53-6d5d-4040-e70c-654bda2fc5a1"
      },
      "execution_count": null,
      "outputs": [
        {
          "output_type": "execute_result",
          "data": {
            "text/plain": [
              "<tf.Tensor: shape=(), dtype=int32, numpy=23>"
            ]
          },
          "metadata": {},
          "execution_count": 20
        }
      ]
    },
    {
      "cell_type": "code",
      "source": [
        "# picking every row, or any dimension\n",
        "tf_2d_tensor[..., 3]"
      ],
      "metadata": {
        "colab": {
          "base_uri": "https://localhost:8080/"
        },
        "id": "mezCmMJq28dv",
        "outputId": "2493a2da-69d5-4b50-a83d-c030c71adf57"
      },
      "execution_count": null,
      "outputs": [
        {
          "output_type": "execute_result",
          "data": {
            "text/plain": [
              "<tf.Tensor: shape=(4,), dtype=int32, numpy=array([ 4, 10, 16, 22], dtype=int32)>"
            ]
          },
          "metadata": {},
          "execution_count": 21
        }
      ]
    },
    {
      "cell_type": "code",
      "source": [
        "# 2d tensor indexing\n",
        "\n",
        "tf_3d_tensor = tf.reshape(tf.range(1, 30+1), [3, 5, 2])\n",
        "tf_3d_tensor"
      ],
      "metadata": {
        "colab": {
          "base_uri": "https://localhost:8080/"
        },
        "id": "oZJBy9v53xs5",
        "outputId": "67a17577-39f4-472a-fc79-3af52c0e7616"
      },
      "execution_count": null,
      "outputs": [
        {
          "output_type": "execute_result",
          "data": {
            "text/plain": [
              "<tf.Tensor: shape=(3, 5, 2), dtype=int32, numpy=\n",
              "array([[[ 1,  2],\n",
              "        [ 3,  4],\n",
              "        [ 5,  6],\n",
              "        [ 7,  8],\n",
              "        [ 9, 10]],\n",
              "\n",
              "       [[11, 12],\n",
              "        [13, 14],\n",
              "        [15, 16],\n",
              "        [17, 18],\n",
              "        [19, 20]],\n",
              "\n",
              "       [[21, 22],\n",
              "        [23, 24],\n",
              "        [25, 26],\n",
              "        [27, 28],\n",
              "        [29, 30]]], dtype=int32)>"
            ]
          },
          "metadata": {},
          "execution_count": 22
        }
      ]
    },
    {
      "cell_type": "code",
      "source": [
        "tf_3d_tensor[1:4, 0:2, 0]"
      ],
      "metadata": {
        "colab": {
          "base_uri": "https://localhost:8080/"
        },
        "id": "B_M1VOp_4Nhy",
        "outputId": "d0de1cbd-7a8a-4f03-cf0d-d8c5d05693c8"
      },
      "execution_count": null,
      "outputs": [
        {
          "output_type": "execute_result",
          "data": {
            "text/plain": [
              "<tf.Tensor: shape=(2, 2), dtype=int32, numpy=\n",
              "array([[11, 13],\n",
              "       [21, 23]], dtype=int32)>"
            ]
          },
          "metadata": {},
          "execution_count": 23
        }
      ]
    },
    {
      "cell_type": "code",
      "source": [
        "tf_3d_tensor[1:4, 0:2, ...]"
      ],
      "metadata": {
        "colab": {
          "base_uri": "https://localhost:8080/"
        },
        "id": "fNi4fbwF4Yan",
        "outputId": "df42c24f-0403-43b1-dbd7-0fd08ed970d7"
      },
      "execution_count": null,
      "outputs": [
        {
          "output_type": "execute_result",
          "data": {
            "text/plain": [
              "<tf.Tensor: shape=(2, 2, 2), dtype=int32, numpy=\n",
              "array([[[11, 12],\n",
              "        [13, 14]],\n",
              "\n",
              "       [[21, 22],\n",
              "        [23, 24]]], dtype=int32)>"
            ]
          },
          "metadata": {},
          "execution_count": 24
        }
      ]
    },
    {
      "cell_type": "code",
      "source": [
        "tf_3d_tensor[0, :, :]"
      ],
      "metadata": {
        "colab": {
          "base_uri": "https://localhost:8080/"
        },
        "id": "o_LwkxoG4hKi",
        "outputId": "abbe9b01-e7bd-4c8c-f404-6d4cfd25cb14"
      },
      "execution_count": null,
      "outputs": [
        {
          "output_type": "execute_result",
          "data": {
            "text/plain": [
              "<tf.Tensor: shape=(5, 2), dtype=int32, numpy=\n",
              "array([[ 1,  2],\n",
              "       [ 3,  4],\n",
              "       [ 5,  6],\n",
              "       [ 7,  8],\n",
              "       [ 9, 10]], dtype=int32)>"
            ]
          },
          "metadata": {},
          "execution_count": 25
        }
      ]
    },
    {
      "cell_type": "markdown",
      "source": [
        "<h2> Matrix Multiplication <h2>"
      ],
      "metadata": {
        "id": "U5W1FIQhAI8U"
      }
    },
    {
      "cell_type": "code",
      "source": [
        "tensor_1 = tf.constant([1, 2, 3, 4])\n",
        "tensor_2 = tf.constant([[10], [11], [13], [14], [15]])\n",
        "\n",
        "\n",
        "print(tensor_1.shape)\n",
        "print(tensor_2.shape)\n",
        "multiply_tensors = tf.math.multiply(tensor_1, tensor_2)\n",
        "\n",
        "print(multiply_tensors)"
      ],
      "metadata": {
        "colab": {
          "base_uri": "https://localhost:8080/"
        },
        "id": "KMI7QWSv4t55",
        "outputId": "f2d737dc-c15b-468f-fc6a-57b873112471"
      },
      "execution_count": null,
      "outputs": [
        {
          "output_type": "stream",
          "name": "stdout",
          "text": [
            "(4,)\n",
            "(5, 1)\n",
            "tf.Tensor(\n",
            "[[10 20 30 40]\n",
            " [11 22 33 44]\n",
            " [13 26 39 52]\n",
            " [14 28 42 56]\n",
            " [15 30 45 60]], shape=(5, 4), dtype=int32)\n"
          ]
        }
      ]
    },
    {
      "cell_type": "code",
      "source": [
        "tf_2d_tensor = tf.constant([[1, 2, 3],\n",
        "                            [4, 5, 6],\n",
        "                            [7, 8, 9],\n",
        "                            [10, 11, 12]])\n",
        "\n",
        "tf.math.reduce_sum(\n",
        "    tf_2d_tensor, axis=0, keepdims=True, name=None\n",
        ")"
      ],
      "metadata": {
        "colab": {
          "base_uri": "https://localhost:8080/"
        },
        "id": "vqXs6HkQAccu",
        "outputId": "c58b9b5b-e388-4eef-eea8-06c62d20f7df"
      },
      "execution_count": null,
      "outputs": [
        {
          "output_type": "execute_result",
          "data": {
            "text/plain": [
              "<tf.Tensor: shape=(1, 3), dtype=int32, numpy=array([[22, 26, 30]], dtype=int32)>"
            ]
          },
          "metadata": {},
          "execution_count": 27
        }
      ]
    },
    {
      "cell_type": "code",
      "source": [
        "tf.math.reduce_sum(\n",
        "    tf_2d_tensor, axis=0, keepdims=False, name=None\n",
        ")"
      ],
      "metadata": {
        "colab": {
          "base_uri": "https://localhost:8080/"
        },
        "id": "Kt2rnDL2IgT_",
        "outputId": "c8bfdb63-bf48-472d-d6af-e99cc6ab3ee3"
      },
      "execution_count": null,
      "outputs": [
        {
          "output_type": "execute_result",
          "data": {
            "text/plain": [
              "<tf.Tensor: shape=(3,), dtype=int32, numpy=array([22, 26, 30], dtype=int32)>"
            ]
          },
          "metadata": {},
          "execution_count": 28
        }
      ]
    },
    {
      "cell_type": "code",
      "source": [
        "tf.math.reduce_sum(\n",
        "    tf_2d_tensor, axis=1, keepdims=False, name=None\n",
        ")"
      ],
      "metadata": {
        "colab": {
          "base_uri": "https://localhost:8080/"
        },
        "id": "VJxiYP2OI5n1",
        "outputId": "019c1866-307c-402f-a8ac-0d6f7ffeac78"
      },
      "execution_count": null,
      "outputs": [
        {
          "output_type": "execute_result",
          "data": {
            "text/plain": [
              "<tf.Tensor: shape=(4,), dtype=int32, numpy=array([ 6, 15, 24, 33], dtype=int32)>"
            ]
          },
          "metadata": {},
          "execution_count": 29
        }
      ]
    },
    {
      "cell_type": "markdown",
      "source": [
        "<h1><b> Linear Algebra </b></h1>"
      ],
      "metadata": {
        "id": "Gj3i_hlpCRnc"
      }
    },
    {
      "cell_type": "markdown",
      "source": [
        "<b> Matrix Multiplication </b>"
      ],
      "metadata": {
        "id": "7q95gcTcCY4u"
      }
    },
    {
      "cell_type": "code",
      "source": [
        "tensor_1 = tf.constant([[1, 2, 3],\n",
        "                        [5, 6, 7]])\n",
        "tensor_2 = tf.constant([[3, 3, 3],\n",
        "                        [-2, -3, -4]])\n",
        "\n",
        "product = tf.linalg.matmul(\n",
        "    tensor_1, tensor_2, transpose_a=False, transpose_b=False, adjoint_a=False, adjoint_b=False, a_is_sparse=False, b_is_sparse=False, output_type=None, name=None\n",
        ")"
      ],
      "metadata": {
        "id": "rrVXv5lGI_Pg",
        "outputId": "dcddaa79-4e76-41bd-8b52-e88de37c3012",
        "colab": {
          "base_uri": "https://localhost:8080/",
          "height": 390
        }
      },
      "execution_count": null,
      "outputs": [
        {
          "output_type": "error",
          "ename": "InvalidArgumentError",
          "evalue": "ignored",
          "traceback": [
            "\u001b[0;31m---------------------------------------------------------------------------\u001b[0m",
            "\u001b[0;31mInvalidArgumentError\u001b[0m                      Traceback (most recent call last)",
            "\u001b[0;32m<ipython-input-32-fbebf9925891>\u001b[0m in \u001b[0;36m<cell line: 6>\u001b[0;34m()\u001b[0m\n\u001b[1;32m      4\u001b[0m                         [-2, -3, -4]])\n\u001b[1;32m      5\u001b[0m \u001b[0;34m\u001b[0m\u001b[0m\n\u001b[0;32m----> 6\u001b[0;31m product = tf.linalg.matmul(\n\u001b[0m\u001b[1;32m      7\u001b[0m     \u001b[0mtensor_1\u001b[0m\u001b[0;34m,\u001b[0m \u001b[0mtensor_2\u001b[0m\u001b[0;34m,\u001b[0m \u001b[0mtranspose_a\u001b[0m\u001b[0;34m=\u001b[0m\u001b[0;32mFalse\u001b[0m\u001b[0;34m,\u001b[0m \u001b[0mtranspose_b\u001b[0m\u001b[0;34m=\u001b[0m\u001b[0;32mFalse\u001b[0m\u001b[0;34m,\u001b[0m \u001b[0madjoint_a\u001b[0m\u001b[0;34m=\u001b[0m\u001b[0;32mFalse\u001b[0m\u001b[0;34m,\u001b[0m \u001b[0madjoint_b\u001b[0m\u001b[0;34m=\u001b[0m\u001b[0;32mFalse\u001b[0m\u001b[0;34m,\u001b[0m \u001b[0ma_is_sparse\u001b[0m\u001b[0;34m=\u001b[0m\u001b[0;32mFalse\u001b[0m\u001b[0;34m,\u001b[0m \u001b[0mb_is_sparse\u001b[0m\u001b[0;34m=\u001b[0m\u001b[0;32mFalse\u001b[0m\u001b[0;34m,\u001b[0m \u001b[0moutput_type\u001b[0m\u001b[0;34m=\u001b[0m\u001b[0;32mNone\u001b[0m\u001b[0;34m,\u001b[0m \u001b[0mname\u001b[0m\u001b[0;34m=\u001b[0m\u001b[0;32mNone\u001b[0m\u001b[0;34m\u001b[0m\u001b[0;34m\u001b[0m\u001b[0m\n\u001b[1;32m      8\u001b[0m )\n",
            "\u001b[0;32m/usr/local/lib/python3.10/dist-packages/tensorflow/python/util/traceback_utils.py\u001b[0m in \u001b[0;36merror_handler\u001b[0;34m(*args, **kwargs)\u001b[0m\n\u001b[1;32m    151\u001b[0m     \u001b[0;32mexcept\u001b[0m \u001b[0mException\u001b[0m \u001b[0;32mas\u001b[0m \u001b[0me\u001b[0m\u001b[0;34m:\u001b[0m\u001b[0;34m\u001b[0m\u001b[0;34m\u001b[0m\u001b[0m\n\u001b[1;32m    152\u001b[0m       \u001b[0mfiltered_tb\u001b[0m \u001b[0;34m=\u001b[0m \u001b[0m_process_traceback_frames\u001b[0m\u001b[0;34m(\u001b[0m\u001b[0me\u001b[0m\u001b[0;34m.\u001b[0m\u001b[0m__traceback__\u001b[0m\u001b[0;34m)\u001b[0m\u001b[0;34m\u001b[0m\u001b[0;34m\u001b[0m\u001b[0m\n\u001b[0;32m--> 153\u001b[0;31m       \u001b[0;32mraise\u001b[0m \u001b[0me\u001b[0m\u001b[0;34m.\u001b[0m\u001b[0mwith_traceback\u001b[0m\u001b[0;34m(\u001b[0m\u001b[0mfiltered_tb\u001b[0m\u001b[0;34m)\u001b[0m \u001b[0;32mfrom\u001b[0m \u001b[0;32mNone\u001b[0m\u001b[0;34m\u001b[0m\u001b[0;34m\u001b[0m\u001b[0m\n\u001b[0m\u001b[1;32m    154\u001b[0m     \u001b[0;32mfinally\u001b[0m\u001b[0;34m:\u001b[0m\u001b[0;34m\u001b[0m\u001b[0;34m\u001b[0m\u001b[0m\n\u001b[1;32m    155\u001b[0m       \u001b[0;32mdel\u001b[0m \u001b[0mfiltered_tb\u001b[0m\u001b[0;34m\u001b[0m\u001b[0;34m\u001b[0m\u001b[0m\n",
            "\u001b[0;32m/usr/local/lib/python3.10/dist-packages/tensorflow/python/framework/ops.py\u001b[0m in \u001b[0;36mraise_from_not_ok_status\u001b[0;34m(e, name)\u001b[0m\n\u001b[1;32m   7260\u001b[0m \u001b[0;32mdef\u001b[0m \u001b[0mraise_from_not_ok_status\u001b[0m\u001b[0;34m(\u001b[0m\u001b[0me\u001b[0m\u001b[0;34m,\u001b[0m \u001b[0mname\u001b[0m\u001b[0;34m)\u001b[0m\u001b[0;34m:\u001b[0m\u001b[0;34m\u001b[0m\u001b[0;34m\u001b[0m\u001b[0m\n\u001b[1;32m   7261\u001b[0m   \u001b[0me\u001b[0m\u001b[0;34m.\u001b[0m\u001b[0mmessage\u001b[0m \u001b[0;34m+=\u001b[0m \u001b[0;34m(\u001b[0m\u001b[0;34m\" name: \"\u001b[0m \u001b[0;34m+\u001b[0m \u001b[0mname\u001b[0m \u001b[0;32mif\u001b[0m \u001b[0mname\u001b[0m \u001b[0;32mis\u001b[0m \u001b[0;32mnot\u001b[0m \u001b[0;32mNone\u001b[0m \u001b[0;32melse\u001b[0m \u001b[0;34m\"\"\u001b[0m\u001b[0;34m)\u001b[0m\u001b[0;34m\u001b[0m\u001b[0;34m\u001b[0m\u001b[0m\n\u001b[0;32m-> 7262\u001b[0;31m   \u001b[0;32mraise\u001b[0m \u001b[0mcore\u001b[0m\u001b[0;34m.\u001b[0m\u001b[0m_status_to_exception\u001b[0m\u001b[0;34m(\u001b[0m\u001b[0me\u001b[0m\u001b[0;34m)\u001b[0m \u001b[0;32mfrom\u001b[0m \u001b[0;32mNone\u001b[0m  \u001b[0;31m# pylint: disable=protected-access\u001b[0m\u001b[0;34m\u001b[0m\u001b[0;34m\u001b[0m\u001b[0m\n\u001b[0m\u001b[1;32m   7263\u001b[0m \u001b[0;34m\u001b[0m\u001b[0m\n\u001b[1;32m   7264\u001b[0m \u001b[0;34m\u001b[0m\u001b[0m\n",
            "\u001b[0;31mInvalidArgumentError\u001b[0m: {{function_node __wrapped__MatMul_device_/job:localhost/replica:0/task:0/device:CPU:0}} Matrix size-incompatible: In[0]: [2,3], In[1]: [2,3] [Op:MatMul]"
          ]
        }
      ]
    },
    {
      "cell_type": "code",
      "source": [
        "print(f\"tensor_1 shape: {tensor_1.shape}\")\n",
        "print(f\"tensor_2 shape: {tensor_2.shape}\")"
      ],
      "metadata": {
        "id": "e1m6UhcjDlfn",
        "outputId": "6b3be0e8-7cd2-43b0-f9c7-e85db0dea21c",
        "colab": {
          "base_uri": "https://localhost:8080/"
        }
      },
      "execution_count": null,
      "outputs": [
        {
          "output_type": "stream",
          "name": "stdout",
          "text": [
            "tensor_1 shape: (2, 3)\n",
            "tensor_2 shape: (2, 3)\n"
          ]
        }
      ]
    },
    {
      "cell_type": "code",
      "source": [
        "product = tf.linalg.matmul(\n",
        "    tensor_1, tensor_2, transpose_a=False, transpose_b=True, adjoint_a=False, adjoint_b=False, a_is_sparse=False, b_is_sparse=False, output_type=None, name=None\n",
        ")"
      ],
      "metadata": {
        "id": "KntkiU4ND6Ls"
      },
      "execution_count": null,
      "outputs": []
    },
    {
      "cell_type": "code",
      "source": [
        "product.shape, product"
      ],
      "metadata": {
        "id": "6nSfSUlmD90u",
        "outputId": "aa8bea3a-3cad-409c-ad09-d6d8a5bf2b2f",
        "colab": {
          "base_uri": "https://localhost:8080/"
        }
      },
      "execution_count": null,
      "outputs": [
        {
          "output_type": "execute_result",
          "data": {
            "text/plain": [
              "(TensorShape([2, 2]),\n",
              " <tf.Tensor: shape=(2, 2), dtype=int32, numpy=\n",
              " array([[ 18, -20],\n",
              "        [ 54, -56]], dtype=int32)>)"
            ]
          },
          "metadata": {},
          "execution_count": 35
        }
      ]
    },
    {
      "cell_type": "code",
      "source": [
        "tf.transpose(tensor_1)"
      ],
      "metadata": {
        "id": "Aw4Q3pWyECBl",
        "outputId": "e20ef019-8929-441d-9bef-620c61fa3449",
        "colab": {
          "base_uri": "https://localhost:8080/"
        }
      },
      "execution_count": null,
      "outputs": [
        {
          "output_type": "execute_result",
          "data": {
            "text/plain": [
              "<tf.Tensor: shape=(3, 2), dtype=int32, numpy=\n",
              "array([[1, 5],\n",
              "       [2, 6],\n",
              "       [3, 7]], dtype=int32)>"
            ]
          },
          "metadata": {},
          "execution_count": 39
        }
      ]
    },
    {
      "cell_type": "code",
      "source": [
        "# another way of matrix multiplication\n",
        "\n",
        "tensor_1 @ tf.transpose(tensor_2)"
      ],
      "metadata": {
        "id": "g_3h5tlJHbRw",
        "outputId": "447814d0-5fa2-4c94-ac53-604e720dce98",
        "colab": {
          "base_uri": "https://localhost:8080/"
        }
      },
      "execution_count": null,
      "outputs": [
        {
          "output_type": "execute_result",
          "data": {
            "text/plain": [
              "<tf.Tensor: shape=(2, 2), dtype=int32, numpy=\n",
              "array([[ 18, -20],\n",
              "       [ 54, -56]], dtype=int32)>"
            ]
          },
          "metadata": {},
          "execution_count": 41
        }
      ]
    },
    {
      "cell_type": "code",
      "source": [
        "x_1 = tf.random.uniform(\n",
        "    [2,3],\n",
        "    minval=0,\n",
        "    maxval=1,\n",
        "    dtype=tf.dtypes.float32,\n",
        "    seed=None,\n",
        "    name=None\n",
        ")\n",
        "\n",
        "x_2 = tf.random.uniform(\n",
        "    [3,4],\n",
        "    minval=0,\n",
        "    maxval=1,\n",
        "    dtype=tf.dtypes.float32,\n",
        "    seed=None,\n",
        "    name=None\n",
        ")\n",
        "\n",
        "x_3 = tf.random.uniform(\n",
        "    [4,5],\n",
        "    minval=0,\n",
        "    maxval=1,\n",
        "    dtype=tf.dtypes.float32,\n",
        "    seed=None,\n",
        "    name=None\n",
        ")"
      ],
      "metadata": {
        "id": "HwpEqINwH8hc"
      },
      "execution_count": null,
      "outputs": []
    },
    {
      "cell_type": "code",
      "source": [
        "(x_1 @ x_2 @ x_3).shape"
      ],
      "metadata": {
        "id": "QIunWSCZLJYw",
        "outputId": "e870ae74-a7b5-4b63-c90b-e1b2d283831d",
        "colab": {
          "base_uri": "https://localhost:8080/"
        }
      },
      "execution_count": null,
      "outputs": [
        {
          "output_type": "execute_result",
          "data": {
            "text/plain": [
              "TensorShape([2, 5])"
            ]
          },
          "metadata": {},
          "execution_count": 44
        }
      ]
    },
    {
      "cell_type": "code",
      "source": [
        "x_1 = tf.random.uniform(\n",
        "    [2, 3, 4],\n",
        "    minval=0,\n",
        "    maxval=1,\n",
        "    dtype=tf.dtypes.float32,\n",
        "    seed=None,\n",
        "    name=None\n",
        ")\n",
        "\n",
        "x_2 = tf.random.uniform(\n",
        "    [2, 4, 2],\n",
        "    minval=0,\n",
        "    maxval=1,\n",
        "    dtype=tf.dtypes.float32,\n",
        "    seed=None,\n",
        "    name=None\n",
        ")"
      ],
      "metadata": {
        "id": "gDnMd9oHLMSd"
      },
      "execution_count": null,
      "outputs": []
    },
    {
      "cell_type": "code",
      "source": [
        "x_1 @ x_2"
      ],
      "metadata": {
        "id": "iLmqCD2CLXvJ",
        "outputId": "16d85bec-f9e7-4fff-8425-02c183444093",
        "colab": {
          "base_uri": "https://localhost:8080/"
        }
      },
      "execution_count": null,
      "outputs": [
        {
          "output_type": "execute_result",
          "data": {
            "text/plain": [
              "<tf.Tensor: shape=(2, 3, 2), dtype=float32, numpy=\n",
              "array([[[1.2304939 , 1.0299494 ],\n",
              "        [0.8149803 , 0.6797341 ],\n",
              "        [1.3120302 , 1.2020078 ]],\n",
              "\n",
              "       [[0.32055235, 1.1040404 ],\n",
              "        [0.80676955, 1.6644917 ],\n",
              "        [0.34881267, 1.2876651 ]]], dtype=float32)>"
            ]
          },
          "metadata": {},
          "execution_count": 55
        }
      ]
    },
    {
      "cell_type": "code",
      "source": [
        "(x_1 @ x_2).shape"
      ],
      "metadata": {
        "id": "B1p7jh-jLeUB",
        "outputId": "a191fcbf-f8aa-449c-8a03-ca38c819938c",
        "colab": {
          "base_uri": "https://localhost:8080/"
        }
      },
      "execution_count": null,
      "outputs": [
        {
          "output_type": "execute_result",
          "data": {
            "text/plain": [
              "TensorShape([2, 3, 2])"
            ]
          },
          "metadata": {},
          "execution_count": 56
        }
      ]
    },
    {
      "cell_type": "code",
      "source": [
        "# is it possible to multiply a 3d tensor with a 2d tensor?\n",
        "\n",
        "x_1 = tf.random.uniform(\n",
        "    [2, 3],\n",
        "    minval=0,\n",
        "    maxval=1,\n",
        "    dtype=tf.dtypes.float32,\n",
        "    seed=None,\n",
        "    name=None\n",
        ")\n",
        "\n",
        "x_2 = tf.random.uniform(\n",
        "    [4, 3, 5],\n",
        "    minval=0,\n",
        "    maxval=1,\n",
        "    dtype=tf.dtypes.float32,\n",
        "    seed=None,\n",
        "    name=None\n",
        ")"
      ],
      "metadata": {
        "id": "H4zAHUgCLxfb"
      },
      "execution_count": null,
      "outputs": []
    },
    {
      "cell_type": "code",
      "source": [
        "x_1 @ x_2"
      ],
      "metadata": {
        "id": "QIsLamRePAwM",
        "outputId": "c6b29ff5-a953-42bc-ce83-75ccca13db8f",
        "colab": {
          "base_uri": "https://localhost:8080/"
        }
      },
      "execution_count": null,
      "outputs": [
        {
          "output_type": "execute_result",
          "data": {
            "text/plain": [
              "<tf.Tensor: shape=(4, 2, 5), dtype=float32, numpy=\n",
              "array([[[0.33638567, 0.63433087, 0.1128162 , 0.5556294 , 0.491733  ],\n",
              "        [0.18587816, 0.4773082 , 0.0947867 , 0.2475264 , 0.20004046]],\n",
              "\n",
              "       [[0.7121585 , 0.6943798 , 0.81744134, 0.4906497 , 0.9197161 ],\n",
              "        [0.44105485, 0.40627646, 0.44987795, 0.3521564 , 0.5846714 ]],\n",
              "\n",
              "       [[0.47924432, 0.8588759 , 0.24295114, 0.46851277, 0.4641593 ],\n",
              "        [0.31703067, 0.48524636, 0.11530998, 0.35309565, 0.37601745]],\n",
              "\n",
              "       [[0.71813786, 0.5179974 , 0.86664927, 0.493598  , 0.32230896],\n",
              "        [0.45796338, 0.4023732 , 0.5139823 , 0.28019422, 0.19269913]]],\n",
              "      dtype=float32)>"
            ]
          },
          "metadata": {},
          "execution_count": 62
        }
      ]
    },
    {
      "cell_type": "code",
      "source": [
        "(x_1 @ x_2).shape"
      ],
      "metadata": {
        "id": "qZoQxJXyPQs2",
        "outputId": "80160ff8-7032-4a32-e98c-59f1999d64e3",
        "colab": {
          "base_uri": "https://localhost:8080/"
        }
      },
      "execution_count": null,
      "outputs": [
        {
          "output_type": "execute_result",
          "data": {
            "text/plain": [
              "TensorShape([4, 2, 5])"
            ]
          },
          "metadata": {},
          "execution_count": 63
        }
      ]
    },
    {
      "cell_type": "markdown",
      "source": [
        "<b> inverse matrix <b>"
      ],
      "metadata": {
        "id": "oH9jLZz9US3g"
      }
    },
    {
      "cell_type": "code",
      "source": [
        "tensor_1 = tf.random.normal(\n",
        "    [3, 3],\n",
        "    mean = 0.0,\n",
        "    stddev = 1.0,\n",
        "    seed = None,\n",
        "    name = None\n",
        ")\n",
        "\n",
        "tensor_1"
      ],
      "metadata": {
        "id": "wEcBGajCPbLr",
        "outputId": "dbd7eb2c-e97f-4141-a91c-f3479dedde9e",
        "colab": {
          "base_uri": "https://localhost:8080/"
        }
      },
      "execution_count": null,
      "outputs": [
        {
          "output_type": "execute_result",
          "data": {
            "text/plain": [
              "<tf.Tensor: shape=(3, 3), dtype=float32, numpy=\n",
              "array([[-0.6031239 ,  2.1899347 ,  1.5143416 ],\n",
              "       [-1.425258  , -0.01092726, -0.9364687 ],\n",
              "       [-0.5277227 ,  1.4665722 ,  0.20582134]], dtype=float32)>"
            ]
          },
          "metadata": {},
          "execution_count": 65
        }
      ]
    },
    {
      "cell_type": "code",
      "source": [
        "tf.linalg.inv(tensor_1)"
      ],
      "metadata": {
        "id": "yznin-21UhZr",
        "outputId": "ba745bc7-e1f3-4322-cb72-31d3470d057d",
        "colab": {
          "base_uri": "https://localhost:8080/"
        }
      },
      "execution_count": null,
      "outputs": [
        {
          "output_type": "execute_result",
          "data": {
            "text/plain": [
              "<tf.Tensor: shape=(3, 3), dtype=float32, numpy=\n",
              "array([[-0.60233825, -0.77761936,  0.8936378 ],\n",
              "       [-0.34596363, -0.29653096,  1.1962572 ],\n",
              "       [ 0.9207653 ,  0.11911619, -1.3740301 ]], dtype=float32)>"
            ]
          },
          "metadata": {},
          "execution_count": 66
        }
      ]
    },
    {
      "cell_type": "code",
      "source": [
        "tensor_1 @ tf.linalg.inv(tensor_1)"
      ],
      "metadata": {
        "id": "5TK6rMXZUnbW",
        "outputId": "d18c57df-766d-4940-ad2a-4cbe7da3dfc1",
        "colab": {
          "base_uri": "https://localhost:8080/"
        }
      },
      "execution_count": null,
      "outputs": [
        {
          "output_type": "execute_result",
          "data": {
            "text/plain": [
              "<tf.Tensor: shape=(3, 3), dtype=float32, numpy=\n",
              "array([[ 1.00000000e+00, -1.59131552e-09, -7.96330824e-09],\n",
              "       [-3.24316574e-08,  9.99999821e-01, -2.79557071e-08],\n",
              "       [ 1.11922866e-07,  1.21255699e-08,  9.99999762e-01]], dtype=float32)>"
            ]
          },
          "metadata": {},
          "execution_count": 67
        }
      ]
    },
    {
      "cell_type": "markdown",
      "source": [
        "<b> singular value desomposition </b>"
      ],
      "metadata": {
        "id": "O9EE5p27XlWl"
      }
    },
    {
      "cell_type": "code",
      "source": [
        "tensor_1 = tf.random.uniform(\n",
        "    [3, 5],\n",
        "    minval = 1,\n",
        "    maxval = 10,\n",
        "    dtype=tf.dtypes.float32,\n",
        "    seed=None,\n",
        "    name=None\n",
        ")\n",
        "\n",
        "tensor_1"
      ],
      "metadata": {
        "id": "PwODlwSRWoZh",
        "outputId": "ec22f474-0ee0-4e60-b49f-4ae538cb4bb7",
        "colab": {
          "base_uri": "https://localhost:8080/"
        }
      },
      "execution_count": null,
      "outputs": [
        {
          "output_type": "execute_result",
          "data": {
            "text/plain": [
              "<tf.Tensor: shape=(3, 5), dtype=float32, numpy=\n",
              "array([[4.2488556, 1.2026902, 7.565465 , 5.038923 , 1.1599905],\n",
              "       [5.4781914, 9.696188 , 1.0995765, 9.303658 , 9.509663 ],\n",
              "       [8.70355  , 9.931801 , 2.668067 , 6.157505 , 6.0603876]],\n",
              "      dtype=float32)>"
            ]
          },
          "metadata": {},
          "execution_count": 68
        }
      ]
    },
    {
      "cell_type": "code",
      "source": [
        "tf.linalg.svd(tensor_1)"
      ],
      "metadata": {
        "id": "aD2makwCYVAp",
        "outputId": "5f8632e1-2367-432a-81bb-e0349794a957",
        "colab": {
          "base_uri": "https://localhost:8080/"
        }
      },
      "execution_count": null,
      "outputs": [
        {
          "output_type": "execute_result",
          "data": {
            "text/plain": [
              "(<tf.Tensor: shape=(3,), dtype=float32, numpy=array([24.223114 ,  7.817013 ,  3.7401106], dtype=float32)>,\n",
              " <tf.Tensor: shape=(3, 3), dtype=float32, numpy=\n",
              " array([[-0.29108658,  0.932279  , -0.21476567],\n",
              "        [-0.70180947, -0.36064696, -0.61432654],\n",
              "        [-0.6501785 , -0.02809763,  0.7592617 ]], dtype=float32)>,\n",
              " <tf.Tensor: shape=(5, 3), dtype=float32, numpy=\n",
              " array([[-0.44339028,  0.22270359,  0.62307435],\n",
              "        [-0.5619593 , -0.33960757,  0.35451204],\n",
              "        [-0.19438533,  0.8419582 , -0.07340427],\n",
              "        [-0.49537948,  0.14958847, -0.56749994],\n",
              "        [-0.45212856, -0.32217905, -0.3983154 ]], dtype=float32)>)"
            ]
          },
          "metadata": {},
          "execution_count": 69
        }
      ]
    },
    {
      "cell_type": "code",
      "source": [
        "s, u, v = tf.linalg.svd(tensor_1)\n",
        "\n",
        "print(f\" s: {s}\\n\\n u: {u}\\n\\n v: {v}\\n\\n\")"
      ],
      "metadata": {
        "id": "cgniz-RfYXpu",
        "outputId": "d03d148d-bb1e-404a-dd95-f156dbb125ae",
        "colab": {
          "base_uri": "https://localhost:8080/"
        }
      },
      "execution_count": null,
      "outputs": [
        {
          "output_type": "stream",
          "name": "stdout",
          "text": [
            " s: [24.223114   7.817013   3.7401106]\n",
            "\n",
            " u: [[-0.29108658  0.932279   -0.21476567]\n",
            " [-0.70180947 -0.36064696 -0.61432654]\n",
            " [-0.6501785  -0.02809763  0.7592617 ]]\n",
            "\n",
            " v: [[-0.44339028  0.22270359  0.62307435]\n",
            " [-0.5619593  -0.33960757  0.35451204]\n",
            " [-0.19438533  0.8419582  -0.07340427]\n",
            " [-0.49537948  0.14958847 -0.56749994]\n",
            " [-0.45212856 -0.32217905 -0.3983154 ]]\n",
            "\n",
            "\n"
          ]
        }
      ]
    },
    {
      "cell_type": "code",
      "source": [],
      "metadata": {
        "id": "YJW27wsUYnlX"
      },
      "execution_count": null,
      "outputs": []
    }
  ]
}