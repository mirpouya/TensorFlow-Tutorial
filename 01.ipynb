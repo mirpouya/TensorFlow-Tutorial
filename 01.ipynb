{
  "nbformat": 4,
  "nbformat_minor": 0,
  "metadata": {
    "colab": {
      "provenance": [],
      "authorship_tag": "ABX9TyOk+Kg1HsmGcmevuMxqNqiu",
      "include_colab_link": true
    },
    "kernelspec": {
      "name": "python3",
      "display_name": "Python 3"
    },
    "language_info": {
      "name": "python"
    }
  },
  "cells": [
    {
      "cell_type": "markdown",
      "metadata": {
        "id": "view-in-github",
        "colab_type": "text"
      },
      "source": [
        "<a href=\"https://colab.research.google.com/github/mirpouya/TensorFlow-Tutorial/blob/main/01.ipynb\" target=\"_parent\"><img src=\"https://colab.research.google.com/assets/colab-badge.svg\" alt=\"Open In Colab\"/></a>"
      ]
    },
    {
      "cell_type": "code",
      "execution_count": 1,
      "metadata": {
        "id": "qElfIHftjflk"
      },
      "outputs": [],
      "source": [
        "import tensorflow as tf"
      ]
    },
    {
      "cell_type": "code",
      "source": [
        "tensor_zero_d = tf.constant(5)\n",
        "tensor_zero_d"
      ],
      "metadata": {
        "colab": {
          "base_uri": "https://localhost:8080/"
        },
        "id": "QFknrrugl5iK",
        "outputId": "d79e03a9-9baf-479f-e705-5ae5e1717682"
      },
      "execution_count": 2,
      "outputs": [
        {
          "output_type": "execute_result",
          "data": {
            "text/plain": [
              "<tf.Tensor: shape=(), dtype=int32, numpy=5>"
            ]
          },
          "metadata": {},
          "execution_count": 2
        }
      ]
    },
    {
      "cell_type": "markdown",
      "source": [
        "as you can see it has no shape"
      ],
      "metadata": {
        "id": "o9SbvvkkmKsj"
      }
    },
    {
      "cell_type": "code",
      "source": [
        "tensor_one_d = tf.constant([1, 2, 3])\n",
        "tensor_one_d"
      ],
      "metadata": {
        "colab": {
          "base_uri": "https://localhost:8080/"
        },
        "id": "nt-I49uwmC6K",
        "outputId": "f91f60b0-fe1e-4c4b-8e9b-a29e354ed593"
      },
      "execution_count": 3,
      "outputs": [
        {
          "output_type": "execute_result",
          "data": {
            "text/plain": [
              "<tf.Tensor: shape=(3,), dtype=int32, numpy=array([1, 2, 3], dtype=int32)>"
            ]
          },
          "metadata": {},
          "execution_count": 3
        }
      ]
    },
    {
      "cell_type": "code",
      "source": [
        "tensor_two_d = tf.constant([\n",
        "    [1, 2, 3, 4],\n",
        "    [-1, -2, -3, -4],\n",
        "    [11, 22, 33, 44]\n",
        "])\n",
        "\n",
        "tensor_two_d"
      ],
      "metadata": {
        "colab": {
          "base_uri": "https://localhost:8080/"
        },
        "id": "-6YKPrW4mTOi",
        "outputId": "b9b57ec4-f20d-4097-8433-5a6dd8563b7a"
      },
      "execution_count": 4,
      "outputs": [
        {
          "output_type": "execute_result",
          "data": {
            "text/plain": [
              "<tf.Tensor: shape=(3, 4), dtype=int32, numpy=\n",
              "array([[ 1,  2,  3,  4],\n",
              "       [-1, -2, -3, -4],\n",
              "       [11, 22, 33, 44]], dtype=int32)>"
            ]
          },
          "metadata": {},
          "execution_count": 4
        }
      ]
    },
    {
      "cell_type": "code",
      "source": [
        "tensor_three_d = tf.constant([\n",
        "    [\n",
        "        [1, 2, 3, 4],\n",
        "        [11, 22, 33, 44],\n",
        "        [111, 222, 333, 444]\n",
        "    ],\n",
        "\n",
        "    [\n",
        "        [-1, -2, -3, -4],\n",
        "        [-11, -22, -33, -44],\n",
        "        [-111, -222, -333, -444]\n",
        "    ]\n",
        "])\n",
        "\n",
        "tensor_three_d"
      ],
      "metadata": {
        "colab": {
          "base_uri": "https://localhost:8080/"
        },
        "id": "8b-Vozwom8Dr",
        "outputId": "a3dde1d1-4d08-4785-a4d4-d71f4519a5e4"
      },
      "execution_count": 5,
      "outputs": [
        {
          "output_type": "execute_result",
          "data": {
            "text/plain": [
              "<tf.Tensor: shape=(2, 3, 4), dtype=int32, numpy=\n",
              "array([[[   1,    2,    3,    4],\n",
              "        [  11,   22,   33,   44],\n",
              "        [ 111,  222,  333,  444]],\n",
              "\n",
              "       [[  -1,   -2,   -3,   -4],\n",
              "        [ -11,  -22,  -33,  -44],\n",
              "        [-111, -222, -333, -444]]], dtype=int32)>"
            ]
          },
          "metadata": {},
          "execution_count": 5
        }
      ]
    },
    {
      "cell_type": "code",
      "source": [
        "tensor_zero_d.ndim, tensor_one_d.ndim, tensor_two_d.ndim, tensor_three_d.ndim"
      ],
      "metadata": {
        "colab": {
          "base_uri": "https://localhost:8080/"
        },
        "id": "CwSjaVGJnj_a",
        "outputId": "3cf19f1c-c25a-4183-dab3-d4033b65ec36"
      },
      "execution_count": 6,
      "outputs": [
        {
          "output_type": "execute_result",
          "data": {
            "text/plain": [
              "(0, 1, 2, 3)"
            ]
          },
          "metadata": {},
          "execution_count": 6
        }
      ]
    },
    {
      "cell_type": "code",
      "source": [
        "import numpy as np"
      ],
      "metadata": {
        "id": "DPsbAhWOoKLg"
      },
      "execution_count": 7,
      "outputs": []
    },
    {
      "cell_type": "code",
      "source": [
        "np_array = np.array([1, 2, 3, 4])\n",
        "np_array"
      ],
      "metadata": {
        "colab": {
          "base_uri": "https://localhost:8080/"
        },
        "id": "JdQ5WOsHrgzF",
        "outputId": "fefbf1af-130f-41cf-cac0-f580d058c19d"
      },
      "execution_count": 8,
      "outputs": [
        {
          "output_type": "execute_result",
          "data": {
            "text/plain": [
              "array([1, 2, 3, 4])"
            ]
          },
          "metadata": {},
          "execution_count": 8
        }
      ]
    },
    {
      "cell_type": "code",
      "source": [
        "np_array.shape"
      ],
      "metadata": {
        "colab": {
          "base_uri": "https://localhost:8080/"
        },
        "id": "_-ht9OK5rkx8",
        "outputId": "d7904dbe-cb1a-42ef-b8ec-c9f840c1ab29"
      },
      "execution_count": 9,
      "outputs": [
        {
          "output_type": "execute_result",
          "data": {
            "text/plain": [
              "(4,)"
            ]
          },
          "metadata": {},
          "execution_count": 9
        }
      ]
    },
    {
      "cell_type": "code",
      "source": [
        "# convert to tensor\n",
        "tf_array = tf.convert_to_tensor(np_array)\n",
        "tf_array"
      ],
      "metadata": {
        "colab": {
          "base_uri": "https://localhost:8080/"
        },
        "id": "3DOtwBRcrsuK",
        "outputId": "aab9e47e-e0f4-4866-e5bb-f113bd8e0c71"
      },
      "execution_count": 10,
      "outputs": [
        {
          "output_type": "execute_result",
          "data": {
            "text/plain": [
              "<tf.Tensor: shape=(4,), dtype=int64, numpy=array([1, 2, 3, 4])>"
            ]
          },
          "metadata": {},
          "execution_count": 10
        }
      ]
    },
    {
      "cell_type": "code",
      "source": [
        "eye_tensor = tf.eye(\n",
        "    num_rows = 3,\n",
        "    num_columns= 4,\n",
        "    dtype = tf.float32,\n",
        "    name = \"bababa\"\n",
        ")\n",
        "\n",
        "eye_tensor"
      ],
      "metadata": {
        "colab": {
          "base_uri": "https://localhost:8080/"
        },
        "id": "-tC4U8VurzYq",
        "outputId": "8208acac-49b0-4811-f7a9-19a7c25167d8"
      },
      "execution_count": 11,
      "outputs": [
        {
          "output_type": "execute_result",
          "data": {
            "text/plain": [
              "<tf.Tensor: shape=(3, 4), dtype=float32, numpy=\n",
              "array([[1., 0., 0., 0.],\n",
              "       [0., 1., 0., 0.],\n",
              "       [0., 0., 1., 0.]], dtype=float32)>"
            ]
          },
          "metadata": {},
          "execution_count": 11
        }
      ]
    },
    {
      "cell_type": "code",
      "source": [
        "# fill method\n",
        "\n",
        "fill_tensor = tf.fill(\n",
        "    [2, 3, 4], 3\n",
        ")\n",
        "\n",
        "fill_tensor"
      ],
      "metadata": {
        "colab": {
          "base_uri": "https://localhost:8080/"
        },
        "id": "jIveqpMvsMwb",
        "outputId": "7f89061d-ad45-4fa0-ed36-4ddd954d4c11"
      },
      "execution_count": 12,
      "outputs": [
        {
          "output_type": "execute_result",
          "data": {
            "text/plain": [
              "<tf.Tensor: shape=(2, 3, 4), dtype=int32, numpy=\n",
              "array([[[3, 3, 3, 3],\n",
              "        [3, 3, 3, 3],\n",
              "        [3, 3, 3, 3]],\n",
              "\n",
              "       [[3, 3, 3, 3],\n",
              "        [3, 3, 3, 3],\n",
              "        [3, 3, 3, 3]]], dtype=int32)>"
            ]
          },
          "metadata": {},
          "execution_count": 12
        }
      ]
    },
    {
      "cell_type": "code",
      "source": [
        "# ones_like method\n",
        "\n",
        "ones_like_tensor = tf.ones_like(\n",
        "    fill_tensor\n",
        ")\n",
        "\n",
        "ones_like_tensor"
      ],
      "metadata": {
        "colab": {
          "base_uri": "https://localhost:8080/"
        },
        "id": "prgw6oVctRhK",
        "outputId": "da529404-b4f9-4d19-a9f4-049c5e29ed5e"
      },
      "execution_count": 13,
      "outputs": [
        {
          "output_type": "execute_result",
          "data": {
            "text/plain": [
              "<tf.Tensor: shape=(2, 3, 4), dtype=int32, numpy=\n",
              "array([[[1, 1, 1, 1],\n",
              "        [1, 1, 1, 1],\n",
              "        [1, 1, 1, 1]],\n",
              "\n",
              "       [[1, 1, 1, 1],\n",
              "        [1, 1, 1, 1],\n",
              "        [1, 1, 1, 1]]], dtype=int32)>"
            ]
          },
          "metadata": {},
          "execution_count": 13
        }
      ]
    },
    {
      "cell_type": "code",
      "source": [
        "ones_like_tensor.shape, tf.size(ones_like_tensor)"
      ],
      "metadata": {
        "colab": {
          "base_uri": "https://localhost:8080/"
        },
        "id": "lBgOtB1Lv5qD",
        "outputId": "2124c524-5fe6-449a-cd59-c0184af3c498"
      },
      "execution_count": 14,
      "outputs": [
        {
          "output_type": "execute_result",
          "data": {
            "text/plain": [
              "(TensorShape([2, 3, 4]), <tf.Tensor: shape=(), dtype=int32, numpy=24>)"
            ]
          },
          "metadata": {},
          "execution_count": 14
        }
      ]
    },
    {
      "cell_type": "code",
      "source": [
        "# normal random tensor\n",
        "\n",
        "normal_random_tensor = tf.random.normal(\n",
        "    [2, 3],\n",
        "    mean = 0.0,\n",
        "    stddev = 1.0,\n",
        "    seed = None,\n",
        "    name = None\n",
        ")\n",
        "\n",
        "normal_random_tensor"
      ],
      "metadata": {
        "colab": {
          "base_uri": "https://localhost:8080/"
        },
        "id": "bIONC2yhygF7",
        "outputId": "74a3e15a-0a6c-4109-9946-6c74ff1d439c"
      },
      "execution_count": 15,
      "outputs": [
        {
          "output_type": "execute_result",
          "data": {
            "text/plain": [
              "<tf.Tensor: shape=(2, 3), dtype=float32, numpy=\n",
              "array([[ 1.3742578 , -0.21827085,  0.07731324],\n",
              "       [ 0.79761374, -0.11740932, -1.8225725 ]], dtype=float32)>"
            ]
          },
          "metadata": {},
          "execution_count": 15
        }
      ]
    },
    {
      "cell_type": "markdown",
      "source": [
        "<h2> Tensor Indexing </b>"
      ],
      "metadata": {
        "id": "9LiZosxBy6RQ"
      }
    },
    {
      "cell_type": "code",
      "source": [
        "tf_tensor = tf.constant([2, 20, 200, 2000, 20000])\n",
        "tf_tensor[0: 4]"
      ],
      "metadata": {
        "colab": {
          "base_uri": "https://localhost:8080/"
        },
        "id": "D25BqxJ4y6EA",
        "outputId": "420cc9c4-5791-4275-8af6-a793584f4d34"
      },
      "execution_count": 16,
      "outputs": [
        {
          "output_type": "execute_result",
          "data": {
            "text/plain": [
              "<tf.Tensor: shape=(4,), dtype=int32, numpy=array([   2,   20,  200, 2000], dtype=int32)>"
            ]
          },
          "metadata": {},
          "execution_count": 16
        }
      ]
    },
    {
      "cell_type": "code",
      "source": [
        "tf_tensor[0: 4: 2]"
      ],
      "metadata": {
        "colab": {
          "base_uri": "https://localhost:8080/"
        },
        "id": "HRLY9RBW0Kvn",
        "outputId": "baf8bfc4-d60c-4ed3-8647-77324d483b40"
      },
      "execution_count": 17,
      "outputs": [
        {
          "output_type": "execute_result",
          "data": {
            "text/plain": [
              "<tf.Tensor: shape=(2,), dtype=int32, numpy=array([  2, 200], dtype=int32)>"
            ]
          },
          "metadata": {},
          "execution_count": 17
        }
      ]
    },
    {
      "cell_type": "code",
      "source": [
        "tf_2d_tensor = tf.reshape(tf.range(1, 24+1), [4, 6])\n",
        "tf_2d_tensor"
      ],
      "metadata": {
        "colab": {
          "base_uri": "https://localhost:8080/"
        },
        "id": "F1EyVpIFz-XT",
        "outputId": "3f792169-95fe-4fb2-bece-e7929e54526e"
      },
      "execution_count": 32,
      "outputs": [
        {
          "output_type": "execute_result",
          "data": {
            "text/plain": [
              "<tf.Tensor: shape=(4, 6), dtype=int32, numpy=\n",
              "array([[ 1,  2,  3,  4,  5,  6],\n",
              "       [ 7,  8,  9, 10, 11, 12],\n",
              "       [13, 14, 15, 16, 17, 18],\n",
              "       [19, 20, 21, 22, 23, 24]], dtype=int32)>"
            ]
          },
          "metadata": {},
          "execution_count": 32
        }
      ]
    },
    {
      "cell_type": "code",
      "source": [
        "# indexing\n",
        "tf_2d_tensor[1:3, 2: 5]"
      ],
      "metadata": {
        "colab": {
          "base_uri": "https://localhost:8080/"
        },
        "id": "OGQlLPX_1EIq",
        "outputId": "39a11b03-039d-4a38-89f2-898091dd4918"
      },
      "execution_count": 33,
      "outputs": [
        {
          "output_type": "execute_result",
          "data": {
            "text/plain": [
              "<tf.Tensor: shape=(2, 3), dtype=int32, numpy=\n",
              "array([[ 9, 10, 11],\n",
              "       [15, 16, 17]], dtype=int32)>"
            ]
          },
          "metadata": {},
          "execution_count": 33
        }
      ]
    },
    {
      "cell_type": "code",
      "source": [
        "# getting 23 in the 4th row and 5th column\n",
        "tf_2d_tensor[3, 4]"
      ],
      "metadata": {
        "colab": {
          "base_uri": "https://localhost:8080/"
        },
        "id": "KShvnu6u17lk",
        "outputId": "930ef613-b958-4b1c-bcd0-84794f129660"
      },
      "execution_count": 39,
      "outputs": [
        {
          "output_type": "execute_result",
          "data": {
            "text/plain": [
              "<tf.Tensor: shape=(), dtype=int32, numpy=23>"
            ]
          },
          "metadata": {},
          "execution_count": 39
        }
      ]
    },
    {
      "cell_type": "code",
      "source": [
        "# picking every row, or any dimension\n",
        "tf_2d_tensor[..., 3]"
      ],
      "metadata": {
        "colab": {
          "base_uri": "https://localhost:8080/"
        },
        "id": "mezCmMJq28dv",
        "outputId": "b7f9ba0e-2ddf-41b0-a714-7fc5c9663961"
      },
      "execution_count": 40,
      "outputs": [
        {
          "output_type": "execute_result",
          "data": {
            "text/plain": [
              "<tf.Tensor: shape=(4,), dtype=int32, numpy=array([ 4, 10, 16, 22], dtype=int32)>"
            ]
          },
          "metadata": {},
          "execution_count": 40
        }
      ]
    },
    {
      "cell_type": "code",
      "source": [
        "# 2d tensor indexing\n",
        "\n",
        "tf_3d_tensor = tf.reshape(tf.range(1, 30+1), [3, 5, 2])\n",
        "tf_3d_tensor"
      ],
      "metadata": {
        "colab": {
          "base_uri": "https://localhost:8080/"
        },
        "id": "oZJBy9v53xs5",
        "outputId": "4fd41faa-3761-4054-a3c0-cbfa0355be52"
      },
      "execution_count": 41,
      "outputs": [
        {
          "output_type": "execute_result",
          "data": {
            "text/plain": [
              "<tf.Tensor: shape=(3, 5, 2), dtype=int32, numpy=\n",
              "array([[[ 1,  2],\n",
              "        [ 3,  4],\n",
              "        [ 5,  6],\n",
              "        [ 7,  8],\n",
              "        [ 9, 10]],\n",
              "\n",
              "       [[11, 12],\n",
              "        [13, 14],\n",
              "        [15, 16],\n",
              "        [17, 18],\n",
              "        [19, 20]],\n",
              "\n",
              "       [[21, 22],\n",
              "        [23, 24],\n",
              "        [25, 26],\n",
              "        [27, 28],\n",
              "        [29, 30]]], dtype=int32)>"
            ]
          },
          "metadata": {},
          "execution_count": 41
        }
      ]
    },
    {
      "cell_type": "code",
      "source": [
        "tf_3d_tensor[1:4, 0:2, 0]"
      ],
      "metadata": {
        "colab": {
          "base_uri": "https://localhost:8080/"
        },
        "id": "B_M1VOp_4Nhy",
        "outputId": "2c5a026d-efdc-42eb-a9f4-e3b8906d9402"
      },
      "execution_count": 42,
      "outputs": [
        {
          "output_type": "execute_result",
          "data": {
            "text/plain": [
              "<tf.Tensor: shape=(2, 2), dtype=int32, numpy=\n",
              "array([[11, 13],\n",
              "       [21, 23]], dtype=int32)>"
            ]
          },
          "metadata": {},
          "execution_count": 42
        }
      ]
    },
    {
      "cell_type": "code",
      "source": [
        "tf_3d_tensor[1:4, 0:2, ...]"
      ],
      "metadata": {
        "colab": {
          "base_uri": "https://localhost:8080/"
        },
        "id": "fNi4fbwF4Yan",
        "outputId": "7560b55c-9cb3-4638-a581-8ce8a3cf199c"
      },
      "execution_count": 43,
      "outputs": [
        {
          "output_type": "execute_result",
          "data": {
            "text/plain": [
              "<tf.Tensor: shape=(2, 2, 2), dtype=int32, numpy=\n",
              "array([[[11, 12],\n",
              "        [13, 14]],\n",
              "\n",
              "       [[21, 22],\n",
              "        [23, 24]]], dtype=int32)>"
            ]
          },
          "metadata": {},
          "execution_count": 43
        }
      ]
    },
    {
      "cell_type": "code",
      "source": [
        "tf_3d_tensor[0, :, :]"
      ],
      "metadata": {
        "colab": {
          "base_uri": "https://localhost:8080/"
        },
        "id": "o_LwkxoG4hKi",
        "outputId": "f71fd455-1c84-4dde-8717-1600901ead75"
      },
      "execution_count": 45,
      "outputs": [
        {
          "output_type": "execute_result",
          "data": {
            "text/plain": [
              "<tf.Tensor: shape=(5, 2), dtype=int32, numpy=\n",
              "array([[ 1,  2],\n",
              "       [ 3,  4],\n",
              "       [ 5,  6],\n",
              "       [ 7,  8],\n",
              "       [ 9, 10]], dtype=int32)>"
            ]
          },
          "metadata": {},
          "execution_count": 45
        }
      ]
    },
    {
      "cell_type": "markdown",
      "source": [
        "<h2> Matrix Multiplication <h2>"
      ],
      "metadata": {
        "id": "U5W1FIQhAI8U"
      }
    },
    {
      "cell_type": "code",
      "source": [
        "tensor_1 = tf.constant([1, 2, 3, 4])\n",
        "tensor_2 = tf.constant([[10], [11], [13], [14], [15]])\n",
        "\n",
        "\n",
        "print(tensor_1.shape)\n",
        "print(tensor_2.shape)\n",
        "multiply_tensors = tf.math.multiply(tensor_1, tensor_2)\n",
        "\n",
        "print(multiply_tensors)"
      ],
      "metadata": {
        "colab": {
          "base_uri": "https://localhost:8080/"
        },
        "id": "KMI7QWSv4t55",
        "outputId": "e523a064-7a71-44cf-da11-9eebcca1ee75"
      },
      "execution_count": 52,
      "outputs": [
        {
          "output_type": "stream",
          "name": "stdout",
          "text": [
            "(4,)\n",
            "(5, 1)\n",
            "tf.Tensor(\n",
            "[[10 20 30 40]\n",
            " [11 22 33 44]\n",
            " [13 26 39 52]\n",
            " [14 28 42 56]\n",
            " [15 30 45 60]], shape=(5, 4), dtype=int32)\n"
          ]
        }
      ]
    },
    {
      "cell_type": "code",
      "source": [
        "tf_2d_tensor = tf.constant([[1, 2, 3],\n",
        "                            [4, 5, 6],\n",
        "                            [7, 8, 9],\n",
        "                            [10, 11, 12]])\n",
        "\n",
        "tf.math.reduce_sum(\n",
        "    tf_2d_tensor, axis=0, keepdims=True, name=None\n",
        ")"
      ],
      "metadata": {
        "colab": {
          "base_uri": "https://localhost:8080/"
        },
        "id": "vqXs6HkQAccu",
        "outputId": "493d961d-ac82-46a7-d7a7-a6f9d6ff30e7"
      },
      "execution_count": 57,
      "outputs": [
        {
          "output_type": "execute_result",
          "data": {
            "text/plain": [
              "<tf.Tensor: shape=(1, 3), dtype=int32, numpy=array([[22, 26, 30]], dtype=int32)>"
            ]
          },
          "metadata": {},
          "execution_count": 57
        }
      ]
    },
    {
      "cell_type": "code",
      "source": [
        "tf.math.reduce_sum(\n",
        "    tf_2d_tensor, axis=0, keepdims=False, name=None\n",
        ")"
      ],
      "metadata": {
        "colab": {
          "base_uri": "https://localhost:8080/"
        },
        "id": "Kt2rnDL2IgT_",
        "outputId": "acde1551-a03c-4de4-873c-0050d953548a"
      },
      "execution_count": 59,
      "outputs": [
        {
          "output_type": "execute_result",
          "data": {
            "text/plain": [
              "<tf.Tensor: shape=(3,), dtype=int32, numpy=array([22, 26, 30], dtype=int32)>"
            ]
          },
          "metadata": {},
          "execution_count": 59
        }
      ]
    },
    {
      "cell_type": "code",
      "source": [
        "tf.math.reduce_sum(\n",
        "    tf_2d_tensor, axis=1, keepdims=False, name=None\n",
        ")"
      ],
      "metadata": {
        "colab": {
          "base_uri": "https://localhost:8080/"
        },
        "id": "VJxiYP2OI5n1",
        "outputId": "f84bf40b-0f1e-49b5-8c20-34fa45ac54ad"
      },
      "execution_count": 60,
      "outputs": [
        {
          "output_type": "execute_result",
          "data": {
            "text/plain": [
              "<tf.Tensor: shape=(4,), dtype=int32, numpy=array([ 6, 15, 24, 33], dtype=int32)>"
            ]
          },
          "metadata": {},
          "execution_count": 60
        }
      ]
    },
    {
      "cell_type": "code",
      "source": [],
      "metadata": {
        "id": "rrVXv5lGI_Pg"
      },
      "execution_count": null,
      "outputs": []
    }
  ]
}