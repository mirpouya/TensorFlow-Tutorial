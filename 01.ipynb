{
  "nbformat": 4,
  "nbformat_minor": 0,
  "metadata": {
    "colab": {
      "provenance": [],
      "authorship_tag": "ABX9TyMkMzDgvvLsqgeizjeJJHwk",
      "include_colab_link": true
    },
    "kernelspec": {
      "name": "python3",
      "display_name": "Python 3"
    },
    "language_info": {
      "name": "python"
    }
  },
  "cells": [
    {
      "cell_type": "markdown",
      "metadata": {
        "id": "view-in-github",
        "colab_type": "text"
      },
      "source": [
        "<a href=\"https://colab.research.google.com/github/mirpouya/TensorFlow-Tutorial/blob/main/01.ipynb\" target=\"_parent\"><img src=\"https://colab.research.google.com/assets/colab-badge.svg\" alt=\"Open In Colab\"/></a>"
      ]
    },
    {
      "cell_type": "code",
      "execution_count": 1,
      "metadata": {
        "id": "qElfIHftjflk"
      },
      "outputs": [],
      "source": [
        "import tensorflow as tf"
      ]
    },
    {
      "cell_type": "code",
      "source": [
        "tensor_zero_d = tf.constant(5)\n",
        "tensor_zero_d"
      ],
      "metadata": {
        "colab": {
          "base_uri": "https://localhost:8080/"
        },
        "id": "QFknrrugl5iK",
        "outputId": "8f6e7b5f-d155-490f-ceea-d4fd2a970966"
      },
      "execution_count": 2,
      "outputs": [
        {
          "output_type": "execute_result",
          "data": {
            "text/plain": [
              "<tf.Tensor: shape=(), dtype=int32, numpy=5>"
            ]
          },
          "metadata": {},
          "execution_count": 2
        }
      ]
    },
    {
      "cell_type": "markdown",
      "source": [
        "as you can see it has no shape"
      ],
      "metadata": {
        "id": "o9SbvvkkmKsj"
      }
    },
    {
      "cell_type": "code",
      "source": [
        "tensor_one_d = tf.constant([1, 2, 3])\n",
        "tensor_one_d"
      ],
      "metadata": {
        "colab": {
          "base_uri": "https://localhost:8080/"
        },
        "id": "nt-I49uwmC6K",
        "outputId": "c568dcb5-63ac-4c33-a8b9-d1a70103317b"
      },
      "execution_count": 3,
      "outputs": [
        {
          "output_type": "execute_result",
          "data": {
            "text/plain": [
              "<tf.Tensor: shape=(3,), dtype=int32, numpy=array([1, 2, 3], dtype=int32)>"
            ]
          },
          "metadata": {},
          "execution_count": 3
        }
      ]
    },
    {
      "cell_type": "code",
      "source": [
        "tensor_two_d = tf.constant([\n",
        "    [1, 2, 3, 4],\n",
        "    [-1, -2, -3, -4],\n",
        "    [11, 22, 33, 44]\n",
        "])\n",
        "\n",
        "tensor_two_d"
      ],
      "metadata": {
        "colab": {
          "base_uri": "https://localhost:8080/"
        },
        "id": "-6YKPrW4mTOi",
        "outputId": "ff83b19d-be0e-477d-c3da-7c899ecbed19"
      },
      "execution_count": 5,
      "outputs": [
        {
          "output_type": "execute_result",
          "data": {
            "text/plain": [
              "<tf.Tensor: shape=(3, 4), dtype=int32, numpy=\n",
              "array([[ 1,  2,  3,  4],\n",
              "       [-1, -2, -3, -4],\n",
              "       [11, 22, 33, 44]], dtype=int32)>"
            ]
          },
          "metadata": {},
          "execution_count": 5
        }
      ]
    },
    {
      "cell_type": "code",
      "source": [
        "tensor_three_d = tf.constant([\n",
        "    [\n",
        "        [1, 2, 3, 4],\n",
        "        [11, 22, 33, 44],\n",
        "        [111, 222, 333, 444]\n",
        "    ],\n",
        "\n",
        "    [\n",
        "        [-1, -2, -3, -4],\n",
        "        [-11, -22, -33, -44],\n",
        "        [-111, -222, -333, -444]\n",
        "    ]\n",
        "])\n",
        "\n",
        "tensor_three_d"
      ],
      "metadata": {
        "colab": {
          "base_uri": "https://localhost:8080/"
        },
        "id": "8b-Vozwom8Dr",
        "outputId": "3d18e36b-2209-4fa0-cef4-ba85b9906447"
      },
      "execution_count": 8,
      "outputs": [
        {
          "output_type": "execute_result",
          "data": {
            "text/plain": [
              "<tf.Tensor: shape=(2, 3, 4), dtype=int32, numpy=\n",
              "array([[[   1,    2,    3,    4],\n",
              "        [  11,   22,   33,   44],\n",
              "        [ 111,  222,  333,  444]],\n",
              "\n",
              "       [[  -1,   -2,   -3,   -4],\n",
              "        [ -11,  -22,  -33,  -44],\n",
              "        [-111, -222, -333, -444]]], dtype=int32)>"
            ]
          },
          "metadata": {},
          "execution_count": 8
        }
      ]
    },
    {
      "cell_type": "code",
      "source": [
        "tensor_zero_d.ndim, tensor_one_d.ndim, tensor_two_d.ndim, tensor_three_d.ndim"
      ],
      "metadata": {
        "colab": {
          "base_uri": "https://localhost:8080/"
        },
        "id": "CwSjaVGJnj_a",
        "outputId": "f8e2ba33-bfb1-450a-c679-df041c219bb6"
      },
      "execution_count": 10,
      "outputs": [
        {
          "output_type": "execute_result",
          "data": {
            "text/plain": [
              "(0, 1, 2, 3)"
            ]
          },
          "metadata": {},
          "execution_count": 10
        }
      ]
    },
    {
      "cell_type": "code",
      "source": [
        "import numpy as np"
      ],
      "metadata": {
        "id": "DPsbAhWOoKLg"
      },
      "execution_count": 11,
      "outputs": []
    },
    {
      "cell_type": "code",
      "source": [
        "np_array = np.array([1, 2, 3, 4])\n",
        "np_array"
      ],
      "metadata": {
        "colab": {
          "base_uri": "https://localhost:8080/"
        },
        "id": "JdQ5WOsHrgzF",
        "outputId": "5525366a-b1df-4bdf-a3b8-c16e55b590d1"
      },
      "execution_count": 14,
      "outputs": [
        {
          "output_type": "execute_result",
          "data": {
            "text/plain": [
              "array([1, 2, 3, 4])"
            ]
          },
          "metadata": {},
          "execution_count": 14
        }
      ]
    },
    {
      "cell_type": "code",
      "source": [
        "np_array.shape"
      ],
      "metadata": {
        "colab": {
          "base_uri": "https://localhost:8080/"
        },
        "id": "_-ht9OK5rkx8",
        "outputId": "e0dbd1bb-ab66-4b74-f690-bce594804244"
      },
      "execution_count": 15,
      "outputs": [
        {
          "output_type": "execute_result",
          "data": {
            "text/plain": [
              "(4,)"
            ]
          },
          "metadata": {},
          "execution_count": 15
        }
      ]
    },
    {
      "cell_type": "code",
      "source": [
        "# convert to tensor\n",
        "tf_array = tf.convert_to_tensor(np_array)\n",
        "tf_array"
      ],
      "metadata": {
        "colab": {
          "base_uri": "https://localhost:8080/"
        },
        "id": "3DOtwBRcrsuK",
        "outputId": "bc5ea1c9-640e-4860-96f8-b9dbf2da5584"
      },
      "execution_count": 16,
      "outputs": [
        {
          "output_type": "execute_result",
          "data": {
            "text/plain": [
              "<tf.Tensor: shape=(4,), dtype=int64, numpy=array([1, 2, 3, 4])>"
            ]
          },
          "metadata": {},
          "execution_count": 16
        }
      ]
    },
    {
      "cell_type": "code",
      "source": [
        "eye_tensor = tf.eye(\n",
        "    num_rows = 3,\n",
        "    num_columns= 4,\n",
        "    dtype = tf.float32,\n",
        "    name = \"bababa\"\n",
        ")\n",
        "\n",
        "eye_tensor"
      ],
      "metadata": {
        "colab": {
          "base_uri": "https://localhost:8080/"
        },
        "id": "-tC4U8VurzYq",
        "outputId": "eaba4eff-3ef7-432f-ed54-9f5e7fad8ef7"
      },
      "execution_count": 18,
      "outputs": [
        {
          "output_type": "execute_result",
          "data": {
            "text/plain": [
              "<tf.Tensor: shape=(3, 4), dtype=float32, numpy=\n",
              "array([[1., 0., 0., 0.],\n",
              "       [0., 1., 0., 0.],\n",
              "       [0., 0., 1., 0.]], dtype=float32)>"
            ]
          },
          "metadata": {},
          "execution_count": 18
        }
      ]
    },
    {
      "cell_type": "code",
      "source": [
        "# fill method\n",
        "\n",
        "fill_tensor = tf.fill(\n",
        "    [2, 3, 4], 3\n",
        ")\n",
        "\n",
        "fill_tensor"
      ],
      "metadata": {
        "colab": {
          "base_uri": "https://localhost:8080/"
        },
        "id": "jIveqpMvsMwb",
        "outputId": "067e87de-dc3b-445d-c49b-496a19fec34e"
      },
      "execution_count": 21,
      "outputs": [
        {
          "output_type": "execute_result",
          "data": {
            "text/plain": [
              "<tf.Tensor: shape=(2, 3, 4), dtype=int32, numpy=\n",
              "array([[[3, 3, 3, 3],\n",
              "        [3, 3, 3, 3],\n",
              "        [3, 3, 3, 3]],\n",
              "\n",
              "       [[3, 3, 3, 3],\n",
              "        [3, 3, 3, 3],\n",
              "        [3, 3, 3, 3]]], dtype=int32)>"
            ]
          },
          "metadata": {},
          "execution_count": 21
        }
      ]
    },
    {
      "cell_type": "code",
      "source": [
        "# ones_like method\n",
        "\n",
        "ones_like_tensor = tf.ones_like(\n",
        "    fill_tensor\n",
        ")\n",
        "\n",
        "ones_like_tensor"
      ],
      "metadata": {
        "colab": {
          "base_uri": "https://localhost:8080/"
        },
        "id": "prgw6oVctRhK",
        "outputId": "6f38f86c-db39-46a1-e781-06b25f4c7ae8"
      },
      "execution_count": 22,
      "outputs": [
        {
          "output_type": "execute_result",
          "data": {
            "text/plain": [
              "<tf.Tensor: shape=(2, 3, 4), dtype=int32, numpy=\n",
              "array([[[1, 1, 1, 1],\n",
              "        [1, 1, 1, 1],\n",
              "        [1, 1, 1, 1]],\n",
              "\n",
              "       [[1, 1, 1, 1],\n",
              "        [1, 1, 1, 1],\n",
              "        [1, 1, 1, 1]]], dtype=int32)>"
            ]
          },
          "metadata": {},
          "execution_count": 22
        }
      ]
    },
    {
      "cell_type": "code",
      "source": [
        "ones_like_tensor.shape, tf.size(ones_like_tensor)"
      ],
      "metadata": {
        "colab": {
          "base_uri": "https://localhost:8080/"
        },
        "id": "lBgOtB1Lv5qD",
        "outputId": "27d6d6de-a3e8-4706-e5f7-af67469ef884"
      },
      "execution_count": 25,
      "outputs": [
        {
          "output_type": "execute_result",
          "data": {
            "text/plain": [
              "(TensorShape([2, 3, 4]), <tf.Tensor: shape=(), dtype=int32, numpy=24>)"
            ]
          },
          "metadata": {},
          "execution_count": 25
        }
      ]
    },
    {
      "cell_type": "code",
      "source": [
        "# normal random tensor\n",
        "\n",
        "normal_random_tensor = tf.random.normal(\n",
        "    [2, 3],\n",
        "    mean = 0.0,\n",
        "    stddev = 1.0,\n",
        "    seed = None,\n",
        "    name = None\n",
        ")\n",
        "\n",
        "normal_random_tensor"
      ],
      "metadata": {
        "colab": {
          "base_uri": "https://localhost:8080/"
        },
        "id": "bIONC2yhygF7",
        "outputId": "4310fce0-e51c-4f91-ce0f-65cc75ca17f8"
      },
      "execution_count": 27,
      "outputs": [
        {
          "output_type": "execute_result",
          "data": {
            "text/plain": [
              "<tf.Tensor: shape=(2, 3), dtype=float32, numpy=\n",
              "array([[-0.33867437,  1.2658099 ,  0.51056135],\n",
              "       [ 0.04571918,  0.04542223,  0.9992742 ]], dtype=float32)>"
            ]
          },
          "metadata": {},
          "execution_count": 27
        }
      ]
    },
    {
      "cell_type": "code",
      "source": [],
      "metadata": {
        "id": "HRLY9RBW0Kvn"
      },
      "execution_count": null,
      "outputs": []
    }
  ]
}