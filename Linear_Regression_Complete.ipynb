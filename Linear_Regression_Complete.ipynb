{
  "nbformat": 4,
  "nbformat_minor": 0,
  "metadata": {
    "colab": {
      "provenance": [],
      "authorship_tag": "ABX9TyOUFGRqQV0t0gHKI8vyk3B1",
      "include_colab_link": true
    },
    "kernelspec": {
      "name": "python3",
      "display_name": "Python 3"
    },
    "language_info": {
      "name": "python"
    }
  },
  "cells": [
    {
      "cell_type": "markdown",
      "metadata": {
        "id": "view-in-github",
        "colab_type": "text"
      },
      "source": [
        "<a href=\"https://colab.research.google.com/github/mirpouya/TensorFlow-Tutorial/blob/main/Linear_Regression_Complete.ipynb\" target=\"_parent\"><img src=\"https://colab.research.google.com/assets/colab-badge.svg\" alt=\"Open In Colab\"/></a>"
      ]
    },
    {
      "cell_type": "code",
      "execution_count": 1,
      "metadata": {
        "id": "Ch05KiBZfvbr"
      },
      "outputs": [],
      "source": [
        "import tensorflow as tf  # model\n",
        "import pandas as pd  # data preparation\n",
        "import seaborn as sns  # visualization"
      ]
    },
    {
      "cell_type": "markdown",
      "source": [
        "<h2> <b> Data Preparation </b> </h2>"
      ],
      "metadata": {
        "id": "I9GJCfuZgore"
      }
    },
    {
      "cell_type": "code",
      "source": [
        "data = pd.read_csv(\"train.csv\")\n",
        "data.head()"
      ],
      "metadata": {
        "colab": {
          "base_uri": "https://localhost:8080/",
          "height": 206
        },
        "id": "JL18lSUIgkCq",
        "outputId": "113d44a7-3676-4bae-9e35-e21c1582dcfc"
      },
      "execution_count": 2,
      "outputs": [
        {
          "output_type": "execute_result",
          "data": {
            "text/plain": [
              "   v.id  on road old  on road now  years      km  rating  condition  economy  \\\n",
              "0     1       535651       798186      3   78945       1          2       14   \n",
              "1     2       591911       861056      6  117220       5          9        9   \n",
              "2     3       686990       770762      2  132538       2          8       15   \n",
              "3     4       573999       722381      4  101065       4          3       11   \n",
              "4     5       691388       811335      6   61559       3          9       12   \n",
              "\n",
              "   top speed  hp  torque  current price  \n",
              "0        177  73     123       351318.0  \n",
              "1        148  74      95       285001.5  \n",
              "2        181  53      97       215386.0  \n",
              "3        197  54     116       244295.5  \n",
              "4        160  53     105       531114.5  "
            ],
            "text/html": [
              "\n",
              "  <div id=\"df-9968bdd6-f8c1-47ff-8394-e18a44ee6a01\" class=\"colab-df-container\">\n",
              "    <div>\n",
              "<style scoped>\n",
              "    .dataframe tbody tr th:only-of-type {\n",
              "        vertical-align: middle;\n",
              "    }\n",
              "\n",
              "    .dataframe tbody tr th {\n",
              "        vertical-align: top;\n",
              "    }\n",
              "\n",
              "    .dataframe thead th {\n",
              "        text-align: right;\n",
              "    }\n",
              "</style>\n",
              "<table border=\"1\" class=\"dataframe\">\n",
              "  <thead>\n",
              "    <tr style=\"text-align: right;\">\n",
              "      <th></th>\n",
              "      <th>v.id</th>\n",
              "      <th>on road old</th>\n",
              "      <th>on road now</th>\n",
              "      <th>years</th>\n",
              "      <th>km</th>\n",
              "      <th>rating</th>\n",
              "      <th>condition</th>\n",
              "      <th>economy</th>\n",
              "      <th>top speed</th>\n",
              "      <th>hp</th>\n",
              "      <th>torque</th>\n",
              "      <th>current price</th>\n",
              "    </tr>\n",
              "  </thead>\n",
              "  <tbody>\n",
              "    <tr>\n",
              "      <th>0</th>\n",
              "      <td>1</td>\n",
              "      <td>535651</td>\n",
              "      <td>798186</td>\n",
              "      <td>3</td>\n",
              "      <td>78945</td>\n",
              "      <td>1</td>\n",
              "      <td>2</td>\n",
              "      <td>14</td>\n",
              "      <td>177</td>\n",
              "      <td>73</td>\n",
              "      <td>123</td>\n",
              "      <td>351318.0</td>\n",
              "    </tr>\n",
              "    <tr>\n",
              "      <th>1</th>\n",
              "      <td>2</td>\n",
              "      <td>591911</td>\n",
              "      <td>861056</td>\n",
              "      <td>6</td>\n",
              "      <td>117220</td>\n",
              "      <td>5</td>\n",
              "      <td>9</td>\n",
              "      <td>9</td>\n",
              "      <td>148</td>\n",
              "      <td>74</td>\n",
              "      <td>95</td>\n",
              "      <td>285001.5</td>\n",
              "    </tr>\n",
              "    <tr>\n",
              "      <th>2</th>\n",
              "      <td>3</td>\n",
              "      <td>686990</td>\n",
              "      <td>770762</td>\n",
              "      <td>2</td>\n",
              "      <td>132538</td>\n",
              "      <td>2</td>\n",
              "      <td>8</td>\n",
              "      <td>15</td>\n",
              "      <td>181</td>\n",
              "      <td>53</td>\n",
              "      <td>97</td>\n",
              "      <td>215386.0</td>\n",
              "    </tr>\n",
              "    <tr>\n",
              "      <th>3</th>\n",
              "      <td>4</td>\n",
              "      <td>573999</td>\n",
              "      <td>722381</td>\n",
              "      <td>4</td>\n",
              "      <td>101065</td>\n",
              "      <td>4</td>\n",
              "      <td>3</td>\n",
              "      <td>11</td>\n",
              "      <td>197</td>\n",
              "      <td>54</td>\n",
              "      <td>116</td>\n",
              "      <td>244295.5</td>\n",
              "    </tr>\n",
              "    <tr>\n",
              "      <th>4</th>\n",
              "      <td>5</td>\n",
              "      <td>691388</td>\n",
              "      <td>811335</td>\n",
              "      <td>6</td>\n",
              "      <td>61559</td>\n",
              "      <td>3</td>\n",
              "      <td>9</td>\n",
              "      <td>12</td>\n",
              "      <td>160</td>\n",
              "      <td>53</td>\n",
              "      <td>105</td>\n",
              "      <td>531114.5</td>\n",
              "    </tr>\n",
              "  </tbody>\n",
              "</table>\n",
              "</div>\n",
              "    <div class=\"colab-df-buttons\">\n",
              "\n",
              "  <div class=\"colab-df-container\">\n",
              "    <button class=\"colab-df-convert\" onclick=\"convertToInteractive('df-9968bdd6-f8c1-47ff-8394-e18a44ee6a01')\"\n",
              "            title=\"Convert this dataframe to an interactive table.\"\n",
              "            style=\"display:none;\">\n",
              "\n",
              "  <svg xmlns=\"http://www.w3.org/2000/svg\" height=\"24px\" viewBox=\"0 -960 960 960\">\n",
              "    <path d=\"M120-120v-720h720v720H120Zm60-500h600v-160H180v160Zm220 220h160v-160H400v160Zm0 220h160v-160H400v160ZM180-400h160v-160H180v160Zm440 0h160v-160H620v160ZM180-180h160v-160H180v160Zm440 0h160v-160H620v160Z\"/>\n",
              "  </svg>\n",
              "    </button>\n",
              "\n",
              "  <style>\n",
              "    .colab-df-container {\n",
              "      display:flex;\n",
              "      gap: 12px;\n",
              "    }\n",
              "\n",
              "    .colab-df-convert {\n",
              "      background-color: #E8F0FE;\n",
              "      border: none;\n",
              "      border-radius: 50%;\n",
              "      cursor: pointer;\n",
              "      display: none;\n",
              "      fill: #1967D2;\n",
              "      height: 32px;\n",
              "      padding: 0 0 0 0;\n",
              "      width: 32px;\n",
              "    }\n",
              "\n",
              "    .colab-df-convert:hover {\n",
              "      background-color: #E2EBFA;\n",
              "      box-shadow: 0px 1px 2px rgba(60, 64, 67, 0.3), 0px 1px 3px 1px rgba(60, 64, 67, 0.15);\n",
              "      fill: #174EA6;\n",
              "    }\n",
              "\n",
              "    .colab-df-buttons div {\n",
              "      margin-bottom: 4px;\n",
              "    }\n",
              "\n",
              "    [theme=dark] .colab-df-convert {\n",
              "      background-color: #3B4455;\n",
              "      fill: #D2E3FC;\n",
              "    }\n",
              "\n",
              "    [theme=dark] .colab-df-convert:hover {\n",
              "      background-color: #434B5C;\n",
              "      box-shadow: 0px 1px 3px 1px rgba(0, 0, 0, 0.15);\n",
              "      filter: drop-shadow(0px 1px 2px rgba(0, 0, 0, 0.3));\n",
              "      fill: #FFFFFF;\n",
              "    }\n",
              "  </style>\n",
              "\n",
              "    <script>\n",
              "      const buttonEl =\n",
              "        document.querySelector('#df-9968bdd6-f8c1-47ff-8394-e18a44ee6a01 button.colab-df-convert');\n",
              "      buttonEl.style.display =\n",
              "        google.colab.kernel.accessAllowed ? 'block' : 'none';\n",
              "\n",
              "      async function convertToInteractive(key) {\n",
              "        const element = document.querySelector('#df-9968bdd6-f8c1-47ff-8394-e18a44ee6a01');\n",
              "        const dataTable =\n",
              "          await google.colab.kernel.invokeFunction('convertToInteractive',\n",
              "                                                    [key], {});\n",
              "        if (!dataTable) return;\n",
              "\n",
              "        const docLinkHtml = 'Like what you see? Visit the ' +\n",
              "          '<a target=\"_blank\" href=https://colab.research.google.com/notebooks/data_table.ipynb>data table notebook</a>'\n",
              "          + ' to learn more about interactive tables.';\n",
              "        element.innerHTML = '';\n",
              "        dataTable['output_type'] = 'display_data';\n",
              "        await google.colab.output.renderOutput(dataTable, element);\n",
              "        const docLink = document.createElement('div');\n",
              "        docLink.innerHTML = docLinkHtml;\n",
              "        element.appendChild(docLink);\n",
              "      }\n",
              "    </script>\n",
              "  </div>\n",
              "\n",
              "\n",
              "<div id=\"df-72958b75-0a6a-4427-a614-05eab68315db\">\n",
              "  <button class=\"colab-df-quickchart\" onclick=\"quickchart('df-72958b75-0a6a-4427-a614-05eab68315db')\"\n",
              "            title=\"Suggest charts.\"\n",
              "            style=\"display:none;\">\n",
              "\n",
              "<svg xmlns=\"http://www.w3.org/2000/svg\" height=\"24px\"viewBox=\"0 0 24 24\"\n",
              "     width=\"24px\">\n",
              "    <g>\n",
              "        <path d=\"M19 3H5c-1.1 0-2 .9-2 2v14c0 1.1.9 2 2 2h14c1.1 0 2-.9 2-2V5c0-1.1-.9-2-2-2zM9 17H7v-7h2v7zm4 0h-2V7h2v10zm4 0h-2v-4h2v4z\"/>\n",
              "    </g>\n",
              "</svg>\n",
              "  </button>\n",
              "\n",
              "<style>\n",
              "  .colab-df-quickchart {\n",
              "      --bg-color: #E8F0FE;\n",
              "      --fill-color: #1967D2;\n",
              "      --hover-bg-color: #E2EBFA;\n",
              "      --hover-fill-color: #174EA6;\n",
              "      --disabled-fill-color: #AAA;\n",
              "      --disabled-bg-color: #DDD;\n",
              "  }\n",
              "\n",
              "  [theme=dark] .colab-df-quickchart {\n",
              "      --bg-color: #3B4455;\n",
              "      --fill-color: #D2E3FC;\n",
              "      --hover-bg-color: #434B5C;\n",
              "      --hover-fill-color: #FFFFFF;\n",
              "      --disabled-bg-color: #3B4455;\n",
              "      --disabled-fill-color: #666;\n",
              "  }\n",
              "\n",
              "  .colab-df-quickchart {\n",
              "    background-color: var(--bg-color);\n",
              "    border: none;\n",
              "    border-radius: 50%;\n",
              "    cursor: pointer;\n",
              "    display: none;\n",
              "    fill: var(--fill-color);\n",
              "    height: 32px;\n",
              "    padding: 0;\n",
              "    width: 32px;\n",
              "  }\n",
              "\n",
              "  .colab-df-quickchart:hover {\n",
              "    background-color: var(--hover-bg-color);\n",
              "    box-shadow: 0 1px 2px rgba(60, 64, 67, 0.3), 0 1px 3px 1px rgba(60, 64, 67, 0.15);\n",
              "    fill: var(--button-hover-fill-color);\n",
              "  }\n",
              "\n",
              "  .colab-df-quickchart-complete:disabled,\n",
              "  .colab-df-quickchart-complete:disabled:hover {\n",
              "    background-color: var(--disabled-bg-color);\n",
              "    fill: var(--disabled-fill-color);\n",
              "    box-shadow: none;\n",
              "  }\n",
              "\n",
              "  .colab-df-spinner {\n",
              "    border: 2px solid var(--fill-color);\n",
              "    border-color: transparent;\n",
              "    border-bottom-color: var(--fill-color);\n",
              "    animation:\n",
              "      spin 1s steps(1) infinite;\n",
              "  }\n",
              "\n",
              "  @keyframes spin {\n",
              "    0% {\n",
              "      border-color: transparent;\n",
              "      border-bottom-color: var(--fill-color);\n",
              "      border-left-color: var(--fill-color);\n",
              "    }\n",
              "    20% {\n",
              "      border-color: transparent;\n",
              "      border-left-color: var(--fill-color);\n",
              "      border-top-color: var(--fill-color);\n",
              "    }\n",
              "    30% {\n",
              "      border-color: transparent;\n",
              "      border-left-color: var(--fill-color);\n",
              "      border-top-color: var(--fill-color);\n",
              "      border-right-color: var(--fill-color);\n",
              "    }\n",
              "    40% {\n",
              "      border-color: transparent;\n",
              "      border-right-color: var(--fill-color);\n",
              "      border-top-color: var(--fill-color);\n",
              "    }\n",
              "    60% {\n",
              "      border-color: transparent;\n",
              "      border-right-color: var(--fill-color);\n",
              "    }\n",
              "    80% {\n",
              "      border-color: transparent;\n",
              "      border-right-color: var(--fill-color);\n",
              "      border-bottom-color: var(--fill-color);\n",
              "    }\n",
              "    90% {\n",
              "      border-color: transparent;\n",
              "      border-bottom-color: var(--fill-color);\n",
              "    }\n",
              "  }\n",
              "</style>\n",
              "\n",
              "  <script>\n",
              "    async function quickchart(key) {\n",
              "      const quickchartButtonEl =\n",
              "        document.querySelector('#' + key + ' button');\n",
              "      quickchartButtonEl.disabled = true;  // To prevent multiple clicks.\n",
              "      quickchartButtonEl.classList.add('colab-df-spinner');\n",
              "      try {\n",
              "        const charts = await google.colab.kernel.invokeFunction(\n",
              "            'suggestCharts', [key], {});\n",
              "      } catch (error) {\n",
              "        console.error('Error during call to suggestCharts:', error);\n",
              "      }\n",
              "      quickchartButtonEl.classList.remove('colab-df-spinner');\n",
              "      quickchartButtonEl.classList.add('colab-df-quickchart-complete');\n",
              "    }\n",
              "    (() => {\n",
              "      let quickchartButtonEl =\n",
              "        document.querySelector('#df-72958b75-0a6a-4427-a614-05eab68315db button');\n",
              "      quickchartButtonEl.style.display =\n",
              "        google.colab.kernel.accessAllowed ? 'block' : 'none';\n",
              "    })();\n",
              "  </script>\n",
              "</div>\n",
              "    </div>\n",
              "  </div>\n"
            ]
          },
          "metadata": {},
          "execution_count": 2
        }
      ]
    },
    {
      "cell_type": "code",
      "source": [
        "data.shape"
      ],
      "metadata": {
        "colab": {
          "base_uri": "https://localhost:8080/"
        },
        "id": "mgldY5P3g7Jd",
        "outputId": "c7e4079a-0f1f-4545-f31b-e847209b379a"
      },
      "execution_count": 3,
      "outputs": [
        {
          "output_type": "execute_result",
          "data": {
            "text/plain": [
              "(1000, 12)"
            ]
          },
          "metadata": {},
          "execution_count": 3
        }
      ]
    },
    {
      "cell_type": "code",
      "source": [
        "data.columns"
      ],
      "metadata": {
        "colab": {
          "base_uri": "https://localhost:8080/"
        },
        "id": "vaV2WAK8g9QK",
        "outputId": "81385aec-846d-485c-b8f6-9bb4a0b9f153"
      },
      "execution_count": 4,
      "outputs": [
        {
          "output_type": "execute_result",
          "data": {
            "text/plain": [
              "Index(['v.id', 'on road old', 'on road now', 'years', 'km', 'rating',\n",
              "       'condition', 'economy', 'top speed', 'hp', 'torque', 'current price'],\n",
              "      dtype='object')"
            ]
          },
          "metadata": {},
          "execution_count": 4
        }
      ]
    },
    {
      "cell_type": "markdown",
      "source": [
        "<h3> Convert data to tensors </h3>"
      ],
      "metadata": {
        "id": "9yux5caLhEuY"
      }
    },
    {
      "cell_type": "code",
      "source": [
        "tensor_data = tf.constant(data)"
      ],
      "metadata": {
        "id": "XOpvyQ3YhAtq"
      },
      "execution_count": 5,
      "outputs": []
    },
    {
      "cell_type": "code",
      "source": [
        "\n",
        "tensor_data.dtype"
      ],
      "metadata": {
        "colab": {
          "base_uri": "https://localhost:8080/"
        },
        "id": "yx1RCMgThNg_",
        "outputId": "6c01b34c-439e-4e8d-ab2c-104493ddf21e"
      },
      "execution_count": 6,
      "outputs": [
        {
          "output_type": "execute_result",
          "data": {
            "text/plain": [
              "tf.float64"
            ]
          },
          "metadata": {},
          "execution_count": 6
        }
      ]
    },
    {
      "cell_type": "code",
      "source": [
        "tensor_data = tf.cast(tensor_data, tf.float32)\n",
        "tensor_data.dtype"
      ],
      "metadata": {
        "colab": {
          "base_uri": "https://localhost:8080/"
        },
        "id": "kL-3-6sVhPBQ",
        "outputId": "a682016e-8498-4eae-b16e-7ec58fc20ee0"
      },
      "execution_count": 7,
      "outputs": [
        {
          "output_type": "execute_result",
          "data": {
            "text/plain": [
              "tf.float32"
            ]
          },
          "metadata": {},
          "execution_count": 7
        }
      ]
    },
    {
      "cell_type": "code",
      "source": [
        "tensor_data[:5]"
      ],
      "metadata": {
        "colab": {
          "base_uri": "https://localhost:8080/"
        },
        "id": "eCyKSg5jhV_m",
        "outputId": "b58c45c7-d88f-4a4a-da52-13b5fc650bcc"
      },
      "execution_count": 8,
      "outputs": [
        {
          "output_type": "execute_result",
          "data": {
            "text/plain": [
              "<tf.Tensor: shape=(5, 12), dtype=float32, numpy=\n",
              "array([[1.000000e+00, 5.356510e+05, 7.981860e+05, 3.000000e+00,\n",
              "        7.894500e+04, 1.000000e+00, 2.000000e+00, 1.400000e+01,\n",
              "        1.770000e+02, 7.300000e+01, 1.230000e+02, 3.513180e+05],\n",
              "       [2.000000e+00, 5.919110e+05, 8.610560e+05, 6.000000e+00,\n",
              "        1.172200e+05, 5.000000e+00, 9.000000e+00, 9.000000e+00,\n",
              "        1.480000e+02, 7.400000e+01, 9.500000e+01, 2.850015e+05],\n",
              "       [3.000000e+00, 6.869900e+05, 7.707620e+05, 2.000000e+00,\n",
              "        1.325380e+05, 2.000000e+00, 8.000000e+00, 1.500000e+01,\n",
              "        1.810000e+02, 5.300000e+01, 9.700000e+01, 2.153860e+05],\n",
              "       [4.000000e+00, 5.739990e+05, 7.223810e+05, 4.000000e+00,\n",
              "        1.010650e+05, 4.000000e+00, 3.000000e+00, 1.100000e+01,\n",
              "        1.970000e+02, 5.400000e+01, 1.160000e+02, 2.442955e+05],\n",
              "       [5.000000e+00, 6.913880e+05, 8.113350e+05, 6.000000e+00,\n",
              "        6.155900e+04, 3.000000e+00, 9.000000e+00, 1.200000e+01,\n",
              "        1.600000e+02, 5.300000e+01, 1.050000e+02, 5.311145e+05]],\n",
              "      dtype=float32)>"
            ]
          },
          "metadata": {},
          "execution_count": 8
        }
      ]
    },
    {
      "cell_type": "markdown",
      "source": [
        "<h3> Separating X, y"
      ],
      "metadata": {
        "id": "cU7KPS0phkr6"
      }
    },
    {
      "cell_type": "code",
      "source": [
        "X = tensor_data[:, 3:-1]\n",
        "y = tensor_data[:, -1]\n",
        "\n",
        "print(f\"X shape: {X.shape}, y shape: {y.shape}\")"
      ],
      "metadata": {
        "colab": {
          "base_uri": "https://localhost:8080/"
        },
        "id": "tDd8s2H8haXm",
        "outputId": "ba95004f-e63f-42e7-da9b-49d8d804d086"
      },
      "execution_count": 9,
      "outputs": [
        {
          "output_type": "stream",
          "name": "stdout",
          "text": [
            "X shape: (1000, 8), y shape: (1000,)\n"
          ]
        }
      ]
    },
    {
      "cell_type": "code",
      "source": [
        "# adding a dimension to y"
      ],
      "metadata": {
        "id": "bXgpgklPhyPJ"
      },
      "execution_count": 10,
      "outputs": []
    },
    {
      "cell_type": "code",
      "source": [
        "y[:5]"
      ],
      "metadata": {
        "colab": {
          "base_uri": "https://localhost:8080/"
        },
        "id": "SxTQps9Bh3m8",
        "outputId": "3d7aa1ea-d6ba-40be-e711-445c52d6a86d"
      },
      "execution_count": 11,
      "outputs": [
        {
          "output_type": "execute_result",
          "data": {
            "text/plain": [
              "<tf.Tensor: shape=(5,), dtype=float32, numpy=array([351318. , 285001.5, 215386. , 244295.5, 531114.5], dtype=float32)>"
            ]
          },
          "metadata": {},
          "execution_count": 11
        }
      ]
    },
    {
      "cell_type": "code",
      "source": [
        "y = tf.expand_dims(y, axis = -1)\n",
        "y[:5]"
      ],
      "metadata": {
        "colab": {
          "base_uri": "https://localhost:8080/"
        },
        "id": "Tk7SGVwDh5oI",
        "outputId": "3bf669a2-044d-409d-fe30-0050b65aaff4"
      },
      "execution_count": 12,
      "outputs": [
        {
          "output_type": "execute_result",
          "data": {
            "text/plain": [
              "<tf.Tensor: shape=(5, 1), dtype=float32, numpy=\n",
              "array([[351318. ],\n",
              "       [285001.5],\n",
              "       [215386. ],\n",
              "       [244295.5],\n",
              "       [531114.5]], dtype=float32)>"
            ]
          },
          "metadata": {},
          "execution_count": 12
        }
      ]
    },
    {
      "cell_type": "code",
      "source": [
        "y.shape"
      ],
      "metadata": {
        "colab": {
          "base_uri": "https://localhost:8080/"
        },
        "id": "0VF78ggHlqff",
        "outputId": "bd427256-060d-468c-cd61-1a60f3e5b0c7"
      },
      "execution_count": 13,
      "outputs": [
        {
          "output_type": "execute_result",
          "data": {
            "text/plain": [
              "TensorShape([1000, 1])"
            ]
          },
          "metadata": {},
          "execution_count": 13
        }
      ]
    },
    {
      "cell_type": "markdown",
      "source": [
        "<h3> Normalizing the data </h3>"
      ],
      "metadata": {
        "id": "AQnKxez6iCtP"
      }
    },
    {
      "cell_type": "code",
      "source": [
        "from tensorflow.keras.layers import Normalization"
      ],
      "metadata": {
        "id": "Wjh9nhNOiA0P"
      },
      "execution_count": 14,
      "outputs": []
    },
    {
      "cell_type": "code",
      "source": [
        "normalizer = Normalization()\n",
        "x_normalized = tf.constant([[3,4,5,6,7],\n",
        "                            [4,10,6,7,8],\n",
        "                            [32,1,56,3,5]])\n",
        "normalizer.adapt(x_normalized)\n",
        "normalizer(x_normalized)"
      ],
      "metadata": {
        "colab": {
          "base_uri": "https://localhost:8080/"
        },
        "id": "EJGTtuXiiqqt",
        "outputId": "f40f8345-7463-4eaa-f69a-974c09d17f3c"
      },
      "execution_count": 15,
      "outputs": [
        {
          "output_type": "execute_result",
          "data": {
            "text/plain": [
              "<tf.Tensor: shape=(3, 5), dtype=float32, numpy=\n",
              "array([[-0.7439795 , -0.26726124, -0.72800297,  0.3922322 ,  0.2672614 ],\n",
              "       [-0.6695816 ,  1.3363062 , -0.6860028 ,  0.9805806 ,  1.0690452 ],\n",
              "       [ 1.4135611 , -1.069045  ,  1.4140056 , -1.3728131 , -1.3363061 ]],\n",
              "      dtype=float32)>"
            ]
          },
          "metadata": {},
          "execution_count": 15
        }
      ]
    },
    {
      "cell_type": "markdown",
      "source": [
        "back to X, y"
      ],
      "metadata": {
        "id": "2o-NJqjpjNJx"
      }
    },
    {
      "cell_type": "code",
      "source": [
        "X.shape, y.shape"
      ],
      "metadata": {
        "colab": {
          "base_uri": "https://localhost:8080/"
        },
        "id": "7H--is0NjBw_",
        "outputId": "8a610ebb-9fc4-45d5-c5f8-cd754bcc16a6"
      },
      "execution_count": 16,
      "outputs": [
        {
          "output_type": "execute_result",
          "data": {
            "text/plain": [
              "(TensorShape([1000, 8]), TensorShape([1000, 1]))"
            ]
          },
          "metadata": {},
          "execution_count": 16
        }
      ]
    },
    {
      "cell_type": "code",
      "source": [
        "# training hyperparameters\n",
        "\n",
        "TRAIN_RATIO = 0.8\n",
        "VAL_RATIO = 0.1\n",
        "TEST_RATIO = 0.1\n",
        "DATASET_SIZE = len(X)\n",
        "\n",
        "len(X)"
      ],
      "metadata": {
        "colab": {
          "base_uri": "https://localhost:8080/"
        },
        "id": "P_u1EZvulHXI",
        "outputId": "173ed399-7b9c-4d2e-a925-e9f308a6761f"
      },
      "execution_count": 17,
      "outputs": [
        {
          "output_type": "execute_result",
          "data": {
            "text/plain": [
              "1000"
            ]
          },
          "metadata": {},
          "execution_count": 17
        }
      ]
    },
    {
      "cell_type": "code",
      "source": [
        "X_train = X[: int(DATASET_SIZE * TRAIN_RATIO)]\n",
        "y_train = y[: int(DATASET_SIZE * TRAIN_RATIO)]\n",
        "\n",
        "X_train.shape, y_train.shape"
      ],
      "metadata": {
        "colab": {
          "base_uri": "https://localhost:8080/"
        },
        "id": "MCTh6DS7lp_G",
        "outputId": "e8123011-3d3f-489f-80a1-604a10e76cca"
      },
      "execution_count": 18,
      "outputs": [
        {
          "output_type": "execute_result",
          "data": {
            "text/plain": [
              "(TensorShape([800, 8]), TensorShape([800, 1]))"
            ]
          },
          "metadata": {},
          "execution_count": 18
        }
      ]
    },
    {
      "cell_type": "markdown",
      "source": [
        "<b> to make dataset, we use `tf.data.Dataset.from_tensor_slices(...)` </b>"
      ],
      "metadata": {
        "id": "vyTlJGKDq-DH"
      }
    },
    {
      "cell_type": "code",
      "source": [
        "train_dataset = tf.data.Dataset.from_tensor_slices((X_train, y_train))"
      ],
      "metadata": {
        "id": "OdbP3es5m6k_"
      },
      "execution_count": 19,
      "outputs": []
    },
    {
      "cell_type": "code",
      "source": [
        "# shuffle dataset\n",
        "\n",
        "train_dataset = train_dataset.shuffle(buffer_size = 8, reshuffle_each_iteration = True).batch(32).prefetch(tf.data.AUTOTUNE)"
      ],
      "metadata": {
        "id": "KrN5Xf5CrRz7"
      },
      "execution_count": 20,
      "outputs": []
    },
    {
      "cell_type": "code",
      "source": [
        "for x_, y_ in train_dataset:\n",
        "  print(f\" x : {x_}\\n\\n  y: {y_}\")\n",
        "  break"
      ],
      "metadata": {
        "colab": {
          "base_uri": "https://localhost:8080/"
        },
        "id": "QF1ZM3rVrSs_",
        "outputId": "c6fd75e7-24a9-4587-c9c9-639367171a7d"
      },
      "execution_count": 21,
      "outputs": [
        {
          "output_type": "stream",
          "name": "stdout",
          "text": [
            " x : [[4.00000e+00 1.01065e+05 4.00000e+00 3.00000e+00 1.10000e+01 1.97000e+02\n",
            "  5.40000e+01 1.16000e+02]\n",
            " [5.00000e+00 7.80250e+04 1.00000e+00 9.00000e+00 1.50000e+01 1.71000e+02\n",
            "  9.40000e+01 1.32000e+02]\n",
            " [2.00000e+00 1.32538e+05 2.00000e+00 8.00000e+00 1.50000e+01 1.81000e+02\n",
            "  5.30000e+01 9.70000e+01]\n",
            " [6.00000e+00 1.48846e+05 2.00000e+00 9.00000e+00 1.30000e+01 1.38000e+02\n",
            "  6.10000e+01 1.09000e+02]\n",
            " [7.00000e+00 5.76620e+04 4.00000e+00 7.00000e+00 1.40000e+01 1.51000e+02\n",
            "  5.00000e+01 1.32000e+02]\n",
            " [3.00000e+00 7.89450e+04 1.00000e+00 2.00000e+00 1.40000e+01 1.77000e+02\n",
            "  7.30000e+01 1.23000e+02]\n",
            " [7.00000e+00 1.06819e+05 2.00000e+00 5.00000e+00 1.20000e+01 1.64000e+02\n",
            "  8.70000e+01 1.13000e+02]\n",
            " [2.00000e+00 1.32347e+05 2.00000e+00 3.00000e+00 1.20000e+01 2.00000e+02\n",
            "  1.15000e+02 8.20000e+01]\n",
            " [4.00000e+00 5.35130e+04 3.00000e+00 9.00000e+00 1.30000e+01 1.74000e+02\n",
            "  8.10000e+01 9.20000e+01]\n",
            " [6.00000e+00 1.17220e+05 5.00000e+00 9.00000e+00 9.00000e+00 1.48000e+02\n",
            "  7.40000e+01 9.50000e+01]\n",
            " [4.00000e+00 1.15576e+05 2.00000e+00 6.00000e+00 1.40000e+01 1.95000e+02\n",
            "  6.90000e+01 9.30000e+01]\n",
            " [6.00000e+00 1.17221e+05 5.00000e+00 2.00000e+00 9.00000e+00 1.87000e+02\n",
            "  7.40000e+01 8.70000e+01]\n",
            " [6.00000e+00 8.67040e+04 1.00000e+00 7.00000e+00 1.50000e+01 1.75000e+02\n",
            "  1.18000e+02 1.07000e+02]\n",
            " [7.00000e+00 5.15470e+04 2.00000e+00 1.00000e+00 9.00000e+00 1.46000e+02\n",
            "  6.00000e+01 1.07000e+02]\n",
            " [6.00000e+00 6.15590e+04 3.00000e+00 9.00000e+00 1.20000e+01 1.60000e+02\n",
            "  5.30000e+01 1.05000e+02]\n",
            " [2.00000e+00 1.40673e+05 4.00000e+00 8.00000e+00 1.00000e+01 1.53000e+02\n",
            "  7.30000e+01 8.60000e+01]\n",
            " [5.00000e+00 7.94580e+04 5.00000e+00 1.00000e+00 1.40000e+01 1.56000e+02\n",
            "  8.40000e+01 1.32000e+02]\n",
            " [6.00000e+00 1.39685e+05 2.00000e+00 2.00000e+00 1.10000e+01 1.63000e+02\n",
            "  5.20000e+01 1.21000e+02]\n",
            " [6.00000e+00 7.65460e+04 1.00000e+00 2.00000e+00 1.20000e+01 1.46000e+02\n",
            "  1.09000e+02 9.60000e+01]\n",
            " [7.00000e+00 1.30523e+05 5.00000e+00 5.00000e+00 1.00000e+01 1.87000e+02\n",
            "  7.50000e+01 1.29000e+02]\n",
            " [4.00000e+00 5.31370e+04 3.00000e+00 8.00000e+00 8.00000e+00 1.91000e+02\n",
            "  1.09000e+02 1.21000e+02]\n",
            " [6.00000e+00 8.11940e+04 5.00000e+00 9.00000e+00 1.10000e+01 1.82000e+02\n",
            "  9.50000e+01 1.39000e+02]\n",
            " [3.00000e+00 7.44890e+04 1.00000e+00 9.00000e+00 8.00000e+00 1.79000e+02\n",
            "  9.60000e+01 1.36000e+02]\n",
            " [7.00000e+00 1.01416e+05 3.00000e+00 8.00000e+00 9.00000e+00 1.71000e+02\n",
            "  7.70000e+01 1.28000e+02]\n",
            " [4.00000e+00 8.59110e+04 1.00000e+00 3.00000e+00 1.30000e+01 1.45000e+02\n",
            "  7.90000e+01 7.80000e+01]\n",
            " [2.00000e+00 9.04290e+04 5.00000e+00 6.00000e+00 1.30000e+01 1.37000e+02\n",
            "  8.20000e+01 1.11000e+02]\n",
            " [6.00000e+00 9.44370e+04 5.00000e+00 9.00000e+00 1.50000e+01 1.76000e+02\n",
            "  8.40000e+01 1.26000e+02]\n",
            " [5.00000e+00 6.70750e+04 1.00000e+00 8.00000e+00 1.50000e+01 1.38000e+02\n",
            "  1.10000e+02 7.50000e+01]\n",
            " [4.00000e+00 1.00572e+05 3.00000e+00 9.00000e+00 1.20000e+01 1.41000e+02\n",
            "  6.30000e+01 7.10000e+01]\n",
            " [4.00000e+00 1.21583e+05 4.00000e+00 4.00000e+00 1.00000e+01 1.96000e+02\n",
            "  1.08000e+02 1.08000e+02]\n",
            " [6.00000e+00 5.40030e+04 2.00000e+00 7.00000e+00 1.10000e+01 1.60000e+02\n",
            "  1.06000e+02 8.00000e+01]\n",
            " [5.00000e+00 9.62260e+04 1.00000e+00 9.00000e+00 8.00000e+00 1.91000e+02\n",
            "  1.01000e+02 9.40000e+01]]\n",
            "\n",
            "  y: [[244295.5]\n",
            " [410877. ]\n",
            " [215386. ]\n",
            " [177933.5]\n",
            " [462397.5]\n",
            " [351318. ]\n",
            " [292308.5]\n",
            " [197266. ]\n",
            " [515454. ]\n",
            " [285001.5]\n",
            " [274357.5]\n",
            " [264576.5]\n",
            " [373529. ]\n",
            " [474281.5]\n",
            " [531114.5]\n",
            " [196816. ]\n",
            " [439639.5]\n",
            " [140216.5]\n",
            " [467471.5]\n",
            " [112864.5]\n",
            " [518845. ]\n",
            " [427079. ]\n",
            " [381846.5]\n",
            " [291031.5]\n",
            " [337917. ]\n",
            " [347784.5]\n",
            " [337327. ]\n",
            " [459914.5]\n",
            " [322684. ]\n",
            " [130233.5]\n",
            " [421781. ]\n",
            " [317119. ]]\n"
          ]
        }
      ]
    },
    {
      "cell_type": "markdown",
      "source": [
        "<b> Validation data </b>"
      ],
      "metadata": {
        "id": "_UX8JNg9kkRg"
      }
    },
    {
      "cell_type": "code",
      "source": [
        "X_val = X[int(DATASET_SIZE*TRAIN_RATIO):int(DATASET_SIZE*(TRAIN_RATIO+VAL_RATIO))]\n",
        "y_val = y[int(DATASET_SIZE*TRAIN_RATIO):int(DATASET_SIZE*(TRAIN_RATIO+VAL_RATIO))]\n",
        "print(X_val.shape)\n",
        "print(y_val.shape)"
      ],
      "metadata": {
        "colab": {
          "base_uri": "https://localhost:8080/"
        },
        "id": "wwaAsB99lGyM",
        "outputId": "34010ada-33a9-4507-9b0d-8597516e6d34"
      },
      "execution_count": 22,
      "outputs": [
        {
          "output_type": "stream",
          "name": "stdout",
          "text": [
            "(100, 8)\n",
            "(100, 1)\n"
          ]
        }
      ]
    },
    {
      "cell_type": "code",
      "source": [
        "X_val = X[int(TRAIN_RATIO * DATASET_SIZE) : int((TRAIN_RATIO + VAL_RATIO) * DATASET_SIZE)]\n",
        "y_val = y[int(TRAIN_RATIO * DATASET_SIZE) : int((TRAIN_RATIO + VAL_RATIO) * DATASET_SIZE)]\n",
        "\n",
        "print(X_val.shape)\n",
        "print(y_val.shape)"
      ],
      "metadata": {
        "colab": {
          "base_uri": "https://localhost:8080/"
        },
        "id": "vi6XWKjblbR2",
        "outputId": "79b9f392-3b61-42fe-94af-98200d6a0999"
      },
      "execution_count": 23,
      "outputs": [
        {
          "output_type": "stream",
          "name": "stdout",
          "text": [
            "(100, 8)\n",
            "(100, 1)\n"
          ]
        }
      ]
    },
    {
      "cell_type": "markdown",
      "source": [
        "<b> Using `Dataset` API"
      ],
      "metadata": {
        "id": "pcOkPso1mUxV"
      }
    },
    {
      "cell_type": "code",
      "source": [
        "val_dataset = tf.data.Dataset.from_tensor_slices((X_val, y_val))"
      ],
      "metadata": {
        "id": "xAqYWnoKmRuw"
      },
      "execution_count": 24,
      "outputs": []
    },
    {
      "cell_type": "code",
      "source": [
        "val_dataset = val_dataset.shuffle(buffer_size = 8, reshuffle_each_iteration = True).batch(32).prefetch(tf.data.AUTOTUNE)"
      ],
      "metadata": {
        "id": "BIByLygcmuxS"
      },
      "execution_count": 25,
      "outputs": []
    },
    {
      "cell_type": "markdown",
      "source": [
        "<b> Test data </b>"
      ],
      "metadata": {
        "id": "2HgMaGkzoXkm"
      }
    },
    {
      "cell_type": "code",
      "source": [
        "X_test = X[int((TRAIN_RATIO + VAL_RATIO) * DATASET_SIZE): ]\n",
        "y_test = y[int((TRAIN_RATIO + VAL_RATIO) * DATASET_SIZE): ]\n",
        "\n",
        "print(X_test.shape)\n",
        "print(y_test.shape)"
      ],
      "metadata": {
        "colab": {
          "base_uri": "https://localhost:8080/"
        },
        "id": "jmeBq6qLnAUB",
        "outputId": "d5e42ff9-70e7-4aae-91e8-42a03bad12de"
      },
      "execution_count": 26,
      "outputs": [
        {
          "output_type": "stream",
          "name": "stdout",
          "text": [
            "(100, 8)\n",
            "(100, 1)\n"
          ]
        }
      ]
    },
    {
      "cell_type": "code",
      "source": [
        "test_dataset = tf.data.Dataset.from_tensor_slices((X_test, y_test))"
      ],
      "metadata": {
        "id": "TNRENprloVDX"
      },
      "execution_count": 27,
      "outputs": []
    },
    {
      "cell_type": "code",
      "source": [
        "test_dataset = test_dataset.shuffle(buffer_size=8, reshuffle_each_iteration=True).batch(32).prefetch(tf.data.AUTOTUNE)"
      ],
      "metadata": {
        "id": "hijiHgY8orpD"
      },
      "execution_count": 28,
      "outputs": []
    },
    {
      "cell_type": "markdown",
      "source": [
        "<h2> <b> Normalizing the data </b> </h2>"
      ],
      "metadata": {
        "id": "IAG-Wx4Uo_2-"
      }
    },
    {
      "cell_type": "code",
      "source": [
        "normalizer = Normalization()\n",
        "normalizer.adapt(X_train)"
      ],
      "metadata": {
        "id": "7ntjQezio8WD"
      },
      "execution_count": 29,
      "outputs": []
    },
    {
      "cell_type": "code",
      "source": [
        "normalizer(X_train)[:5]"
      ],
      "metadata": {
        "colab": {
          "base_uri": "https://localhost:8080/"
        },
        "id": "4EeYJyaCp8TG",
        "outputId": "699cfa7a-da76-4843-a69f-0910195e4399"
      },
      "execution_count": 30,
      "outputs": [
        {
          "output_type": "execute_result",
          "data": {
            "text/plain": [
              "<tf.Tensor: shape=(5, 8), dtype=float32, numpy=\n",
              "array([[-0.9117587 , -0.6980475 , -1.4046502 , -1.2859719 ,  1.0915861 ,\n",
              "         0.51316994, -0.5755059 ,  0.9342201 ],\n",
              "       [ 0.8304557 ,  0.6154479 ,  1.3976449 ,  1.1964287 , -1.1406957 ,\n",
              "        -0.9875903 , -0.526438  , -0.38756672],\n",
              "       [-1.4924968 ,  1.1411206 , -0.7040764 ,  0.8418    ,  1.5380424 ,\n",
              "         0.72017133, -1.5568651 , -0.29315338],\n",
              "       [-0.33102056,  0.06105158,  0.69707114, -0.93134326, -0.24778299,\n",
              "         1.548177  , -1.5077971 ,  0.60377336],\n",
              "       [ 0.8304557 , -1.2946885 , -0.00350262,  1.1964287 ,  0.19867337,\n",
              "        -0.36658606, -1.5568651 ,  0.08449998]], dtype=float32)>"
            ]
          },
          "metadata": {},
          "execution_count": 30
        }
      ]
    },
    {
      "cell_type": "code",
      "source": [
        "normalizer(X)[:5]"
      ],
      "metadata": {
        "colab": {
          "base_uri": "https://localhost:8080/"
        },
        "id": "pWe09b0xqCQ8",
        "outputId": "171cbde0-3e22-4d1b-d370-da1e6f874783"
      },
      "execution_count": 31,
      "outputs": [
        {
          "output_type": "execute_result",
          "data": {
            "text/plain": [
              "<tf.Tensor: shape=(5, 8), dtype=float32, numpy=\n",
              "array([[-0.9117587 , -0.6980475 , -1.4046502 , -1.2859719 ,  1.0915861 ,\n",
              "         0.51316994, -0.5755059 ,  0.9342201 ],\n",
              "       [ 0.8304557 ,  0.6154479 ,  1.3976449 ,  1.1964287 , -1.1406957 ,\n",
              "        -0.9875903 , -0.526438  , -0.38756672],\n",
              "       [-1.4924968 ,  1.1411206 , -0.7040764 ,  0.8418    ,  1.5380424 ,\n",
              "         0.72017133, -1.5568651 , -0.29315338],\n",
              "       [-0.33102056,  0.06105158,  0.69707114, -0.93134326, -0.24778299,\n",
              "         1.548177  , -1.5077971 ,  0.60377336],\n",
              "       [ 0.8304557 , -1.2946885 , -0.00350262,  1.1964287 ,  0.19867337,\n",
              "        -0.36658606, -1.5568651 ,  0.08449998]], dtype=float32)>"
            ]
          },
          "metadata": {},
          "execution_count": 31
        }
      ]
    },
    {
      "cell_type": "code",
      "source": [
        "X_train[:5]"
      ],
      "metadata": {
        "colab": {
          "base_uri": "https://localhost:8080/"
        },
        "id": "AgOW3VwxqHLR",
        "outputId": "7598a29a-b24f-4c7f-a38b-cc1f7cb2a636"
      },
      "execution_count": 32,
      "outputs": [
        {
          "output_type": "execute_result",
          "data": {
            "text/plain": [
              "<tf.Tensor: shape=(5, 8), dtype=float32, numpy=\n",
              "array([[3.00000e+00, 7.89450e+04, 1.00000e+00, 2.00000e+00, 1.40000e+01,\n",
              "        1.77000e+02, 7.30000e+01, 1.23000e+02],\n",
              "       [6.00000e+00, 1.17220e+05, 5.00000e+00, 9.00000e+00, 9.00000e+00,\n",
              "        1.48000e+02, 7.40000e+01, 9.50000e+01],\n",
              "       [2.00000e+00, 1.32538e+05, 2.00000e+00, 8.00000e+00, 1.50000e+01,\n",
              "        1.81000e+02, 5.30000e+01, 9.70000e+01],\n",
              "       [4.00000e+00, 1.01065e+05, 4.00000e+00, 3.00000e+00, 1.10000e+01,\n",
              "        1.97000e+02, 5.40000e+01, 1.16000e+02],\n",
              "       [6.00000e+00, 6.15590e+04, 3.00000e+00, 9.00000e+00, 1.20000e+01,\n",
              "        1.60000e+02, 5.30000e+01, 1.05000e+02]], dtype=float32)>"
            ]
          },
          "metadata": {},
          "execution_count": 32
        }
      ]
    },
    {
      "cell_type": "code",
      "source": [
        "X[:5]"
      ],
      "metadata": {
        "colab": {
          "base_uri": "https://localhost:8080/"
        },
        "id": "e1KkmQJcqL-o",
        "outputId": "44bdcfed-cd02-4115-965b-667f3f4a2033"
      },
      "execution_count": 33,
      "outputs": [
        {
          "output_type": "execute_result",
          "data": {
            "text/plain": [
              "<tf.Tensor: shape=(5, 8), dtype=float32, numpy=\n",
              "array([[3.00000e+00, 7.89450e+04, 1.00000e+00, 2.00000e+00, 1.40000e+01,\n",
              "        1.77000e+02, 7.30000e+01, 1.23000e+02],\n",
              "       [6.00000e+00, 1.17220e+05, 5.00000e+00, 9.00000e+00, 9.00000e+00,\n",
              "        1.48000e+02, 7.40000e+01, 9.50000e+01],\n",
              "       [2.00000e+00, 1.32538e+05, 2.00000e+00, 8.00000e+00, 1.50000e+01,\n",
              "        1.81000e+02, 5.30000e+01, 9.70000e+01],\n",
              "       [4.00000e+00, 1.01065e+05, 4.00000e+00, 3.00000e+00, 1.10000e+01,\n",
              "        1.97000e+02, 5.40000e+01, 1.16000e+02],\n",
              "       [6.00000e+00, 6.15590e+04, 3.00000e+00, 9.00000e+00, 1.20000e+01,\n",
              "        1.60000e+02, 5.30000e+01, 1.05000e+02]], dtype=float32)>"
            ]
          },
          "metadata": {},
          "execution_count": 33
        }
      ]
    },
    {
      "cell_type": "markdown",
      "source": [
        "<h2> <b> Model Creation and Training </b> </h2>"
      ],
      "metadata": {
        "id": "3Ve5xhnsqzhm"
      }
    },
    {
      "cell_type": "code",
      "source": [
        "from tensorflow.keras.layers import Dense, InputLayer\n",
        "\n",
        "model = tf.keras.Sequential([\n",
        "    InputLayer(input_shape = (8,)),  # input has 8 features and unknown rows\n",
        "    normalizer,\n",
        "    Dense(128, activation = \"relu\"),\n",
        "    Dense(128, activation = \"relu\"),\n",
        "    Dense(128, activation = \"relu\"),\n",
        "    Dense(1)\n",
        "])\n",
        "\n",
        "model.summary()"
      ],
      "metadata": {
        "colab": {
          "base_uri": "https://localhost:8080/"
        },
        "id": "8uzlDvBlqPnb",
        "outputId": "5d207770-6516-46d0-a6e4-fcab82f13f2d"
      },
      "execution_count": 34,
      "outputs": [
        {
          "output_type": "stream",
          "name": "stdout",
          "text": [
            "Model: \"sequential\"\n",
            "_________________________________________________________________\n",
            " Layer (type)                Output Shape              Param #   \n",
            "=================================================================\n",
            " normalization_1 (Normalizat  (None, 8)                17        \n",
            " ion)                                                            \n",
            "                                                                 \n",
            " dense (Dense)               (None, 128)               1152      \n",
            "                                                                 \n",
            " dense_1 (Dense)             (None, 128)               16512     \n",
            "                                                                 \n",
            " dense_2 (Dense)             (None, 128)               16512     \n",
            "                                                                 \n",
            " dense_3 (Dense)             (None, 1)                 129       \n",
            "                                                                 \n",
            "=================================================================\n",
            "Total params: 34,322\n",
            "Trainable params: 34,305\n",
            "Non-trainable params: 17\n",
            "_________________________________________________________________\n"
          ]
        }
      ]
    },
    {
      "cell_type": "markdown",
      "source": [
        "<b> Plotting the model </b>"
      ],
      "metadata": {
        "id": "wt1Kw0bps7Q1"
      }
    },
    {
      "cell_type": "code",
      "source": [
        "tf.keras.utils.plot_model(model=model, to_file=\"model.png\", show_shapes=True)"
      ],
      "metadata": {
        "colab": {
          "base_uri": "https://localhost:8080/",
          "height": 644
        },
        "id": "Sehvn42irevL",
        "outputId": "6f45d5e1-e953-4cb1-ffa7-67613720d0ba"
      },
      "execution_count": 35,
      "outputs": [
        {
          "output_type": "execute_result",
          "data": {
            "image/png": "[encoded data removed]",
            "text/plain": [
              "<IPython.core.display.Image object>"
            ]
          },
          "metadata": {},
          "execution_count": 35
        }
      ]
    },
    {
      "cell_type": "markdown",
      "source": [
        "<b> Compiling the model </b>"
      ],
      "metadata": {
        "id": "rdhUI4Sktg2H"
      }
    },
    {
      "cell_type": "markdown",
      "source": [
        "in `compile` we indicate `optimizer`, `loss`, and `metrics`"
      ],
      "metadata": {
        "id": "pqaaDqaVtucF"
      }
    },
    {
      "cell_type": "code",
      "source": [
        "from tensorflow.keras.losses import MeanSquaredError, MeanAbsoluteError\n",
        "from tensorflow.keras.optimizers import Adam\n",
        "from tensorflow.keras.metrics import RootMeanSquaredError"
      ],
      "metadata": {
        "id": "bl3c8TYWtKzd"
      },
      "execution_count": 36,
      "outputs": []
    },
    {
      "cell_type": "code",
      "source": [
        "model.compile(optimizer = Adam(learning_rate = 0.09),\n",
        "              loss = MeanAbsoluteError(),\n",
        "              metrics = RootMeanSquaredError()\n",
        "              )"
      ],
      "metadata": {
        "id": "S2CAVxxUxf07"
      },
      "execution_count": 37,
      "outputs": []
    },
    {
      "cell_type": "markdown",
      "source": [
        "<b> Training the model </b>"
      ],
      "metadata": {
        "id": "gVJNtOd0x9X1"
      }
    },
    {
      "cell_type": "code",
      "source": [
        "history = model.fit(train_dataset, validation_data = val_dataset, epochs = 100, verbose = 1)"
      ],
      "metadata": {
        "colab": {
          "base_uri": "https://localhost:8080/"
        },
        "id": "FBJdHfjzz9Pt",
        "outputId": "da1c85a9-9385-4060-ca14-8f3be8e1c326"
      },
      "execution_count": 38,
      "outputs": [
        {
          "output_type": "stream",
          "name": "stdout",
          "text": [
            "Epoch 1/100\n",
            "25/25 [==============================] - 3s 25ms/step - loss: 164973.1250 - root_mean_squared_error: 213201.1875 - val_loss: 69162.5469 - val_root_mean_squared_error: 89560.7266\n",
            "Epoch 2/100\n",
            "25/25 [==============================] - 0s 8ms/step - loss: 52780.3086 - root_mean_squared_error: 66481.2578 - val_loss: 45985.1797 - val_root_mean_squared_error: 57370.9844\n",
            "Epoch 3/100\n",
            "25/25 [==============================] - 0s 6ms/step - loss: 44057.8281 - root_mean_squared_error: 54792.0586 - val_loss: 46944.6797 - val_root_mean_squared_error: 59945.4414\n",
            "Epoch 4/100\n",
            "25/25 [==============================] - 0s 11ms/step - loss: 41939.9727 - root_mean_squared_error: 53130.3672 - val_loss: 46882.3711 - val_root_mean_squared_error: 57206.7969\n",
            "Epoch 5/100\n",
            "25/25 [==============================] - 0s 7ms/step - loss: 41438.3945 - root_mean_squared_error: 52270.6094 - val_loss: 43816.2188 - val_root_mean_squared_error: 53355.7578\n",
            "Epoch 6/100\n",
            "25/25 [==============================] - 0s 5ms/step - loss: 41318.9531 - root_mean_squared_error: 51434.6016 - val_loss: 54721.9258 - val_root_mean_squared_error: 67610.3750\n",
            "Epoch 7/100\n",
            "25/25 [==============================] - 0s 8ms/step - loss: 43608.6211 - root_mean_squared_error: 54279.1016 - val_loss: 43595.8750 - val_root_mean_squared_error: 52421.4609\n",
            "Epoch 8/100\n",
            "25/25 [==============================] - 0s 10ms/step - loss: 39374.1758 - root_mean_squared_error: 49226.4961 - val_loss: 44550.4062 - val_root_mean_squared_error: 53350.9961\n",
            "Epoch 9/100\n",
            "25/25 [==============================] - 0s 9ms/step - loss: 41593.4062 - root_mean_squared_error: 53063.2383 - val_loss: 45153.3750 - val_root_mean_squared_error: 54899.8672\n",
            "Epoch 10/100\n",
            "25/25 [==============================] - 0s 8ms/step - loss: 41342.6992 - root_mean_squared_error: 51185.7891 - val_loss: 54988.9141 - val_root_mean_squared_error: 67817.7969\n",
            "Epoch 11/100\n",
            "25/25 [==============================] - 0s 11ms/step - loss: 42976.7734 - root_mean_squared_error: 53415.2344 - val_loss: 42188.1250 - val_root_mean_squared_error: 51000.3828\n",
            "Epoch 12/100\n",
            "25/25 [==============================] - 0s 12ms/step - loss: 41284.4727 - root_mean_squared_error: 51561.7383 - val_loss: 46420.2344 - val_root_mean_squared_error: 56391.6641\n",
            "Epoch 13/100\n",
            "25/25 [==============================] - 0s 6ms/step - loss: 41304.2305 - root_mean_squared_error: 50761.8555 - val_loss: 43925.3203 - val_root_mean_squared_error: 53936.0156\n",
            "Epoch 14/100\n",
            "25/25 [==============================] - 0s 4ms/step - loss: 41353.1914 - root_mean_squared_error: 51224.0508 - val_loss: 45664.3984 - val_root_mean_squared_error: 56092.4727\n",
            "Epoch 15/100\n",
            "25/25 [==============================] - 0s 3ms/step - loss: 40837.2188 - root_mean_squared_error: 51277.8594 - val_loss: 42948.9531 - val_root_mean_squared_error: 51551.2852\n",
            "Epoch 16/100\n",
            "25/25 [==============================] - 0s 3ms/step - loss: 37390.3516 - root_mean_squared_error: 46233.7461 - val_loss: 44492.1836 - val_root_mean_squared_error: 55177.3203\n",
            "Epoch 17/100\n",
            "25/25 [==============================] - 0s 3ms/step - loss: 39400.5625 - root_mean_squared_error: 48563.6758 - val_loss: 41901.0312 - val_root_mean_squared_error: 52212.4023\n",
            "Epoch 18/100\n",
            "25/25 [==============================] - 0s 3ms/step - loss: 37552.0234 - root_mean_squared_error: 46463.3789 - val_loss: 39755.0039 - val_root_mean_squared_error: 48571.4766\n",
            "Epoch 19/100\n",
            "25/25 [==============================] - 0s 3ms/step - loss: 37252.7461 - root_mean_squared_error: 46470.8906 - val_loss: 43519.2266 - val_root_mean_squared_error: 53804.4414\n",
            "Epoch 20/100\n",
            "25/25 [==============================] - 0s 3ms/step - loss: 39052.6992 - root_mean_squared_error: 49021.8555 - val_loss: 41561.1914 - val_root_mean_squared_error: 50150.1172\n",
            "Epoch 21/100\n",
            "25/25 [==============================] - 0s 4ms/step - loss: 37513.3359 - root_mean_squared_error: 47064.0156 - val_loss: 41736.8555 - val_root_mean_squared_error: 49990.5820\n",
            "Epoch 22/100\n",
            "25/25 [==============================] - 0s 4ms/step - loss: 37237.4219 - root_mean_squared_error: 45755.1367 - val_loss: 42146.8203 - val_root_mean_squared_error: 51017.4805\n",
            "Epoch 23/100\n",
            "25/25 [==============================] - 0s 4ms/step - loss: 37090.6367 - root_mean_squared_error: 46028.8984 - val_loss: 51910.8047 - val_root_mean_squared_error: 65210.3203\n",
            "Epoch 24/100\n",
            "25/25 [==============================] - 0s 5ms/step - loss: 42575.5742 - root_mean_squared_error: 53395.9258 - val_loss: 40447.6641 - val_root_mean_squared_error: 48082.3047\n",
            "Epoch 25/100\n",
            "25/25 [==============================] - 0s 5ms/step - loss: 38223.1797 - root_mean_squared_error: 47919.5234 - val_loss: 40096.9258 - val_root_mean_squared_error: 47546.4688\n",
            "Epoch 26/100\n",
            "25/25 [==============================] - 0s 5ms/step - loss: 35545.8477 - root_mean_squared_error: 44186.6719 - val_loss: 40619.5547 - val_root_mean_squared_error: 49372.4141\n",
            "Epoch 27/100\n",
            "25/25 [==============================] - 0s 5ms/step - loss: 34901.7617 - root_mean_squared_error: 43569.2500 - val_loss: 39690.4219 - val_root_mean_squared_error: 48414.3398\n",
            "Epoch 28/100\n",
            "25/25 [==============================] - 0s 4ms/step - loss: 36195.1211 - root_mean_squared_error: 45039.7344 - val_loss: 46310.0547 - val_root_mean_squared_error: 56440.3789\n",
            "Epoch 29/100\n",
            "25/25 [==============================] - 0s 4ms/step - loss: 41665.4688 - root_mean_squared_error: 51601.9531 - val_loss: 42803.7656 - val_root_mean_squared_error: 53642.5312\n",
            "Epoch 30/100\n",
            "25/25 [==============================] - 0s 4ms/step - loss: 37260.9336 - root_mean_squared_error: 46484.3242 - val_loss: 41639.2383 - val_root_mean_squared_error: 49954.8047\n",
            "Epoch 31/100\n",
            "25/25 [==============================] - 0s 5ms/step - loss: 35656.8477 - root_mean_squared_error: 44214.9688 - val_loss: 40444.9258 - val_root_mean_squared_error: 48324.1016\n",
            "Epoch 32/100\n",
            "25/25 [==============================] - 0s 5ms/step - loss: 36231.4336 - root_mean_squared_error: 44995.3320 - val_loss: 44105.0938 - val_root_mean_squared_error: 53966.1562\n",
            "Epoch 33/100\n",
            "25/25 [==============================] - 0s 4ms/step - loss: 37024.4180 - root_mean_squared_error: 46058.9531 - val_loss: 42763.3867 - val_root_mean_squared_error: 52565.3750\n",
            "Epoch 34/100\n",
            "25/25 [==============================] - 0s 4ms/step - loss: 41193.6211 - root_mean_squared_error: 51096.4062 - val_loss: 38428.9766 - val_root_mean_squared_error: 47037.1484\n",
            "Epoch 35/100\n",
            "25/25 [==============================] - 0s 5ms/step - loss: 36923.5938 - root_mean_squared_error: 45999.8398 - val_loss: 42986.9805 - val_root_mean_squared_error: 52364.6133\n",
            "Epoch 36/100\n",
            "25/25 [==============================] - 0s 5ms/step - loss: 40246.8477 - root_mean_squared_error: 50378.0938 - val_loss: 39156.1641 - val_root_mean_squared_error: 47455.1523\n",
            "Epoch 37/100\n",
            "25/25 [==============================] - 0s 4ms/step - loss: 35481.3672 - root_mean_squared_error: 43740.0430 - val_loss: 42174.6914 - val_root_mean_squared_error: 53050.1719\n",
            "Epoch 38/100\n",
            "25/25 [==============================] - 0s 5ms/step - loss: 39360.1211 - root_mean_squared_error: 48722.6523 - val_loss: 43697.6719 - val_root_mean_squared_error: 53038.9375\n",
            "Epoch 39/100\n",
            "25/25 [==============================] - 0s 2ms/step - loss: 36196.9688 - root_mean_squared_error: 45627.0430 - val_loss: 38277.0547 - val_root_mean_squared_error: 46714.0547\n",
            "Epoch 40/100\n",
            "25/25 [==============================] - 0s 3ms/step - loss: 35115.0391 - root_mean_squared_error: 43462.6914 - val_loss: 38155.5117 - val_root_mean_squared_error: 46366.5156\n",
            "Epoch 41/100\n",
            "25/25 [==============================] - 0s 3ms/step - loss: 36263.2930 - root_mean_squared_error: 45012.6797 - val_loss: 44003.6289 - val_root_mean_squared_error: 53884.1016\n",
            "Epoch 42/100\n",
            "25/25 [==============================] - 0s 3ms/step - loss: 37631.3203 - root_mean_squared_error: 46873.3711 - val_loss: 41177.7109 - val_root_mean_squared_error: 50070.2305\n",
            "Epoch 43/100\n",
            "25/25 [==============================] - 0s 3ms/step - loss: 37301.4766 - root_mean_squared_error: 46919.6875 - val_loss: 42421.0156 - val_root_mean_squared_error: 51425.2734\n",
            "Epoch 44/100\n",
            "25/25 [==============================] - 0s 3ms/step - loss: 39159.9141 - root_mean_squared_error: 48444.6484 - val_loss: 43725.2969 - val_root_mean_squared_error: 55978.0898\n",
            "Epoch 45/100\n",
            "25/25 [==============================] - 0s 3ms/step - loss: 35748.8281 - root_mean_squared_error: 44476.7266 - val_loss: 40254.5820 - val_root_mean_squared_error: 50180.5977\n",
            "Epoch 46/100\n",
            "25/25 [==============================] - 0s 3ms/step - loss: 36332.9766 - root_mean_squared_error: 45208.9609 - val_loss: 39315.5078 - val_root_mean_squared_error: 49521.5664\n",
            "Epoch 47/100\n",
            "25/25 [==============================] - 0s 3ms/step - loss: 35250.5469 - root_mean_squared_error: 43971.3945 - val_loss: 39542.5039 - val_root_mean_squared_error: 48614.2578\n",
            "Epoch 48/100\n",
            "25/25 [==============================] - 0s 3ms/step - loss: 35307.4023 - root_mean_squared_error: 43840.9648 - val_loss: 42894.8398 - val_root_mean_squared_error: 54685.8945\n",
            "Epoch 49/100\n",
            "25/25 [==============================] - 0s 3ms/step - loss: 35829.6328 - root_mean_squared_error: 44842.5898 - val_loss: 39050.7930 - val_root_mean_squared_error: 46869.7070\n",
            "Epoch 50/100\n",
            "25/25 [==============================] - 0s 3ms/step - loss: 35035.2383 - root_mean_squared_error: 43630.0859 - val_loss: 40523.6602 - val_root_mean_squared_error: 50175.5664\n",
            "Epoch 51/100\n",
            "25/25 [==============================] - 0s 3ms/step - loss: 35250.2109 - root_mean_squared_error: 44155.8008 - val_loss: 38980.9766 - val_root_mean_squared_error: 47055.9648\n",
            "Epoch 52/100\n",
            "25/25 [==============================] - 0s 3ms/step - loss: 35240.7383 - root_mean_squared_error: 44343.1836 - val_loss: 37802.2422 - val_root_mean_squared_error: 45515.6328\n",
            "Epoch 53/100\n",
            "25/25 [==============================] - 0s 3ms/step - loss: 33998.4375 - root_mean_squared_error: 42841.1211 - val_loss: 42027.8359 - val_root_mean_squared_error: 51888.0000\n",
            "Epoch 54/100\n",
            "25/25 [==============================] - 0s 3ms/step - loss: 35111.1719 - root_mean_squared_error: 44151.2031 - val_loss: 39338.4688 - val_root_mean_squared_error: 47986.5781\n",
            "Epoch 55/100\n",
            "25/25 [==============================] - 0s 3ms/step - loss: 34947.1602 - root_mean_squared_error: 43836.5078 - val_loss: 38065.4805 - val_root_mean_squared_error: 46217.5156\n",
            "Epoch 56/100\n",
            "25/25 [==============================] - 0s 3ms/step - loss: 33953.5391 - root_mean_squared_error: 42963.5078 - val_loss: 38618.7500 - val_root_mean_squared_error: 46544.5625\n",
            "Epoch 57/100\n",
            "25/25 [==============================] - 0s 3ms/step - loss: 35720.3594 - root_mean_squared_error: 45455.1094 - val_loss: 40657.5586 - val_root_mean_squared_error: 48565.8906\n",
            "Epoch 58/100\n",
            "25/25 [==============================] - 0s 3ms/step - loss: 36242.2266 - root_mean_squared_error: 45254.2891 - val_loss: 39933.0039 - val_root_mean_squared_error: 47996.3398\n",
            "Epoch 59/100\n",
            "25/25 [==============================] - 0s 3ms/step - loss: 35737.9883 - root_mean_squared_error: 44707.0000 - val_loss: 38978.7148 - val_root_mean_squared_error: 47766.6328\n",
            "Epoch 60/100\n",
            "25/25 [==============================] - 0s 3ms/step - loss: 35054.0117 - root_mean_squared_error: 43857.2891 - val_loss: 38196.8359 - val_root_mean_squared_error: 47796.2305\n",
            "Epoch 61/100\n",
            "25/25 [==============================] - 0s 3ms/step - loss: 33976.2969 - root_mean_squared_error: 42467.4727 - val_loss: 38128.4688 - val_root_mean_squared_error: 47421.8086\n",
            "Epoch 62/100\n",
            "25/25 [==============================] - 0s 3ms/step - loss: 33914.5781 - root_mean_squared_error: 43125.5195 - val_loss: 39447.9219 - val_root_mean_squared_error: 47792.8438\n",
            "Epoch 63/100\n",
            "25/25 [==============================] - 0s 3ms/step - loss: 34903.2500 - root_mean_squared_error: 43983.3789 - val_loss: 39517.1719 - val_root_mean_squared_error: 47865.0859\n",
            "Epoch 64/100\n",
            "25/25 [==============================] - 0s 3ms/step - loss: 34535.7383 - root_mean_squared_error: 43599.0820 - val_loss: 41144.3320 - val_root_mean_squared_error: 51207.6172\n",
            "Epoch 65/100\n",
            "25/25 [==============================] - 0s 3ms/step - loss: 35457.6523 - root_mean_squared_error: 44540.2266 - val_loss: 39642.9922 - val_root_mean_squared_error: 48580.6758\n",
            "Epoch 66/100\n",
            "25/25 [==============================] - 0s 3ms/step - loss: 36898.4414 - root_mean_squared_error: 46582.3984 - val_loss: 42771.1250 - val_root_mean_squared_error: 50748.7422\n",
            "Epoch 67/100\n",
            "25/25 [==============================] - 0s 3ms/step - loss: 34873.8867 - root_mean_squared_error: 44782.9141 - val_loss: 38002.1875 - val_root_mean_squared_error: 45896.1406\n",
            "Epoch 68/100\n",
            "25/25 [==============================] - 0s 3ms/step - loss: 33179.8281 - root_mean_squared_error: 41996.3516 - val_loss: 37795.0195 - val_root_mean_squared_error: 45685.1367\n",
            "Epoch 69/100\n",
            "25/25 [==============================] - 0s 2ms/step - loss: 34320.6562 - root_mean_squared_error: 43104.9102 - val_loss: 37831.5938 - val_root_mean_squared_error: 45844.4414\n",
            "Epoch 70/100\n",
            "25/25 [==============================] - 0s 3ms/step - loss: 33863.2188 - root_mean_squared_error: 43275.4805 - val_loss: 39120.7891 - val_root_mean_squared_error: 47016.1289\n",
            "Epoch 71/100\n",
            "25/25 [==============================] - 0s 4ms/step - loss: 32806.0703 - root_mean_squared_error: 41529.3086 - val_loss: 39001.3203 - val_root_mean_squared_error: 46675.9648\n",
            "Epoch 72/100\n",
            "25/25 [==============================] - 0s 3ms/step - loss: 33719.7188 - root_mean_squared_error: 42569.7344 - val_loss: 37926.3008 - val_root_mean_squared_error: 47061.4688\n",
            "Epoch 73/100\n",
            "25/25 [==============================] - 0s 3ms/step - loss: 32564.3008 - root_mean_squared_error: 41614.2344 - val_loss: 39012.0469 - val_root_mean_squared_error: 46784.3164\n",
            "Epoch 74/100\n",
            "25/25 [==============================] - 0s 3ms/step - loss: 33239.6172 - root_mean_squared_error: 42357.0742 - val_loss: 38296.3789 - val_root_mean_squared_error: 46025.6562\n",
            "Epoch 75/100\n",
            "25/25 [==============================] - 0s 3ms/step - loss: 32871.8086 - root_mean_squared_error: 42068.4180 - val_loss: 40877.3789 - val_root_mean_squared_error: 48833.6445\n",
            "Epoch 76/100\n",
            "25/25 [==============================] - 0s 3ms/step - loss: 33297.0938 - root_mean_squared_error: 43055.9062 - val_loss: 38693.3281 - val_root_mean_squared_error: 46297.0156\n",
            "Epoch 77/100\n",
            "25/25 [==============================] - 0s 3ms/step - loss: 31865.7598 - root_mean_squared_error: 41005.9219 - val_loss: 38715.6641 - val_root_mean_squared_error: 46854.6133\n",
            "Epoch 78/100\n",
            "25/25 [==============================] - 0s 3ms/step - loss: 37769.7812 - root_mean_squared_error: 47660.4414 - val_loss: 39663.1133 - val_root_mean_squared_error: 48721.3672\n",
            "Epoch 79/100\n",
            "25/25 [==============================] - 0s 4ms/step - loss: 33208.4297 - root_mean_squared_error: 42006.6836 - val_loss: 39558.9570 - val_root_mean_squared_error: 47844.1211\n",
            "Epoch 80/100\n",
            "25/25 [==============================] - 0s 3ms/step - loss: 31558.7969 - root_mean_squared_error: 40886.9492 - val_loss: 37739.4844 - val_root_mean_squared_error: 46709.4570\n",
            "Epoch 81/100\n",
            "25/25 [==============================] - 0s 4ms/step - loss: 31428.9043 - root_mean_squared_error: 40046.9570 - val_loss: 38581.8438 - val_root_mean_squared_error: 47193.2422\n",
            "Epoch 82/100\n",
            "25/25 [==============================] - 0s 3ms/step - loss: 32163.2344 - root_mean_squared_error: 41185.4883 - val_loss: 41432.6250 - val_root_mean_squared_error: 50691.3438\n",
            "Epoch 83/100\n",
            "25/25 [==============================] - 0s 3ms/step - loss: 33835.7695 - root_mean_squared_error: 43133.3945 - val_loss: 39601.7812 - val_root_mean_squared_error: 48142.6641\n",
            "Epoch 84/100\n",
            "25/25 [==============================] - 0s 2ms/step - loss: 34634.2266 - root_mean_squared_error: 44556.6562 - val_loss: 50750.7656 - val_root_mean_squared_error: 60854.7266\n",
            "Epoch 85/100\n",
            "25/25 [==============================] - 0s 3ms/step - loss: 36164.9258 - root_mean_squared_error: 45984.7656 - val_loss: 40419.2383 - val_root_mean_squared_error: 49712.7109\n",
            "Epoch 86/100\n",
            "25/25 [==============================] - 0s 3ms/step - loss: 34070.2969 - root_mean_squared_error: 43299.1172 - val_loss: 40737.3594 - val_root_mean_squared_error: 49032.7148\n",
            "Epoch 87/100\n",
            "25/25 [==============================] - 0s 3ms/step - loss: 33151.6836 - root_mean_squared_error: 43368.8789 - val_loss: 42042.5391 - val_root_mean_squared_error: 50903.8945\n",
            "Epoch 88/100\n",
            "25/25 [==============================] - 0s 3ms/step - loss: 33533.5938 - root_mean_squared_error: 43986.5000 - val_loss: 41017.5117 - val_root_mean_squared_error: 49377.8242\n",
            "Epoch 89/100\n",
            "25/25 [==============================] - 0s 3ms/step - loss: 33643.5078 - root_mean_squared_error: 43686.1992 - val_loss: 38997.6484 - val_root_mean_squared_error: 47402.2461\n",
            "Epoch 90/100\n",
            "25/25 [==============================] - 0s 3ms/step - loss: 36485.7773 - root_mean_squared_error: 46462.3633 - val_loss: 52222.6055 - val_root_mean_squared_error: 62183.8164\n",
            "Epoch 91/100\n",
            "25/25 [==============================] - 0s 3ms/step - loss: 44277.9336 - root_mean_squared_error: 55575.9492 - val_loss: 48099.9062 - val_root_mean_squared_error: 57485.8945\n",
            "Epoch 92/100\n",
            "25/25 [==============================] - 0s 3ms/step - loss: 39132.3984 - root_mean_squared_error: 48877.3984 - val_loss: 44421.3086 - val_root_mean_squared_error: 52257.2578\n",
            "Epoch 93/100\n",
            "25/25 [==============================] - 0s 3ms/step - loss: 33319.1719 - root_mean_squared_error: 42904.3984 - val_loss: 46617.6484 - val_root_mean_squared_error: 55340.1055\n",
            "Epoch 94/100\n",
            "25/25 [==============================] - 0s 4ms/step - loss: 33087.4883 - root_mean_squared_error: 42936.6211 - val_loss: 44527.1719 - val_root_mean_squared_error: 53014.4453\n",
            "Epoch 95/100\n",
            "25/25 [==============================] - 0s 3ms/step - loss: 33865.8320 - root_mean_squared_error: 43497.8828 - val_loss: 47530.6289 - val_root_mean_squared_error: 56506.3633\n",
            "Epoch 96/100\n",
            "25/25 [==============================] - 0s 3ms/step - loss: 36350.1758 - root_mean_squared_error: 46497.1250 - val_loss: 48486.5547 - val_root_mean_squared_error: 57093.0703\n",
            "Epoch 97/100\n",
            "25/25 [==============================] - 0s 3ms/step - loss: 34124.1836 - root_mean_squared_error: 43462.1875 - val_loss: 46409.9297 - val_root_mean_squared_error: 54739.2500\n",
            "Epoch 98/100\n",
            "25/25 [==============================] - 0s 3ms/step - loss: 32187.9004 - root_mean_squared_error: 41202.6055 - val_loss: 44704.9766 - val_root_mean_squared_error: 53011.9023\n",
            "Epoch 99/100\n",
            "25/25 [==============================] - 0s 3ms/step - loss: 35089.1914 - root_mean_squared_error: 44582.1992 - val_loss: 42342.6758 - val_root_mean_squared_error: 51341.4961\n",
            "Epoch 100/100\n",
            "25/25 [==============================] - 0s 3ms/step - loss: 35233.4336 - root_mean_squared_error: 44626.4766 - val_loss: 41038.8906 - val_root_mean_squared_error: 49406.2773\n"
          ]
        }
      ]
    },
    {
      "cell_type": "markdown",
      "source": [
        "<h2> <b> Plotting results </b> </h2>"
      ],
      "metadata": {
        "id": "roVhSBzb0xWe"
      }
    },
    {
      "cell_type": "code",
      "source": [
        "import matplotlib.pyplot as plt\n",
        "\n",
        "plt.plot(history.history[\"loss\"])\n",
        "plt.plot(history.history[\"val_loss\"])\n",
        "plt.title(\"model loss\")\n",
        "plt.ylabel(\"loss\")\n",
        "plt.xlabel(\"epoch\")\n",
        "plt.legend([\"train\", \"val_loss\"])\n",
        "plt.show()"
      ],
      "metadata": {
        "colab": {
          "base_uri": "https://localhost:8080/",
          "height": 472
        },
        "id": "X2UrcRC70qZ-",
        "outputId": "82a6d90f-269b-4c33-9a6d-f20ff661acb7"
      },
      "execution_count": 41,
      "outputs": [
        {
          "output_type": "display_data",
          "data": {
            "text/plain": [
              "<Figure size 640x480 with 1 Axes>"
            ],
            "image/png": "[encoded data removed]"
          },
          "metadata": {}
        }
      ]
    },
    {
      "cell_type": "code",
      "source": [
        "plt.plot(history.history['root_mean_squared_error'])\n",
        "plt.plot(history.history['val_root_mean_squared_error'])\n",
        "plt.title('model performance')\n",
        "plt.ylabel('rmse')\n",
        "plt.xlabel('epoch')\n",
        "plt.legend(['train', 'val'])\n",
        "plt.show()"
      ],
      "metadata": {
        "colab": {
          "base_uri": "https://localhost:8080/",
          "height": 472
        },
        "id": "9mrrV1X23IZL",
        "outputId": "3fcb01f0-ef6d-404d-84d8-3620ca4bdbec"
      },
      "execution_count": 42,
      "outputs": [
        {
          "output_type": "display_data",
          "data": {
            "text/plain": [
              "<Figure size 640x480 with 1 Axes>"
            ],
            "image/png": "[encoded data removed]"
          },
          "metadata": {}
        }
      ]
    },
    {
      "cell_type": "code",
      "source": [],
      "metadata": {
        "id": "vJLHnIGE3QV7"
      },
      "execution_count": null,
      "outputs": []
    }
  ]
}