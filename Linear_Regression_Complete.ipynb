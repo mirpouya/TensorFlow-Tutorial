{
  "nbformat": 4,
  "nbformat_minor": 0,
  "metadata": {
    "colab": {
      "provenance": [],
      "authorship_tag": "ABX9TyOBwMhlJ+GEBmiAoCqs6TtG",
      "include_colab_link": true
    },
    "kernelspec": {
      "name": "python3",
      "display_name": "Python 3"
    },
    "language_info": {
      "name": "python"
    }
  },
  "cells": [
    {
      "cell_type": "markdown",
      "metadata": {
        "id": "view-in-github",
        "colab_type": "text"
      },
      "source": [
        "<a href=\"https://colab.research.google.com/github/mirpouya/TensorFlow-Tutorial/blob/main/Linear_Regression_Complete.ipynb\" target=\"_parent\"><img src=\"https://colab.research.google.com/assets/colab-badge.svg\" alt=\"Open In Colab\"/></a>"
      ]
    },
    {
      "cell_type": "code",
      "execution_count": 26,
      "metadata": {
        "id": "Ch05KiBZfvbr"
      },
      "outputs": [],
      "source": [
        "import tensorflow as tf  # model\n",
        "import pandas as pd  # data preparation\n",
        "import seaborn as sns  # visualization"
      ]
    },
    {
      "cell_type": "markdown",
      "source": [
        "<h2> <b> Data Preparation </b> </h2>"
      ],
      "metadata": {
        "id": "I9GJCfuZgore"
      }
    },
    {
      "cell_type": "code",
      "source": [
        "data = pd.read_csv(\"train.csv\")\n",
        "data.head()"
      ],
      "metadata": {
        "colab": {
          "base_uri": "https://localhost:8080/",
          "height": 206
        },
        "id": "JL18lSUIgkCq",
        "outputId": "8fbe85a2-c767-4c7d-9991-658711380d22"
      },
      "execution_count": 27,
      "outputs": [
        {
          "output_type": "execute_result",
          "data": {
            "text/plain": [
              "   v.id  on road old  on road now  years      km  rating  condition  economy  \\\n",
              "0     1       535651       798186      3   78945       1          2       14   \n",
              "1     2       591911       861056      6  117220       5          9        9   \n",
              "2     3       686990       770762      2  132538       2          8       15   \n",
              "3     4       573999       722381      4  101065       4          3       11   \n",
              "4     5       691388       811335      6   61559       3          9       12   \n",
              "\n",
              "   top speed  hp  torque  current price  \n",
              "0        177  73     123       351318.0  \n",
              "1        148  74      95       285001.5  \n",
              "2        181  53      97       215386.0  \n",
              "3        197  54     116       244295.5  \n",
              "4        160  53     105       531114.5  "
            ],
            "text/html": [
              "\n",
              "  <div id=\"df-5020a79a-a28d-47fe-a6fa-ac7c50f545d8\" class=\"colab-df-container\">\n",
              "    <div>\n",
              "<style scoped>\n",
              "    .dataframe tbody tr th:only-of-type {\n",
              "        vertical-align: middle;\n",
              "    }\n",
              "\n",
              "    .dataframe tbody tr th {\n",
              "        vertical-align: top;\n",
              "    }\n",
              "\n",
              "    .dataframe thead th {\n",
              "        text-align: right;\n",
              "    }\n",
              "</style>\n",
              "<table border=\"1\" class=\"dataframe\">\n",
              "  <thead>\n",
              "    <tr style=\"text-align: right;\">\n",
              "      <th></th>\n",
              "      <th>v.id</th>\n",
              "      <th>on road old</th>\n",
              "      <th>on road now</th>\n",
              "      <th>years</th>\n",
              "      <th>km</th>\n",
              "      <th>rating</th>\n",
              "      <th>condition</th>\n",
              "      <th>economy</th>\n",
              "      <th>top speed</th>\n",
              "      <th>hp</th>\n",
              "      <th>torque</th>\n",
              "      <th>current price</th>\n",
              "    </tr>\n",
              "  </thead>\n",
              "  <tbody>\n",
              "    <tr>\n",
              "      <th>0</th>\n",
              "      <td>1</td>\n",
              "      <td>535651</td>\n",
              "      <td>798186</td>\n",
              "      <td>3</td>\n",
              "      <td>78945</td>\n",
              "      <td>1</td>\n",
              "      <td>2</td>\n",
              "      <td>14</td>\n",
              "      <td>177</td>\n",
              "      <td>73</td>\n",
              "      <td>123</td>\n",
              "      <td>351318.0</td>\n",
              "    </tr>\n",
              "    <tr>\n",
              "      <th>1</th>\n",
              "      <td>2</td>\n",
              "      <td>591911</td>\n",
              "      <td>861056</td>\n",
              "      <td>6</td>\n",
              "      <td>117220</td>\n",
              "      <td>5</td>\n",
              "      <td>9</td>\n",
              "      <td>9</td>\n",
              "      <td>148</td>\n",
              "      <td>74</td>\n",
              "      <td>95</td>\n",
              "      <td>285001.5</td>\n",
              "    </tr>\n",
              "    <tr>\n",
              "      <th>2</th>\n",
              "      <td>3</td>\n",
              "      <td>686990</td>\n",
              "      <td>770762</td>\n",
              "      <td>2</td>\n",
              "      <td>132538</td>\n",
              "      <td>2</td>\n",
              "      <td>8</td>\n",
              "      <td>15</td>\n",
              "      <td>181</td>\n",
              "      <td>53</td>\n",
              "      <td>97</td>\n",
              "      <td>215386.0</td>\n",
              "    </tr>\n",
              "    <tr>\n",
              "      <th>3</th>\n",
              "      <td>4</td>\n",
              "      <td>573999</td>\n",
              "      <td>722381</td>\n",
              "      <td>4</td>\n",
              "      <td>101065</td>\n",
              "      <td>4</td>\n",
              "      <td>3</td>\n",
              "      <td>11</td>\n",
              "      <td>197</td>\n",
              "      <td>54</td>\n",
              "      <td>116</td>\n",
              "      <td>244295.5</td>\n",
              "    </tr>\n",
              "    <tr>\n",
              "      <th>4</th>\n",
              "      <td>5</td>\n",
              "      <td>691388</td>\n",
              "      <td>811335</td>\n",
              "      <td>6</td>\n",
              "      <td>61559</td>\n",
              "      <td>3</td>\n",
              "      <td>9</td>\n",
              "      <td>12</td>\n",
              "      <td>160</td>\n",
              "      <td>53</td>\n",
              "      <td>105</td>\n",
              "      <td>531114.5</td>\n",
              "    </tr>\n",
              "  </tbody>\n",
              "</table>\n",
              "</div>\n",
              "    <div class=\"colab-df-buttons\">\n",
              "\n",
              "  <div class=\"colab-df-container\">\n",
              "    <button class=\"colab-df-convert\" onclick=\"convertToInteractive('df-5020a79a-a28d-47fe-a6fa-ac7c50f545d8')\"\n",
              "            title=\"Convert this dataframe to an interactive table.\"\n",
              "            style=\"display:none;\">\n",
              "\n",
              "  <svg xmlns=\"http://www.w3.org/2000/svg\" height=\"24px\" viewBox=\"0 -960 960 960\">\n",
              "    <path d=\"M120-120v-720h720v720H120Zm60-500h600v-160H180v160Zm220 220h160v-160H400v160Zm0 220h160v-160H400v160ZM180-400h160v-160H180v160Zm440 0h160v-160H620v160ZM180-180h160v-160H180v160Zm440 0h160v-160H620v160Z\"/>\n",
              "  </svg>\n",
              "    </button>\n",
              "\n",
              "  <style>\n",
              "    .colab-df-container {\n",
              "      display:flex;\n",
              "      gap: 12px;\n",
              "    }\n",
              "\n",
              "    .colab-df-convert {\n",
              "      background-color: #E8F0FE;\n",
              "      border: none;\n",
              "      border-radius: 50%;\n",
              "      cursor: pointer;\n",
              "      display: none;\n",
              "      fill: #1967D2;\n",
              "      height: 32px;\n",
              "      padding: 0 0 0 0;\n",
              "      width: 32px;\n",
              "    }\n",
              "\n",
              "    .colab-df-convert:hover {\n",
              "      background-color: #E2EBFA;\n",
              "      box-shadow: 0px 1px 2px rgba(60, 64, 67, 0.3), 0px 1px 3px 1px rgba(60, 64, 67, 0.15);\n",
              "      fill: #174EA6;\n",
              "    }\n",
              "\n",
              "    .colab-df-buttons div {\n",
              "      margin-bottom: 4px;\n",
              "    }\n",
              "\n",
              "    [theme=dark] .colab-df-convert {\n",
              "      background-color: #3B4455;\n",
              "      fill: #D2E3FC;\n",
              "    }\n",
              "\n",
              "    [theme=dark] .colab-df-convert:hover {\n",
              "      background-color: #434B5C;\n",
              "      box-shadow: 0px 1px 3px 1px rgba(0, 0, 0, 0.15);\n",
              "      filter: drop-shadow(0px 1px 2px rgba(0, 0, 0, 0.3));\n",
              "      fill: #FFFFFF;\n",
              "    }\n",
              "  </style>\n",
              "\n",
              "    <script>\n",
              "      const buttonEl =\n",
              "        document.querySelector('#df-5020a79a-a28d-47fe-a6fa-ac7c50f545d8 button.colab-df-convert');\n",
              "      buttonEl.style.display =\n",
              "        google.colab.kernel.accessAllowed ? 'block' : 'none';\n",
              "\n",
              "      async function convertToInteractive(key) {\n",
              "        const element = document.querySelector('#df-5020a79a-a28d-47fe-a6fa-ac7c50f545d8');\n",
              "        const dataTable =\n",
              "          await google.colab.kernel.invokeFunction('convertToInteractive',\n",
              "                                                    [key], {});\n",
              "        if (!dataTable) return;\n",
              "\n",
              "        const docLinkHtml = 'Like what you see? Visit the ' +\n",
              "          '<a target=\"_blank\" href=https://colab.research.google.com/notebooks/data_table.ipynb>data table notebook</a>'\n",
              "          + ' to learn more about interactive tables.';\n",
              "        element.innerHTML = '';\n",
              "        dataTable['output_type'] = 'display_data';\n",
              "        await google.colab.output.renderOutput(dataTable, element);\n",
              "        const docLink = document.createElement('div');\n",
              "        docLink.innerHTML = docLinkHtml;\n",
              "        element.appendChild(docLink);\n",
              "      }\n",
              "    </script>\n",
              "  </div>\n",
              "\n",
              "\n",
              "<div id=\"df-dc2541b6-dce9-4af6-9bfe-d62362a5ed7f\">\n",
              "  <button class=\"colab-df-quickchart\" onclick=\"quickchart('df-dc2541b6-dce9-4af6-9bfe-d62362a5ed7f')\"\n",
              "            title=\"Suggest charts.\"\n",
              "            style=\"display:none;\">\n",
              "\n",
              "<svg xmlns=\"http://www.w3.org/2000/svg\" height=\"24px\"viewBox=\"0 0 24 24\"\n",
              "     width=\"24px\">\n",
              "    <g>\n",
              "        <path d=\"M19 3H5c-1.1 0-2 .9-2 2v14c0 1.1.9 2 2 2h14c1.1 0 2-.9 2-2V5c0-1.1-.9-2-2-2zM9 17H7v-7h2v7zm4 0h-2V7h2v10zm4 0h-2v-4h2v4z\"/>\n",
              "    </g>\n",
              "</svg>\n",
              "  </button>\n",
              "\n",
              "<style>\n",
              "  .colab-df-quickchart {\n",
              "      --bg-color: #E8F0FE;\n",
              "      --fill-color: #1967D2;\n",
              "      --hover-bg-color: #E2EBFA;\n",
              "      --hover-fill-color: #174EA6;\n",
              "      --disabled-fill-color: #AAA;\n",
              "      --disabled-bg-color: #DDD;\n",
              "  }\n",
              "\n",
              "  [theme=dark] .colab-df-quickchart {\n",
              "      --bg-color: #3B4455;\n",
              "      --fill-color: #D2E3FC;\n",
              "      --hover-bg-color: #434B5C;\n",
              "      --hover-fill-color: #FFFFFF;\n",
              "      --disabled-bg-color: #3B4455;\n",
              "      --disabled-fill-color: #666;\n",
              "  }\n",
              "\n",
              "  .colab-df-quickchart {\n",
              "    background-color: var(--bg-color);\n",
              "    border: none;\n",
              "    border-radius: 50%;\n",
              "    cursor: pointer;\n",
              "    display: none;\n",
              "    fill: var(--fill-color);\n",
              "    height: 32px;\n",
              "    padding: 0;\n",
              "    width: 32px;\n",
              "  }\n",
              "\n",
              "  .colab-df-quickchart:hover {\n",
              "    background-color: var(--hover-bg-color);\n",
              "    box-shadow: 0 1px 2px rgba(60, 64, 67, 0.3), 0 1px 3px 1px rgba(60, 64, 67, 0.15);\n",
              "    fill: var(--button-hover-fill-color);\n",
              "  }\n",
              "\n",
              "  .colab-df-quickchart-complete:disabled,\n",
              "  .colab-df-quickchart-complete:disabled:hover {\n",
              "    background-color: var(--disabled-bg-color);\n",
              "    fill: var(--disabled-fill-color);\n",
              "    box-shadow: none;\n",
              "  }\n",
              "\n",
              "  .colab-df-spinner {\n",
              "    border: 2px solid var(--fill-color);\n",
              "    border-color: transparent;\n",
              "    border-bottom-color: var(--fill-color);\n",
              "    animation:\n",
              "      spin 1s steps(1) infinite;\n",
              "  }\n",
              "\n",
              "  @keyframes spin {\n",
              "    0% {\n",
              "      border-color: transparent;\n",
              "      border-bottom-color: var(--fill-color);\n",
              "      border-left-color: var(--fill-color);\n",
              "    }\n",
              "    20% {\n",
              "      border-color: transparent;\n",
              "      border-left-color: var(--fill-color);\n",
              "      border-top-color: var(--fill-color);\n",
              "    }\n",
              "    30% {\n",
              "      border-color: transparent;\n",
              "      border-left-color: var(--fill-color);\n",
              "      border-top-color: var(--fill-color);\n",
              "      border-right-color: var(--fill-color);\n",
              "    }\n",
              "    40% {\n",
              "      border-color: transparent;\n",
              "      border-right-color: var(--fill-color);\n",
              "      border-top-color: var(--fill-color);\n",
              "    }\n",
              "    60% {\n",
              "      border-color: transparent;\n",
              "      border-right-color: var(--fill-color);\n",
              "    }\n",
              "    80% {\n",
              "      border-color: transparent;\n",
              "      border-right-color: var(--fill-color);\n",
              "      border-bottom-color: var(--fill-color);\n",
              "    }\n",
              "    90% {\n",
              "      border-color: transparent;\n",
              "      border-bottom-color: var(--fill-color);\n",
              "    }\n",
              "  }\n",
              "</style>\n",
              "\n",
              "  <script>\n",
              "    async function quickchart(key) {\n",
              "      const quickchartButtonEl =\n",
              "        document.querySelector('#' + key + ' button');\n",
              "      quickchartButtonEl.disabled = true;  // To prevent multiple clicks.\n",
              "      quickchartButtonEl.classList.add('colab-df-spinner');\n",
              "      try {\n",
              "        const charts = await google.colab.kernel.invokeFunction(\n",
              "            'suggestCharts', [key], {});\n",
              "      } catch (error) {\n",
              "        console.error('Error during call to suggestCharts:', error);\n",
              "      }\n",
              "      quickchartButtonEl.classList.remove('colab-df-spinner');\n",
              "      quickchartButtonEl.classList.add('colab-df-quickchart-complete');\n",
              "    }\n",
              "    (() => {\n",
              "      let quickchartButtonEl =\n",
              "        document.querySelector('#df-dc2541b6-dce9-4af6-9bfe-d62362a5ed7f button');\n",
              "      quickchartButtonEl.style.display =\n",
              "        google.colab.kernel.accessAllowed ? 'block' : 'none';\n",
              "    })();\n",
              "  </script>\n",
              "</div>\n",
              "    </div>\n",
              "  </div>\n"
            ]
          },
          "metadata": {},
          "execution_count": 27
        }
      ]
    },
    {
      "cell_type": "code",
      "source": [
        "data.shape"
      ],
      "metadata": {
        "colab": {
          "base_uri": "https://localhost:8080/"
        },
        "id": "mgldY5P3g7Jd",
        "outputId": "2bb129f7-4ccc-4223-e0c8-f4c1c851877d"
      },
      "execution_count": 28,
      "outputs": [
        {
          "output_type": "execute_result",
          "data": {
            "text/plain": [
              "(1000, 12)"
            ]
          },
          "metadata": {},
          "execution_count": 28
        }
      ]
    },
    {
      "cell_type": "code",
      "source": [
        "data.columns"
      ],
      "metadata": {
        "colab": {
          "base_uri": "https://localhost:8080/"
        },
        "id": "vaV2WAK8g9QK",
        "outputId": "67bf777d-23ad-41bf-b1d4-e17d24e40899"
      },
      "execution_count": 29,
      "outputs": [
        {
          "output_type": "execute_result",
          "data": {
            "text/plain": [
              "Index(['v.id', 'on road old', 'on road now', 'years', 'km', 'rating',\n",
              "       'condition', 'economy', 'top speed', 'hp', 'torque', 'current price'],\n",
              "      dtype='object')"
            ]
          },
          "metadata": {},
          "execution_count": 29
        }
      ]
    },
    {
      "cell_type": "markdown",
      "source": [
        "<h3> Convert data to tensors </h3>"
      ],
      "metadata": {
        "id": "9yux5caLhEuY"
      }
    },
    {
      "cell_type": "code",
      "source": [
        "tensor_data = tf.constant(data)"
      ],
      "metadata": {
        "id": "XOpvyQ3YhAtq"
      },
      "execution_count": 30,
      "outputs": []
    },
    {
      "cell_type": "code",
      "source": [
        "\n",
        "tensor_data.dtype"
      ],
      "metadata": {
        "colab": {
          "base_uri": "https://localhost:8080/"
        },
        "id": "yx1RCMgThNg_",
        "outputId": "dfd18c40-eab1-48ff-c584-511e068c15ef"
      },
      "execution_count": 31,
      "outputs": [
        {
          "output_type": "execute_result",
          "data": {
            "text/plain": [
              "tf.float64"
            ]
          },
          "metadata": {},
          "execution_count": 31
        }
      ]
    },
    {
      "cell_type": "code",
      "source": [
        "tensor_data = tf.cast(tensor_data, tf.float32)\n",
        "tensor_data.dtype"
      ],
      "metadata": {
        "colab": {
          "base_uri": "https://localhost:8080/"
        },
        "id": "kL-3-6sVhPBQ",
        "outputId": "2593729f-5583-4a10-b47b-131e0e5492e8"
      },
      "execution_count": 32,
      "outputs": [
        {
          "output_type": "execute_result",
          "data": {
            "text/plain": [
              "tf.float32"
            ]
          },
          "metadata": {},
          "execution_count": 32
        }
      ]
    },
    {
      "cell_type": "code",
      "source": [
        "tensor_data[:5]"
      ],
      "metadata": {
        "colab": {
          "base_uri": "https://localhost:8080/"
        },
        "id": "eCyKSg5jhV_m",
        "outputId": "c2c66540-2963-4d46-f9b0-1b50e844c492"
      },
      "execution_count": 33,
      "outputs": [
        {
          "output_type": "execute_result",
          "data": {
            "text/plain": [
              "<tf.Tensor: shape=(5, 12), dtype=float32, numpy=\n",
              "array([[1.000000e+00, 5.356510e+05, 7.981860e+05, 3.000000e+00,\n",
              "        7.894500e+04, 1.000000e+00, 2.000000e+00, 1.400000e+01,\n",
              "        1.770000e+02, 7.300000e+01, 1.230000e+02, 3.513180e+05],\n",
              "       [2.000000e+00, 5.919110e+05, 8.610560e+05, 6.000000e+00,\n",
              "        1.172200e+05, 5.000000e+00, 9.000000e+00, 9.000000e+00,\n",
              "        1.480000e+02, 7.400000e+01, 9.500000e+01, 2.850015e+05],\n",
              "       [3.000000e+00, 6.869900e+05, 7.707620e+05, 2.000000e+00,\n",
              "        1.325380e+05, 2.000000e+00, 8.000000e+00, 1.500000e+01,\n",
              "        1.810000e+02, 5.300000e+01, 9.700000e+01, 2.153860e+05],\n",
              "       [4.000000e+00, 5.739990e+05, 7.223810e+05, 4.000000e+00,\n",
              "        1.010650e+05, 4.000000e+00, 3.000000e+00, 1.100000e+01,\n",
              "        1.970000e+02, 5.400000e+01, 1.160000e+02, 2.442955e+05],\n",
              "       [5.000000e+00, 6.913880e+05, 8.113350e+05, 6.000000e+00,\n",
              "        6.155900e+04, 3.000000e+00, 9.000000e+00, 1.200000e+01,\n",
              "        1.600000e+02, 5.300000e+01, 1.050000e+02, 5.311145e+05]],\n",
              "      dtype=float32)>"
            ]
          },
          "metadata": {},
          "execution_count": 33
        }
      ]
    },
    {
      "cell_type": "markdown",
      "source": [
        "<h3> Separating X, y"
      ],
      "metadata": {
        "id": "cU7KPS0phkr6"
      }
    },
    {
      "cell_type": "code",
      "source": [
        "X = tensor_data[:, 3:-1]\n",
        "y = tensor_data[:, -1]\n",
        "\n",
        "print(f\"X shape: {X.shape}, y shape: {y.shape}\")"
      ],
      "metadata": {
        "colab": {
          "base_uri": "https://localhost:8080/"
        },
        "id": "tDd8s2H8haXm",
        "outputId": "e0a00097-00fb-481d-83bc-729e9f8995e6"
      },
      "execution_count": 34,
      "outputs": [
        {
          "output_type": "stream",
          "name": "stdout",
          "text": [
            "X shape: (1000, 8), y shape: (1000,)\n"
          ]
        }
      ]
    },
    {
      "cell_type": "code",
      "source": [
        "# adding a dimension to y"
      ],
      "metadata": {
        "id": "bXgpgklPhyPJ"
      },
      "execution_count": 10,
      "outputs": []
    },
    {
      "cell_type": "code",
      "source": [
        "y[:5]"
      ],
      "metadata": {
        "colab": {
          "base_uri": "https://localhost:8080/"
        },
        "id": "SxTQps9Bh3m8",
        "outputId": "0fadbd5f-5431-4dc9-c128-287971fc3c5c"
      },
      "execution_count": 35,
      "outputs": [
        {
          "output_type": "execute_result",
          "data": {
            "text/plain": [
              "<tf.Tensor: shape=(5,), dtype=float32, numpy=array([351318. , 285001.5, 215386. , 244295.5, 531114.5], dtype=float32)>"
            ]
          },
          "metadata": {},
          "execution_count": 35
        }
      ]
    },
    {
      "cell_type": "code",
      "source": [
        "y = tf.expand_dims(y, axis = -1)\n",
        "y[:5]"
      ],
      "metadata": {
        "colab": {
          "base_uri": "https://localhost:8080/"
        },
        "id": "Tk7SGVwDh5oI",
        "outputId": "455fc225-d0a5-4990-f612-8a4254961c80"
      },
      "execution_count": 36,
      "outputs": [
        {
          "output_type": "execute_result",
          "data": {
            "text/plain": [
              "<tf.Tensor: shape=(5, 1), dtype=float32, numpy=\n",
              "array([[351318. ],\n",
              "       [285001.5],\n",
              "       [215386. ],\n",
              "       [244295.5],\n",
              "       [531114.5]], dtype=float32)>"
            ]
          },
          "metadata": {},
          "execution_count": 36
        }
      ]
    },
    {
      "cell_type": "code",
      "source": [
        "y.shape"
      ],
      "metadata": {
        "colab": {
          "base_uri": "https://localhost:8080/"
        },
        "id": "0VF78ggHlqff",
        "outputId": "5cd41186-559c-4f61-998f-18851129de1d"
      },
      "execution_count": 37,
      "outputs": [
        {
          "output_type": "execute_result",
          "data": {
            "text/plain": [
              "TensorShape([1000, 1])"
            ]
          },
          "metadata": {},
          "execution_count": 37
        }
      ]
    },
    {
      "cell_type": "markdown",
      "source": [
        "<h3> Normalizing the data </h3>"
      ],
      "metadata": {
        "id": "AQnKxez6iCtP"
      }
    },
    {
      "cell_type": "code",
      "source": [
        "from tensorflow.keras.layers import Normalization"
      ],
      "metadata": {
        "id": "Wjh9nhNOiA0P"
      },
      "execution_count": 38,
      "outputs": []
    },
    {
      "cell_type": "code",
      "source": [
        "normalizer = Normalization()\n",
        "x_normalized = tf.constant([[3,4,5,6,7],\n",
        "                            [4,10,6,7,8],\n",
        "                            [32,1,56,3,5]])\n",
        "normalizer.adapt(x_normalized)\n",
        "normalizer(x_normalized)"
      ],
      "metadata": {
        "colab": {
          "base_uri": "https://localhost:8080/"
        },
        "id": "EJGTtuXiiqqt",
        "outputId": "ddc7c428-d967-419f-c028-799ba2554d9b"
      },
      "execution_count": 39,
      "outputs": [
        {
          "output_type": "execute_result",
          "data": {
            "text/plain": [
              "<tf.Tensor: shape=(3, 5), dtype=float32, numpy=\n",
              "array([[-0.7439795 , -0.26726124, -0.72800297,  0.3922322 ,  0.2672614 ],\n",
              "       [-0.6695816 ,  1.3363062 , -0.6860028 ,  0.9805806 ,  1.0690452 ],\n",
              "       [ 1.4135611 , -1.069045  ,  1.4140056 , -1.3728131 , -1.3363061 ]],\n",
              "      dtype=float32)>"
            ]
          },
          "metadata": {},
          "execution_count": 39
        }
      ]
    },
    {
      "cell_type": "markdown",
      "source": [
        "back to X, y"
      ],
      "metadata": {
        "id": "2o-NJqjpjNJx"
      }
    },
    {
      "cell_type": "code",
      "source": [
        "X.shape, y.shape"
      ],
      "metadata": {
        "colab": {
          "base_uri": "https://localhost:8080/"
        },
        "id": "7H--is0NjBw_",
        "outputId": "f5c14bc8-6802-422d-99d3-f2af9ff78069"
      },
      "execution_count": 40,
      "outputs": [
        {
          "output_type": "execute_result",
          "data": {
            "text/plain": [
              "(TensorShape([1000, 8]), TensorShape([1000, 1]))"
            ]
          },
          "metadata": {},
          "execution_count": 40
        }
      ]
    },
    {
      "cell_type": "code",
      "source": [
        "# training hyperparameters\n",
        "\n",
        "TRAIN_RATIO = 0.8\n",
        "VAL_RATIO = 0.1\n",
        "TEST_RATIO = 0.1\n",
        "DATASET_SIZE = len(X)\n",
        "\n",
        "len(X)"
      ],
      "metadata": {
        "colab": {
          "base_uri": "https://localhost:8080/"
        },
        "id": "P_u1EZvulHXI",
        "outputId": "5b05be24-d4ea-4861-97ac-eadaf6a732f5"
      },
      "execution_count": 41,
      "outputs": [
        {
          "output_type": "execute_result",
          "data": {
            "text/plain": [
              "1000"
            ]
          },
          "metadata": {},
          "execution_count": 41
        }
      ]
    },
    {
      "cell_type": "code",
      "source": [
        "X_train = X[: int(DATASET_SIZE * TRAIN_RATIO)]\n",
        "y_train = y[: int(DATASET_SIZE * TRAIN_RATIO)]\n",
        "\n",
        "X_train.shape, y_train.shape"
      ],
      "metadata": {
        "colab": {
          "base_uri": "https://localhost:8080/"
        },
        "id": "MCTh6DS7lp_G",
        "outputId": "610c9318-685a-435e-b64a-b2295f257998"
      },
      "execution_count": 43,
      "outputs": [
        {
          "output_type": "execute_result",
          "data": {
            "text/plain": [
              "(TensorShape([800, 8]), TensorShape([800, 1]))"
            ]
          },
          "metadata": {},
          "execution_count": 43
        }
      ]
    },
    {
      "cell_type": "markdown",
      "source": [
        "<b> to make dataset, we use `tf.data.Dataset.from_tensor_slices(...)` </b>"
      ],
      "metadata": {
        "id": "vyTlJGKDq-DH"
      }
    },
    {
      "cell_type": "code",
      "source": [
        "train_dataset = tf.data.Dataset.from_tensor_slices((X_train, y_train))"
      ],
      "metadata": {
        "id": "OdbP3es5m6k_"
      },
      "execution_count": 45,
      "outputs": []
    },
    {
      "cell_type": "code",
      "source": [
        "# shuffle dataset\n",
        "\n",
        "train_dataset = train_dataset.shuffle(buffer_size = 8, reshuffle_each_iteration = True).batch(32).prefetch(tf.data.AUTOTUNE)"
      ],
      "metadata": {
        "id": "KrN5Xf5CrRz7"
      },
      "execution_count": 46,
      "outputs": []
    },
    {
      "cell_type": "code",
      "source": [
        "for x_, y_ in train_dataset:\n",
        "  print(f\" x : {x}\\n\\n  y: {y}\")\n",
        "  break"
      ],
      "metadata": {
        "id": "QF1ZM3rVrSs_"
      },
      "execution_count": null,
      "outputs": []
    },
    {
      "cell_type": "markdown",
      "source": [
        "<b> Validation data </b>"
      ],
      "metadata": {
        "id": "_UX8JNg9kkRg"
      }
    },
    {
      "cell_type": "code",
      "source": [
        "X_val = X[int(DATASET_SIZE*TRAIN_RATIO):int(DATASET_SIZE*(TRAIN_RATIO+VAL_RATIO))]\n",
        "y_val = y[int(DATASET_SIZE*TRAIN_RATIO):int(DATASET_SIZE*(TRAIN_RATIO+VAL_RATIO))]\n",
        "print(X_val.shape)\n",
        "print(y_val.shape)"
      ],
      "metadata": {
        "colab": {
          "base_uri": "https://localhost:8080/"
        },
        "id": "wwaAsB99lGyM",
        "outputId": "c230814d-8965-4ac8-841a-48d0fbcd079a"
      },
      "execution_count": 22,
      "outputs": [
        {
          "output_type": "stream",
          "name": "stdout",
          "text": [
            "(100, 8)\n",
            "(0, 1)\n"
          ]
        }
      ]
    },
    {
      "cell_type": "code",
      "source": [
        "X_val = X[int(TRAIN_RATIO * DATASET_SIZE) : int((TRAIN_RATIO + VAL_RATIO) * DATASET_SIZE)]\n",
        "y_val = y[int(TRAIN_RATIO * DATASET_SIZE) : int((TRAIN_RATIO + VAL_RATIO) * DATASET_SIZE)]\n",
        "\n",
        "print(X_val.shape)\n",
        "print(y_val.shape)"
      ],
      "metadata": {
        "colab": {
          "base_uri": "https://localhost:8080/"
        },
        "id": "vi6XWKjblbR2",
        "outputId": "03941709-caa4-4df8-8045-6384d5892860"
      },
      "execution_count": 50,
      "outputs": [
        {
          "output_type": "stream",
          "name": "stdout",
          "text": [
            "(100, 8)\n",
            "(100, 1)\n"
          ]
        }
      ]
    },
    {
      "cell_type": "markdown",
      "source": [
        "<b> Using `Dataset` API"
      ],
      "metadata": {
        "id": "pcOkPso1mUxV"
      }
    },
    {
      "cell_type": "code",
      "source": [
        "val_dataset = tf.data.Dataset.from_tensor_slices((X_val, y_val))"
      ],
      "metadata": {
        "id": "xAqYWnoKmRuw"
      },
      "execution_count": 51,
      "outputs": []
    },
    {
      "cell_type": "code",
      "source": [
        "val_dataset = val_dataset.shuffle(buffer_size = 8, reshuffle_each_iteration = True).batch(32).prefetch(tf.data.AUTOTUNE)"
      ],
      "metadata": {
        "id": "BIByLygcmuxS"
      },
      "execution_count": 52,
      "outputs": []
    },
    {
      "cell_type": "markdown",
      "source": [
        "<b> Test data </b>"
      ],
      "metadata": {
        "id": "2HgMaGkzoXkm"
      }
    },
    {
      "cell_type": "code",
      "source": [
        "X_test = X[int((TRAIN_RATIO + VAL_RATIO) * DATASET_SIZE): ]\n",
        "y_test = y[int((TRAIN_RATIO + VAL_RATIO) * DATASET_SIZE): ]\n",
        "\n",
        "print(X_test.shape)\n",
        "print(y_test.shape)"
      ],
      "metadata": {
        "colab": {
          "base_uri": "https://localhost:8080/"
        },
        "id": "jmeBq6qLnAUB",
        "outputId": "c4457f2d-af39-4965-abea-f395af144634"
      },
      "execution_count": 53,
      "outputs": [
        {
          "output_type": "stream",
          "name": "stdout",
          "text": [
            "(100, 8)\n",
            "(100, 1)\n"
          ]
        }
      ]
    },
    {
      "cell_type": "code",
      "source": [
        "test_dataset = tf.data.Dataset.from_tensor_slices((X_test, y_test))"
      ],
      "metadata": {
        "id": "TNRENprloVDX"
      },
      "execution_count": 54,
      "outputs": []
    },
    {
      "cell_type": "code",
      "source": [
        "test_dataset = test_dataset.shuffle(buffer_size=8, reshuffle_each_iteration=True).batch(32).prefetch(tf.data.AUTOTUNE)"
      ],
      "metadata": {
        "id": "hijiHgY8orpD"
      },
      "execution_count": 55,
      "outputs": []
    },
    {
      "cell_type": "markdown",
      "source": [
        "<h2> <b> Normalizing the data </b> </h2>"
      ],
      "metadata": {
        "id": "IAG-Wx4Uo_2-"
      }
    },
    {
      "cell_type": "code",
      "source": [
        "normalizer = Normalization()\n",
        "normalizer.adapt(X_train)"
      ],
      "metadata": {
        "id": "7ntjQezio8WD"
      },
      "execution_count": 56,
      "outputs": []
    },
    {
      "cell_type": "code",
      "source": [
        "normalizer(X_train)[:5]"
      ],
      "metadata": {
        "colab": {
          "base_uri": "https://localhost:8080/"
        },
        "id": "4EeYJyaCp8TG",
        "outputId": "4004484d-b85a-4377-f0d9-a261be2baabb"
      },
      "execution_count": 57,
      "outputs": [
        {
          "output_type": "execute_result",
          "data": {
            "text/plain": [
              "<tf.Tensor: shape=(5, 8), dtype=float32, numpy=\n",
              "array([[-0.9117587 , -0.6980475 , -1.4046502 , -1.2859719 ,  1.0915861 ,\n",
              "         0.51316994, -0.5755059 ,  0.9342201 ],\n",
              "       [ 0.8304557 ,  0.6154479 ,  1.3976449 ,  1.1964287 , -1.1406957 ,\n",
              "        -0.9875903 , -0.526438  , -0.38756672],\n",
              "       [-1.4924968 ,  1.1411206 , -0.7040764 ,  0.8418    ,  1.5380424 ,\n",
              "         0.72017133, -1.5568651 , -0.29315338],\n",
              "       [-0.33102056,  0.06105158,  0.69707114, -0.93134326, -0.24778299,\n",
              "         1.548177  , -1.5077971 ,  0.60377336],\n",
              "       [ 0.8304557 , -1.2946885 , -0.00350262,  1.1964287 ,  0.19867337,\n",
              "        -0.36658606, -1.5568651 ,  0.08449998]], dtype=float32)>"
            ]
          },
          "metadata": {},
          "execution_count": 57
        }
      ]
    },
    {
      "cell_type": "code",
      "source": [
        "normalizer(X)[:5]"
      ],
      "metadata": {
        "colab": {
          "base_uri": "https://localhost:8080/"
        },
        "id": "pWe09b0xqCQ8",
        "outputId": "13f4a728-1cad-4946-dcb9-cd4ac1be644f"
      },
      "execution_count": 58,
      "outputs": [
        {
          "output_type": "execute_result",
          "data": {
            "text/plain": [
              "<tf.Tensor: shape=(5, 8), dtype=float32, numpy=\n",
              "array([[-0.9117587 , -0.6980475 , -1.4046502 , -1.2859719 ,  1.0915861 ,\n",
              "         0.51316994, -0.5755059 ,  0.9342201 ],\n",
              "       [ 0.8304557 ,  0.6154479 ,  1.3976449 ,  1.1964287 , -1.1406957 ,\n",
              "        -0.9875903 , -0.526438  , -0.38756672],\n",
              "       [-1.4924968 ,  1.1411206 , -0.7040764 ,  0.8418    ,  1.5380424 ,\n",
              "         0.72017133, -1.5568651 , -0.29315338],\n",
              "       [-0.33102056,  0.06105158,  0.69707114, -0.93134326, -0.24778299,\n",
              "         1.548177  , -1.5077971 ,  0.60377336],\n",
              "       [ 0.8304557 , -1.2946885 , -0.00350262,  1.1964287 ,  0.19867337,\n",
              "        -0.36658606, -1.5568651 ,  0.08449998]], dtype=float32)>"
            ]
          },
          "metadata": {},
          "execution_count": 58
        }
      ]
    },
    {
      "cell_type": "code",
      "source": [
        "X_train[:5]"
      ],
      "metadata": {
        "colab": {
          "base_uri": "https://localhost:8080/"
        },
        "id": "AgOW3VwxqHLR",
        "outputId": "7324b588-c986-4d27-d7c6-af50ccacc7c1"
      },
      "execution_count": 60,
      "outputs": [
        {
          "output_type": "execute_result",
          "data": {
            "text/plain": [
              "<tf.Tensor: shape=(5, 8), dtype=float32, numpy=\n",
              "array([[3.00000e+00, 7.89450e+04, 1.00000e+00, 2.00000e+00, 1.40000e+01,\n",
              "        1.77000e+02, 7.30000e+01, 1.23000e+02],\n",
              "       [6.00000e+00, 1.17220e+05, 5.00000e+00, 9.00000e+00, 9.00000e+00,\n",
              "        1.48000e+02, 7.40000e+01, 9.50000e+01],\n",
              "       [2.00000e+00, 1.32538e+05, 2.00000e+00, 8.00000e+00, 1.50000e+01,\n",
              "        1.81000e+02, 5.30000e+01, 9.70000e+01],\n",
              "       [4.00000e+00, 1.01065e+05, 4.00000e+00, 3.00000e+00, 1.10000e+01,\n",
              "        1.97000e+02, 5.40000e+01, 1.16000e+02],\n",
              "       [6.00000e+00, 6.15590e+04, 3.00000e+00, 9.00000e+00, 1.20000e+01,\n",
              "        1.60000e+02, 5.30000e+01, 1.05000e+02]], dtype=float32)>"
            ]
          },
          "metadata": {},
          "execution_count": 60
        }
      ]
    },
    {
      "cell_type": "code",
      "source": [
        "X[:5]"
      ],
      "metadata": {
        "colab": {
          "base_uri": "https://localhost:8080/"
        },
        "id": "e1KkmQJcqL-o",
        "outputId": "9a2d3ea2-070d-4258-ea81-b9e59cfaf6f0"
      },
      "execution_count": 61,
      "outputs": [
        {
          "output_type": "execute_result",
          "data": {
            "text/plain": [
              "<tf.Tensor: shape=(5, 8), dtype=float32, numpy=\n",
              "array([[3.00000e+00, 7.89450e+04, 1.00000e+00, 2.00000e+00, 1.40000e+01,\n",
              "        1.77000e+02, 7.30000e+01, 1.23000e+02],\n",
              "       [6.00000e+00, 1.17220e+05, 5.00000e+00, 9.00000e+00, 9.00000e+00,\n",
              "        1.48000e+02, 7.40000e+01, 9.50000e+01],\n",
              "       [2.00000e+00, 1.32538e+05, 2.00000e+00, 8.00000e+00, 1.50000e+01,\n",
              "        1.81000e+02, 5.30000e+01, 9.70000e+01],\n",
              "       [4.00000e+00, 1.01065e+05, 4.00000e+00, 3.00000e+00, 1.10000e+01,\n",
              "        1.97000e+02, 5.40000e+01, 1.16000e+02],\n",
              "       [6.00000e+00, 6.15590e+04, 3.00000e+00, 9.00000e+00, 1.20000e+01,\n",
              "        1.60000e+02, 5.30000e+01, 1.05000e+02]], dtype=float32)>"
            ]
          },
          "metadata": {},
          "execution_count": 61
        }
      ]
    },
    {
      "cell_type": "markdown",
      "source": [
        "<h2> <b> Model Creation and Training </b> </h2>"
      ],
      "metadata": {
        "id": "3Ve5xhnsqzhm"
      }
    },
    {
      "cell_type": "code",
      "source": [
        "from tensorflow.keras.layers import Dense, InputLayer\n",
        "\n",
        "model = tf.keras.Sequential([\n",
        "    InputLayer(input_shape = (8,)),  # input has 8 features and unknown rows\n",
        "    normalizer,\n",
        "    Dense(128, activation = \"relu\"),\n",
        "    Dense(128, activation = \"relu\"),\n",
        "    Dense(128, activation = \"relu\"),\n",
        "    Dense(1)\n",
        "])\n",
        "\n",
        "model.summary()"
      ],
      "metadata": {
        "colab": {
          "base_uri": "https://localhost:8080/"
        },
        "id": "8uzlDvBlqPnb",
        "outputId": "c6931385-82e8-4c83-f8f3-c5fd3add98e8"
      },
      "execution_count": 64,
      "outputs": [
        {
          "output_type": "stream",
          "name": "stdout",
          "text": [
            "Model: \"sequential_1\"\n",
            "_________________________________________________________________\n",
            " Layer (type)                Output Shape              Param #   \n",
            "=================================================================\n",
            " normalization_2 (Normalizat  (None, 8)                17        \n",
            " ion)                                                            \n",
            "                                                                 \n",
            " dense (Dense)               (None, 128)               1152      \n",
            "                                                                 \n",
            " dense_1 (Dense)             (None, 128)               16512     \n",
            "                                                                 \n",
            " dense_2 (Dense)             (None, 128)               16512     \n",
            "                                                                 \n",
            " dense_3 (Dense)             (None, 1)                 129       \n",
            "                                                                 \n",
            "=================================================================\n",
            "Total params: 34,322\n",
            "Trainable params: 34,305\n",
            "Non-trainable params: 17\n",
            "_________________________________________________________________\n"
          ]
        }
      ]
    },
    {
      "cell_type": "markdown",
      "source": [
        "<b> Plotting the model </b>"
      ],
      "metadata": {
        "id": "wt1Kw0bps7Q1"
      }
    },
    {
      "cell_type": "code",
      "source": [
        "tf.keras.utils.plot_model(model=model, to_file=\"model.png\", show_shapes=True)"
      ],
      "metadata": {
        "colab": {
          "base_uri": "https://localhost:8080/",
          "height": 644
        },
        "id": "Sehvn42irevL",
        "outputId": "5b379419-e0bd-4f85-d4c6-77380370070d"
      },
      "execution_count": 65,
      "outputs": [
        {
          "output_type": "execute_result",
          "data": {
            "image/png": "[encoded data removed]",
            "text/plain": [
              "<IPython.core.display.Image object>"
            ]
          },
          "metadata": {},
          "execution_count": 65
        }
      ]
    },
    {
      "cell_type": "code",
      "source": [],
      "metadata": {
        "id": "bl3c8TYWtKzd"
      },
      "execution_count": null,
      "outputs": []
    }
  ]
}